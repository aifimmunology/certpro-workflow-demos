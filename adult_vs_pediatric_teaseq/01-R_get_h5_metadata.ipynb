{
 "cells": [
  {
   "cell_type": "markdown",
   "id": "06cb5601-bf1c-4c6a-b94a-96ba3ddc26b4",
   "metadata": {},
   "source": [
    "# Retrieve RNA and ADT Metadata\n",
    "\n",
    "To begin our analysis, we'll retrieve the .h5 files that contain RNA and ADT data and metadata after our TEA-seq QC and demultiplexing pipeline. We'll then extract the metadata for cells to use for cell filtering and QC plots."
   ]
  },
  {
   "cell_type": "markdown",
   "id": "efee75ae-17b4-44f4-940d-162286339071",
   "metadata": {},
   "source": [
    "## Setup"
   ]
  },
  {
   "cell_type": "markdown",
   "id": "bd55408c-9690-4ad5-a79d-3d55b33eeaf2",
   "metadata": {},
   "source": [
    "Install BarMixer if not present. BarMixer is an R package that is part of the BarWare tools for barcoded scRNA-seq data, and has helper functions for easily reading cell metadata from our .h5 files.\n",
    "\n",
    "BarMixer repository: https://github.com/AllenInstitute/BarMixer  \n",
    "BarWare paper: [Swanson, et al., BMC Bioinformatics (2022)](https://bmcbioinformatics.biomedcentral.com/articles/10.1186/s12859-022-04620-2)"
   ]
  },
  {
   "cell_type": "code",
   "execution_count": 1,
   "id": "098a2857-a45b-465f-8125-e680363d86c7",
   "metadata": {},
   "outputs": [],
   "source": [
    "ip <- installed.packages()\n",
    "if(!\"BarMixer\" %in% rownames(ip)) {\n",
    "    devtools::install_github(\n",
    "        \"alleninstitute/BarMixer\",\n",
    "        upgrade = \"never\"\n",
    "    )\n",
    "}"
   ]
  },
  {
   "cell_type": "markdown",
   "id": "2967d0cb-afdb-4c62-907d-09b7e72a9bd9",
   "metadata": {},
   "source": [
    "## Load packages\n",
    "\n",
    "hise: The Human Immune System Explorer R SDK package  \n",
    "BarMixer: .h5 file handling  \n",
    "purrr: Functional programming tools  \n"
   ]
  },
  {
   "cell_type": "code",
   "execution_count": 2,
   "id": "74053ca6-2556-4a1e-a18a-7ae6a72b16a1",
   "metadata": {},
   "outputs": [],
   "source": [
    "quiet_library <- function(...) { suppressPackageStartupMessages(library(...)) }\n",
    "quiet_library(hise)\n",
    "quiet_library(BarMixer)\n",
    "quiet_library(purrr)"
   ]
  },
  {
   "cell_type": "code",
   "execution_count": 3,
   "id": "40a7037e-54de-4815-9985-ccd8041696a5",
   "metadata": {},
   "outputs": [],
   "source": [
    "read_path_uuid <- function(uuid) {\n",
    "    uuid_path <- paste0(\"cache/\", uuid)\n",
    "    if(!dir.exists(uuid_path)) {\n",
    "        cacheFiles(list(uuid))\n",
    "    }\n",
    "    list.files(uuid_path, full.names = TRUE)[1]\n",
    "}"
   ]
  },
  {
   "cell_type": "code",
   "execution_count": 4,
   "id": "4cc860ab-e665-4917-8652-0062fa8deb2e",
   "metadata": {},
   "outputs": [],
   "source": [
    "read_csv_uuid <- function(uuid) {\n",
    "    filename <- read_path_uuid(uuid)\n",
    "    read.csv(filename)\n",
    "}"
   ]
  },
  {
   "cell_type": "markdown",
   "id": "a64b2542-9c6b-4ced-b580-7d8a2112856b",
   "metadata": {},
   "source": [
    "## Get file metadata stored in HISE"
   ]
  },
  {
   "cell_type": "code",
   "execution_count": 5,
   "id": "1f7b374a-7aca-432b-a8dd-c0da437c5d9e",
   "metadata": {},
   "outputs": [],
   "source": [
    "meta_uuid <- \"5e3115d4-9207-4020-8e3a-3792dd28ea6b\"\n",
    "sample_meta <- read_csv_uuid(meta_uuid)"
   ]
  },
  {
   "cell_type": "markdown",
   "id": "c9b2868d-a8f0-4cbf-b536-10883f5f26d1",
   "metadata": {},
   "source": [
    "## Retrieve files\n",
    "\n",
    "Now, we'll use the HISE SDK package to retrieve the TEA-seq .h5 file outputs based on their file UUIDs. These will be placed in the `cache/` subdirectory by default."
   ]
  },
  {
   "cell_type": "code",
   "execution_count": 6,
   "id": "551b3376-2b07-4d5b-b196-5bc53090bcef",
   "metadata": {},
   "outputs": [],
   "source": [
    "h5_files <- map_chr(\n",
    "    sample_meta$rna_file.id,\n",
    "    read_path_uuid\n",
    ")"
   ]
  },
  {
   "cell_type": "markdown",
   "id": "a650faec-5bfa-4770-b4ad-f0ff86742b69",
   "metadata": {},
   "source": [
    "## Assemble metadata\n",
    "\n",
    "Here, we list each of the files in `cache/` and read cell metadata using the BarMixer function `read_h5_cell_meta()`. purrr's `map_dfr()` handles iteration over the files, and assembles a single table with metadata for all cells by row concatenation."
   ]
  },
  {
   "cell_type": "code",
   "execution_count": 7,
   "id": "ee73148e-fad3-436b-8a1d-f0a7954f12f8",
   "metadata": {},
   "outputs": [],
   "source": [
    "all_metadata <- map_dfr(\n",
    "    h5_files,\n",
    "    read_h5_cell_meta\n",
    ")"
   ]
  },
  {
   "cell_type": "code",
   "execution_count": 8,
   "id": "e29518fa-4dd3-4e43-a9e1-5329b552b6aa",
   "metadata": {},
   "outputs": [
    {
     "data": {
      "text/html": [
       "<table class=\"dataframe\">\n",
       "<caption>A data.frame: 6 × 21</caption>\n",
       "<thead>\n",
       "\t<tr><th></th><th scope=col>barcodes</th><th scope=col>adt_qc_flag</th><th scope=col>adt_umis</th><th scope=col>batch_id</th><th scope=col>cell_name</th><th scope=col>chip_id</th><th scope=col>hto_barcode</th><th scope=col>hto_category</th><th scope=col>n_genes</th><th scope=col>n_mito_umis</th><th scope=col>⋯</th><th scope=col>n_umis</th><th scope=col>original_barcodes</th><th scope=col>pbmc_sample_id</th><th scope=col>pool_id</th><th scope=col>rna_cell_uuid</th><th scope=col>seurat_pbmc_type</th><th scope=col>seurat_pbmc_type_score</th><th scope=col>umap_1</th><th scope=col>umap_2</th><th scope=col>well_id</th></tr>\n",
       "\t<tr><th></th><th scope=col>&lt;chr&gt;</th><th scope=col>&lt;chr&gt;</th><th scope=col>&lt;int&gt;</th><th scope=col>&lt;chr&gt;</th><th scope=col>&lt;chr&gt;</th><th scope=col>&lt;chr&gt;</th><th scope=col>&lt;chr&gt;</th><th scope=col>&lt;chr&gt;</th><th scope=col>&lt;int&gt;</th><th scope=col>&lt;int&gt;</th><th scope=col>⋯</th><th scope=col>&lt;int&gt;</th><th scope=col>&lt;chr&gt;</th><th scope=col>&lt;chr&gt;</th><th scope=col>&lt;chr&gt;</th><th scope=col>&lt;chr&gt;</th><th scope=col>&lt;chr&gt;</th><th scope=col>&lt;dbl&gt;</th><th scope=col>&lt;dbl&gt;</th><th scope=col>&lt;dbl&gt;</th><th scope=col>&lt;chr&gt;</th></tr>\n",
       "</thead>\n",
       "<tbody>\n",
       "\t<tr><th scope=row>1</th><td>dc61da0a31b011ef80e742c13d66f8da</td><td>Good</td><td>4196</td><td>B065</td><td>predacious_direful_terrier    </td><td>B065-P1C1</td><td>AGTAAGTTCAGCGTA</td><td>singlet</td><td>1587</td><td>304</td><td>⋯</td><td>3572</td><td>AAACAGCCAATTTGGT</td><td>PB00395-02</td><td>B065-P1</td><td>73476db231bc11efbd03567616973a79</td><td>CD8 effector</td><td>0.4440226</td><td> 0.8125938</td><td>-10.7439552</td><td>B065-P1C1W1</td></tr>\n",
       "\t<tr><th scope=row>2</th><td>dc687e5a31b011ef80e742c13d66f8da</td><td>Good</td><td>4066</td><td>B065</td><td>oozy_copacetic_frogmouth      </td><td>B065-P1C1</td><td>AGTAAGTTCAGCGTA</td><td>singlet</td><td>1437</td><td>454</td><td>⋯</td><td>2959</td><td>AAACCGAAGGAGCAAC</td><td>PB00395-02</td><td>B065-P1</td><td>734772d031bc11efbd03567616973a79</td><td>CD8 Naive   </td><td>0.3389567</td><td> 0.2985880</td><td>  6.8719075</td><td>B065-P1C1W1</td></tr>\n",
       "\t<tr><th scope=row>3</th><td>dc6d9d6831b011ef80e742c13d66f8da</td><td>Good</td><td>2489</td><td>B065</td><td>genius_atrophic_silkworm      </td><td>B065-P1C1</td><td>AGTAAGTTCAGCGTA</td><td>singlet</td><td>1783</td><td>289</td><td>⋯</td><td>3605</td><td>AAACGCGCAAACTAAG</td><td>PB00395-02</td><td>B065-P1</td><td>73477bf431bc11efbd03567616973a79</td><td>CD4 Memory  </td><td>0.8498093</td><td> 0.1556549</td><td> -0.8671478</td><td>B065-P1C1W1</td></tr>\n",
       "\t<tr><th scope=row>4</th><td>dc6f966831b011ef80e742c13d66f8da</td><td>Good</td><td>1684</td><td>B065</td><td>glamorous_immediate_blacklemur</td><td>B065-P1C1</td><td>AGTAAGTTCAGCGTA</td><td>singlet</td><td>1093</td><td>127</td><td>⋯</td><td>2004</td><td>AAACGCGCATTGTCCT</td><td>PB00395-02</td><td>B065-P1</td><td>73477f0a31bc11efbd03567616973a79</td><td>CD4 Memory  </td><td>0.5115535</td><td>-0.9462299</td><td>  4.3294579</td><td>B065-P1C1W1</td></tr>\n",
       "\t<tr><th scope=row>5</th><td>dc79690431b011ef80e742c13d66f8da</td><td>Good</td><td>3756</td><td>B065</td><td>juiced_amiable_waterdogs      </td><td>B065-P1C1</td><td>AGTAAGTTCAGCGTA</td><td>singlet</td><td>1220</td><td>243</td><td>⋯</td><td>2330</td><td>AAAGCCCGTTTGCAGA</td><td>PB00395-02</td><td>B065-P1</td><td>73478cde31bc11efbd03567616973a79</td><td>CD8 effector</td><td>0.5173880</td><td> 0.7238464</td><td> -6.1364371</td><td>B065-P1C1W1</td></tr>\n",
       "\t<tr><th scope=row>6</th><td>dc7cd92231b011ef80e742c13d66f8da</td><td>Good</td><td>3893</td><td>B065</td><td>goldleaf_flavorous_fly        </td><td>B065-P1C1</td><td>AGTAAGTTCAGCGTA</td><td>singlet</td><td>1520</td><td>388</td><td>⋯</td><td>3312</td><td>AAAGCTTGTCACCAAA</td><td>PB00395-02</td><td>B065-P1</td><td>7347932831bc11efbd03567616973a79</td><td>CD8 Naive   </td><td>0.3772190</td><td>-0.3871612</td><td>  8.0221880</td><td>B065-P1C1W1</td></tr>\n",
       "</tbody>\n",
       "</table>\n"
      ],
      "text/latex": [
       "A data.frame: 6 × 21\n",
       "\\begin{tabular}{r|lllllllllllllllllllll}\n",
       "  & barcodes & adt\\_qc\\_flag & adt\\_umis & batch\\_id & cell\\_name & chip\\_id & hto\\_barcode & hto\\_category & n\\_genes & n\\_mito\\_umis & ⋯ & n\\_umis & original\\_barcodes & pbmc\\_sample\\_id & pool\\_id & rna\\_cell\\_uuid & seurat\\_pbmc\\_type & seurat\\_pbmc\\_type\\_score & umap\\_1 & umap\\_2 & well\\_id\\\\\n",
       "  & <chr> & <chr> & <int> & <chr> & <chr> & <chr> & <chr> & <chr> & <int> & <int> & ⋯ & <int> & <chr> & <chr> & <chr> & <chr> & <chr> & <dbl> & <dbl> & <dbl> & <chr>\\\\\n",
       "\\hline\n",
       "\t1 & dc61da0a31b011ef80e742c13d66f8da & Good & 4196 & B065 & predacious\\_direful\\_terrier     & B065-P1C1 & AGTAAGTTCAGCGTA & singlet & 1587 & 304 & ⋯ & 3572 & AAACAGCCAATTTGGT & PB00395-02 & B065-P1 & 73476db231bc11efbd03567616973a79 & CD8 effector & 0.4440226 &  0.8125938 & -10.7439552 & B065-P1C1W1\\\\\n",
       "\t2 & dc687e5a31b011ef80e742c13d66f8da & Good & 4066 & B065 & oozy\\_copacetic\\_frogmouth       & B065-P1C1 & AGTAAGTTCAGCGTA & singlet & 1437 & 454 & ⋯ & 2959 & AAACCGAAGGAGCAAC & PB00395-02 & B065-P1 & 734772d031bc11efbd03567616973a79 & CD8 Naive    & 0.3389567 &  0.2985880 &   6.8719075 & B065-P1C1W1\\\\\n",
       "\t3 & dc6d9d6831b011ef80e742c13d66f8da & Good & 2489 & B065 & genius\\_atrophic\\_silkworm       & B065-P1C1 & AGTAAGTTCAGCGTA & singlet & 1783 & 289 & ⋯ & 3605 & AAACGCGCAAACTAAG & PB00395-02 & B065-P1 & 73477bf431bc11efbd03567616973a79 & CD4 Memory   & 0.8498093 &  0.1556549 &  -0.8671478 & B065-P1C1W1\\\\\n",
       "\t4 & dc6f966831b011ef80e742c13d66f8da & Good & 1684 & B065 & glamorous\\_immediate\\_blacklemur & B065-P1C1 & AGTAAGTTCAGCGTA & singlet & 1093 & 127 & ⋯ & 2004 & AAACGCGCATTGTCCT & PB00395-02 & B065-P1 & 73477f0a31bc11efbd03567616973a79 & CD4 Memory   & 0.5115535 & -0.9462299 &   4.3294579 & B065-P1C1W1\\\\\n",
       "\t5 & dc79690431b011ef80e742c13d66f8da & Good & 3756 & B065 & juiced\\_amiable\\_waterdogs       & B065-P1C1 & AGTAAGTTCAGCGTA & singlet & 1220 & 243 & ⋯ & 2330 & AAAGCCCGTTTGCAGA & PB00395-02 & B065-P1 & 73478cde31bc11efbd03567616973a79 & CD8 effector & 0.5173880 &  0.7238464 &  -6.1364371 & B065-P1C1W1\\\\\n",
       "\t6 & dc7cd92231b011ef80e742c13d66f8da & Good & 3893 & B065 & goldleaf\\_flavorous\\_fly         & B065-P1C1 & AGTAAGTTCAGCGTA & singlet & 1520 & 388 & ⋯ & 3312 & AAAGCTTGTCACCAAA & PB00395-02 & B065-P1 & 7347932831bc11efbd03567616973a79 & CD8 Naive    & 0.3772190 & -0.3871612 &   8.0221880 & B065-P1C1W1\\\\\n",
       "\\end{tabular}\n"
      ],
      "text/markdown": [
       "\n",
       "A data.frame: 6 × 21\n",
       "\n",
       "| <!--/--> | barcodes &lt;chr&gt; | adt_qc_flag &lt;chr&gt; | adt_umis &lt;int&gt; | batch_id &lt;chr&gt; | cell_name &lt;chr&gt; | chip_id &lt;chr&gt; | hto_barcode &lt;chr&gt; | hto_category &lt;chr&gt; | n_genes &lt;int&gt; | n_mito_umis &lt;int&gt; | ⋯ ⋯ | n_umis &lt;int&gt; | original_barcodes &lt;chr&gt; | pbmc_sample_id &lt;chr&gt; | pool_id &lt;chr&gt; | rna_cell_uuid &lt;chr&gt; | seurat_pbmc_type &lt;chr&gt; | seurat_pbmc_type_score &lt;dbl&gt; | umap_1 &lt;dbl&gt; | umap_2 &lt;dbl&gt; | well_id &lt;chr&gt; |\n",
       "|---|---|---|---|---|---|---|---|---|---|---|---|---|---|---|---|---|---|---|---|---|---|\n",
       "| 1 | dc61da0a31b011ef80e742c13d66f8da | Good | 4196 | B065 | predacious_direful_terrier     | B065-P1C1 | AGTAAGTTCAGCGTA | singlet | 1587 | 304 | ⋯ | 3572 | AAACAGCCAATTTGGT | PB00395-02 | B065-P1 | 73476db231bc11efbd03567616973a79 | CD8 effector | 0.4440226 |  0.8125938 | -10.7439552 | B065-P1C1W1 |\n",
       "| 2 | dc687e5a31b011ef80e742c13d66f8da | Good | 4066 | B065 | oozy_copacetic_frogmouth       | B065-P1C1 | AGTAAGTTCAGCGTA | singlet | 1437 | 454 | ⋯ | 2959 | AAACCGAAGGAGCAAC | PB00395-02 | B065-P1 | 734772d031bc11efbd03567616973a79 | CD8 Naive    | 0.3389567 |  0.2985880 |   6.8719075 | B065-P1C1W1 |\n",
       "| 3 | dc6d9d6831b011ef80e742c13d66f8da | Good | 2489 | B065 | genius_atrophic_silkworm       | B065-P1C1 | AGTAAGTTCAGCGTA | singlet | 1783 | 289 | ⋯ | 3605 | AAACGCGCAAACTAAG | PB00395-02 | B065-P1 | 73477bf431bc11efbd03567616973a79 | CD4 Memory   | 0.8498093 |  0.1556549 |  -0.8671478 | B065-P1C1W1 |\n",
       "| 4 | dc6f966831b011ef80e742c13d66f8da | Good | 1684 | B065 | glamorous_immediate_blacklemur | B065-P1C1 | AGTAAGTTCAGCGTA | singlet | 1093 | 127 | ⋯ | 2004 | AAACGCGCATTGTCCT | PB00395-02 | B065-P1 | 73477f0a31bc11efbd03567616973a79 | CD4 Memory   | 0.5115535 | -0.9462299 |   4.3294579 | B065-P1C1W1 |\n",
       "| 5 | dc79690431b011ef80e742c13d66f8da | Good | 3756 | B065 | juiced_amiable_waterdogs       | B065-P1C1 | AGTAAGTTCAGCGTA | singlet | 1220 | 243 | ⋯ | 2330 | AAAGCCCGTTTGCAGA | PB00395-02 | B065-P1 | 73478cde31bc11efbd03567616973a79 | CD8 effector | 0.5173880 |  0.7238464 |  -6.1364371 | B065-P1C1W1 |\n",
       "| 6 | dc7cd92231b011ef80e742c13d66f8da | Good | 3893 | B065 | goldleaf_flavorous_fly         | B065-P1C1 | AGTAAGTTCAGCGTA | singlet | 1520 | 388 | ⋯ | 3312 | AAAGCTTGTCACCAAA | PB00395-02 | B065-P1 | 7347932831bc11efbd03567616973a79 | CD8 Naive    | 0.3772190 | -0.3871612 |   8.0221880 | B065-P1C1W1 |\n",
       "\n"
      ],
      "text/plain": [
       "  barcodes                         adt_qc_flag adt_umis batch_id\n",
       "1 dc61da0a31b011ef80e742c13d66f8da Good        4196     B065    \n",
       "2 dc687e5a31b011ef80e742c13d66f8da Good        4066     B065    \n",
       "3 dc6d9d6831b011ef80e742c13d66f8da Good        2489     B065    \n",
       "4 dc6f966831b011ef80e742c13d66f8da Good        1684     B065    \n",
       "5 dc79690431b011ef80e742c13d66f8da Good        3756     B065    \n",
       "6 dc7cd92231b011ef80e742c13d66f8da Good        3893     B065    \n",
       "  cell_name                      chip_id   hto_barcode     hto_category n_genes\n",
       "1 predacious_direful_terrier     B065-P1C1 AGTAAGTTCAGCGTA singlet      1587   \n",
       "2 oozy_copacetic_frogmouth       B065-P1C1 AGTAAGTTCAGCGTA singlet      1437   \n",
       "3 genius_atrophic_silkworm       B065-P1C1 AGTAAGTTCAGCGTA singlet      1783   \n",
       "4 glamorous_immediate_blacklemur B065-P1C1 AGTAAGTTCAGCGTA singlet      1093   \n",
       "5 juiced_amiable_waterdogs       B065-P1C1 AGTAAGTTCAGCGTA singlet      1220   \n",
       "6 goldleaf_flavorous_fly         B065-P1C1 AGTAAGTTCAGCGTA singlet      1520   \n",
       "  n_mito_umis ⋯ n_umis original_barcodes pbmc_sample_id pool_id\n",
       "1 304         ⋯ 3572   AAACAGCCAATTTGGT  PB00395-02     B065-P1\n",
       "2 454         ⋯ 2959   AAACCGAAGGAGCAAC  PB00395-02     B065-P1\n",
       "3 289         ⋯ 3605   AAACGCGCAAACTAAG  PB00395-02     B065-P1\n",
       "4 127         ⋯ 2004   AAACGCGCATTGTCCT  PB00395-02     B065-P1\n",
       "5 243         ⋯ 2330   AAAGCCCGTTTGCAGA  PB00395-02     B065-P1\n",
       "6 388         ⋯ 3312   AAAGCTTGTCACCAAA  PB00395-02     B065-P1\n",
       "  rna_cell_uuid                    seurat_pbmc_type seurat_pbmc_type_score\n",
       "1 73476db231bc11efbd03567616973a79 CD8 effector     0.4440226             \n",
       "2 734772d031bc11efbd03567616973a79 CD8 Naive        0.3389567             \n",
       "3 73477bf431bc11efbd03567616973a79 CD4 Memory       0.8498093             \n",
       "4 73477f0a31bc11efbd03567616973a79 CD4 Memory       0.5115535             \n",
       "5 73478cde31bc11efbd03567616973a79 CD8 effector     0.5173880             \n",
       "6 7347932831bc11efbd03567616973a79 CD8 Naive        0.3772190             \n",
       "  umap_1     umap_2      well_id    \n",
       "1  0.8125938 -10.7439552 B065-P1C1W1\n",
       "2  0.2985880   6.8719075 B065-P1C1W1\n",
       "3  0.1556549  -0.8671478 B065-P1C1W1\n",
       "4 -0.9462299   4.3294579 B065-P1C1W1\n",
       "5  0.7238464  -6.1364371 B065-P1C1W1\n",
       "6 -0.3871612   8.0221880 B065-P1C1W1"
      ]
     },
     "metadata": {},
     "output_type": "display_data"
    }
   ],
   "source": [
    "head(all_metadata)"
   ]
  },
  {
   "cell_type": "markdown",
   "id": "f9efbcbb-38cb-4aa4-bbd2-c18a98955bc2",
   "metadata": {},
   "source": [
    "## Write output file\n",
    "\n",
    "Write the metadata as a .csv for later use. We remove `row.names` and set `quote = FALSE` to simplify the outputs and increase compatibility with other tools."
   ]
  },
  {
   "cell_type": "code",
   "execution_count": 9,
   "id": "ac05a12a-e410-4f34-8436-19b0a27c3d50",
   "metadata": {},
   "outputs": [
    {
     "name": "stderr",
     "output_type": "stream",
     "text": [
      "Warning message in dir.create(\"output\"):\n",
      "“'output' already exists”\n"
     ]
    }
   ],
   "source": [
    "dir.create(\"output\")"
   ]
  },
  {
   "cell_type": "code",
   "execution_count": 10,
   "id": "b3234c3e-3429-43db-8878-be282260a7ef",
   "metadata": {},
   "outputs": [],
   "source": [
    "write.csv(\n",
    "    all_metadata,\n",
    "    \"output/rna_adt_cell_metadata.csv\",\n",
    "    row.names = FALSE,\n",
    "    quote = FALSE\n",
    ")"
   ]
  },
  {
   "cell_type": "markdown",
   "id": "2e7a7f73-792c-4f01-82b1-e6f8d7d1f737",
   "metadata": {},
   "source": [
    "## Store results in HISE\n",
    "\n",
    "Finally, we store the output file in our Collaboration Space for later retrieval and use. We need to provide the UUID for our Collaboration Space (aka `studySpaceId`), as well as a title for this step in our analysis process.\n",
    "\n",
    "The hise function `uploadFiles()` also requires the FileIDs from the original fileset for reference, which we assembled above when files were retrieved (`input_file_uuids`)"
   ]
  },
  {
   "cell_type": "code",
   "execution_count": 11,
   "id": "6d2aaf10-3220-4578-8b7e-eafa8bd63b28",
   "metadata": {},
   "outputs": [],
   "source": [
    "study_space_uuid <- \"00a53fa5-18da-4333-84cb-3cc0b0761201\"\n",
    "title <- \"TEA-seq demo unfiltered TE cell metadata\""
   ]
  },
  {
   "cell_type": "code",
   "execution_count": 12,
   "id": "135d9a0c-1e2f-4169-a9d2-dc4a9afcfe13",
   "metadata": {},
   "outputs": [
    {
     "data": {
      "text/html": [
       "'incoherent_zorilla'"
      ],
      "text/latex": [
       "'incoherent\\_zorilla'"
      ],
      "text/markdown": [
       "'incoherent_zorilla'"
      ],
      "text/plain": [
       "[1] \"incoherent_zorilla\""
      ]
     },
     "metadata": {},
     "output_type": "display_data"
    }
   ],
   "source": [
    "search_id <- ids::adjective_animal()\n",
    "search_id"
   ]
  },
  {
   "cell_type": "code",
   "execution_count": 13,
   "id": "f6ff8ec9-7ae6-41ca-99c9-cc4f334735ae",
   "metadata": {},
   "outputs": [],
   "source": [
    "in_list <- as.list(sample_meta$rna_file.id)"
   ]
  },
  {
   "cell_type": "code",
   "execution_count": 14,
   "id": "1672c453-60c4-4072-b599-b80c8b7c978a",
   "metadata": {},
   "outputs": [
    {
     "data": {
      "text/html": [
       "<ol>\n",
       "\t<li>'c9a1c7af-f0c3-41ad-87a7-2a3fb07e682d'</li>\n",
       "\t<li>'d929e7ef-162b-410b-b765-ae1d7d73bae8'</li>\n",
       "\t<li>'81bd562d-a6ad-4a05-befe-15303d1847de'</li>\n",
       "\t<li>'78587b33-2b08-4eb4-a392-0c3963ed904e'</li>\n",
       "\t<li>'9df3f431-970c-42da-99d2-a8fd4dd8558a'</li>\n",
       "\t<li>'b3c55054-77b5-41cf-91cd-97576dd0ba20'</li>\n",
       "\t<li>'3f38fe6b-8cfc-4da5-9f65-7db40259c5eb'</li>\n",
       "\t<li>'a9107429-686e-4365-8776-2c079783ccde'</li>\n",
       "</ol>\n"
      ],
      "text/latex": [
       "\\begin{enumerate}\n",
       "\\item 'c9a1c7af-f0c3-41ad-87a7-2a3fb07e682d'\n",
       "\\item 'd929e7ef-162b-410b-b765-ae1d7d73bae8'\n",
       "\\item '81bd562d-a6ad-4a05-befe-15303d1847de'\n",
       "\\item '78587b33-2b08-4eb4-a392-0c3963ed904e'\n",
       "\\item '9df3f431-970c-42da-99d2-a8fd4dd8558a'\n",
       "\\item 'b3c55054-77b5-41cf-91cd-97576dd0ba20'\n",
       "\\item '3f38fe6b-8cfc-4da5-9f65-7db40259c5eb'\n",
       "\\item 'a9107429-686e-4365-8776-2c079783ccde'\n",
       "\\end{enumerate}\n"
      ],
      "text/markdown": [
       "1. 'c9a1c7af-f0c3-41ad-87a7-2a3fb07e682d'\n",
       "2. 'd929e7ef-162b-410b-b765-ae1d7d73bae8'\n",
       "3. '81bd562d-a6ad-4a05-befe-15303d1847de'\n",
       "4. '78587b33-2b08-4eb4-a392-0c3963ed904e'\n",
       "5. '9df3f431-970c-42da-99d2-a8fd4dd8558a'\n",
       "6. 'b3c55054-77b5-41cf-91cd-97576dd0ba20'\n",
       "7. '3f38fe6b-8cfc-4da5-9f65-7db40259c5eb'\n",
       "8. 'a9107429-686e-4365-8776-2c079783ccde'\n",
       "\n",
       "\n"
      ],
      "text/plain": [
       "[[1]]\n",
       "[1] \"c9a1c7af-f0c3-41ad-87a7-2a3fb07e682d\"\n",
       "\n",
       "[[2]]\n",
       "[1] \"d929e7ef-162b-410b-b765-ae1d7d73bae8\"\n",
       "\n",
       "[[3]]\n",
       "[1] \"81bd562d-a6ad-4a05-befe-15303d1847de\"\n",
       "\n",
       "[[4]]\n",
       "[1] \"78587b33-2b08-4eb4-a392-0c3963ed904e\"\n",
       "\n",
       "[[5]]\n",
       "[1] \"9df3f431-970c-42da-99d2-a8fd4dd8558a\"\n",
       "\n",
       "[[6]]\n",
       "[1] \"b3c55054-77b5-41cf-91cd-97576dd0ba20\"\n",
       "\n",
       "[[7]]\n",
       "[1] \"3f38fe6b-8cfc-4da5-9f65-7db40259c5eb\"\n",
       "\n",
       "[[8]]\n",
       "[1] \"a9107429-686e-4365-8776-2c079783ccde\"\n"
      ]
     },
     "metadata": {},
     "output_type": "display_data"
    }
   ],
   "source": [
    "in_list"
   ]
  },
  {
   "cell_type": "code",
   "execution_count": 15,
   "id": "442e1f4f-64cf-4a61-8bdd-bd941370d546",
   "metadata": {},
   "outputs": [],
   "source": [
    "out_list <- list(\"output/rna_adt_cell_metadata.csv\")"
   ]
  },
  {
   "cell_type": "code",
   "execution_count": 16,
   "id": "46c53d76-80f7-4e0b-9052-9860e574faa2",
   "metadata": {},
   "outputs": [
    {
     "data": {
      "text/html": [
       "<ol>\n",
       "\t<li>'output/rna_adt_cell_metadata.csv'</li>\n",
       "</ol>\n"
      ],
      "text/latex": [
       "\\begin{enumerate}\n",
       "\\item 'output/rna\\_adt\\_cell\\_metadata.csv'\n",
       "\\end{enumerate}\n"
      ],
      "text/markdown": [
       "1. 'output/rna_adt_cell_metadata.csv'\n",
       "\n",
       "\n"
      ],
      "text/plain": [
       "[[1]]\n",
       "[1] \"output/rna_adt_cell_metadata.csv\"\n"
      ]
     },
     "metadata": {},
     "output_type": "display_data"
    }
   ],
   "source": [
    "out_list"
   ]
  },
  {
   "cell_type": "code",
   "execution_count": 17,
   "id": "3c172254-e975-4694-8e78-1a2c24f9d0d1",
   "metadata": {},
   "outputs": [
    {
     "name": "stdout",
     "output_type": "stream",
     "text": [
      "[1] \"Cannot determine the current notebook.\"\n",
      "[1] \"1) /home/jupyter/certpro-workflow-demos/adult_vs_pediatric_teaseq/01-R_get_h5_metadata.ipynb\"\n",
      "[1] \"2) /home/jupyter/certpro-workflow-demos/adult_vs_pediatric_teaseq/00-R_select_samples.ipynb\"\n",
      "[1] \"3) /home/jupyter/examples/Visualization_apps/dash/save_visualization_app_example.ipynb\"\n"
     ]
    },
    {
     "name": "stdin",
     "output_type": "stream",
     "text": [
      "Please select (1-3)  1\n"
     ]
    },
    {
     "name": "stderr",
     "output_type": "stream",
     "text": [
      "You are trying to upload the following files:  output/rna_adt_cell_metadata.csv\n",
      "\n"
     ]
    },
    {
     "name": "stdin",
     "output_type": "stream",
     "text": [
      "(y/n) y\n"
     ]
    },
    {
     "data": {
      "text/html": [
       "<dl>\n",
       "\t<dt>$files</dt>\n",
       "\t\t<dd><ol>\n",
       "\t<li>'output/rna_adt_cell_metadata.csv'</li>\n",
       "</ol>\n",
       "</dd>\n",
       "\t<dt>$traceId</dt>\n",
       "\t\t<dd>'2967bae3-2246-41e1-872a-759ca2a18745'</dd>\n",
       "</dl>\n"
      ],
      "text/latex": [
       "\\begin{description}\n",
       "\\item[\\$files] \\begin{enumerate}\n",
       "\\item 'output/rna\\_adt\\_cell\\_metadata.csv'\n",
       "\\end{enumerate}\n",
       "\n",
       "\\item[\\$traceId] '2967bae3-2246-41e1-872a-759ca2a18745'\n",
       "\\end{description}\n"
      ],
      "text/markdown": [
       "$files\n",
       ":   1. 'output/rna_adt_cell_metadata.csv'\n",
       "\n",
       "\n",
       "\n",
       "$traceId\n",
       ":   '2967bae3-2246-41e1-872a-759ca2a18745'\n",
       "\n",
       "\n"
      ],
      "text/plain": [
       "$files\n",
       "$files[[1]]\n",
       "[1] \"output/rna_adt_cell_metadata.csv\"\n",
       "\n",
       "\n",
       "$traceId\n",
       "[1] \"2967bae3-2246-41e1-872a-759ca2a18745\"\n"
      ]
     },
     "metadata": {},
     "output_type": "display_data"
    }
   ],
   "source": [
    "uploadFiles(\n",
    "    files = out_list,\n",
    "    studySpaceId = study_space_uuid,\n",
    "    title = title,\n",
    "    inputFileIds = in_list,\n",
    "    destination = search_id\n",
    ")"
   ]
  },
  {
   "cell_type": "code",
   "execution_count": 18,
   "id": "c42c119c-09d3-467a-845d-50c93a897466",
   "metadata": {},
   "outputs": [
    {
     "data": {
      "text/plain": [
       "R version 4.3.2 (2023-10-31)\n",
       "Platform: x86_64-conda-linux-gnu (64-bit)\n",
       "Running under: Ubuntu 20.04.6 LTS\n",
       "\n",
       "Matrix products: default\n",
       "BLAS/LAPACK: /opt/conda/lib/libopenblasp-r0.3.25.so;  LAPACK version 3.11.0\n",
       "\n",
       "locale:\n",
       " [1] LC_CTYPE=C.UTF-8       LC_NUMERIC=C           LC_TIME=C.UTF-8       \n",
       " [4] LC_COLLATE=C.UTF-8     LC_MONETARY=C.UTF-8    LC_MESSAGES=C.UTF-8   \n",
       " [7] LC_PAPER=C.UTF-8       LC_NAME=C              LC_ADDRESS=C          \n",
       "[10] LC_TELEPHONE=C         LC_MEASUREMENT=C.UTF-8 LC_IDENTIFICATION=C   \n",
       "\n",
       "time zone: Etc/UTC\n",
       "tzcode source: system (glibc)\n",
       "\n",
       "attached base packages:\n",
       "[1] stats     graphics  grDevices utils     datasets  methods   base     \n",
       "\n",
       "other attached packages:\n",
       "[1] purrr_1.0.2       BarMixer_1.0.1    rhdf5_2.46.1      Matrix_1.6-4     \n",
       "[5] data.table_1.15.4 hise_2.16.0      \n",
       "\n",
       "loaded via a namespace (and not attached):\n",
       " [1] jsonlite_1.8.8      dplyr_1.1.4         compiler_4.3.2     \n",
       " [4] crayon_1.5.2        tidyselect_1.2.0    IRdisplay_1.1      \n",
       " [7] stringr_1.5.1       rhdf5filters_1.14.1 bitops_1.0-7       \n",
       "[10] assertthat_0.2.1    uuid_1.2-0          fastmap_1.1.1      \n",
       "[13] IRkernel_1.3.2      lattice_0.22-5      R6_2.5.1           \n",
       "[16] generics_0.1.3      curl_5.1.0          tibble_3.2.1       \n",
       "[19] pillar_1.9.0        rlang_1.1.3         utf8_1.2.4         \n",
       "[22] stringi_1.8.3       repr_1.1.7          cli_3.6.2          \n",
       "[25] magrittr_2.0.3      Rhdf5lib_1.24.1     digest_0.6.35      \n",
       "[28] grid_4.3.2          base64enc_0.1-3     pbdZMQ_0.3-10      \n",
       "[31] lifecycle_1.0.4     vctrs_0.6.5         evaluate_0.23      \n",
       "[34] glue_1.7.0          ids_1.0.1           RCurl_1.98-1.14    \n",
       "[37] fansi_1.0.6         httr_1.4.7          tools_4.3.2        \n",
       "[40] pkgconfig_2.0.3     htmltools_0.5.8    "
      ]
     },
     "metadata": {},
     "output_type": "display_data"
    }
   ],
   "source": [
    "sessionInfo()"
   ]
  },
  {
   "cell_type": "code",
   "execution_count": null,
   "id": "9c1f7e99-5960-4d18-bcdf-387c5253ccd9",
   "metadata": {},
   "outputs": [],
   "source": []
  }
 ],
 "metadata": {
  "environment": {
   "kernel": "ir4",
   "name": ".m121",
   "type": "gcloud",
   "uri": "us-docker.pkg.dev/deeplearning-platform-release/gcr.io/:m121"
  },
  "kernelspec": {
   "display_name": "R 4",
   "language": "R",
   "name": "ir4"
  },
  "language_info": {
   "codemirror_mode": "r",
   "file_extension": ".r",
   "mimetype": "text/x-r-source",
   "name": "R",
   "pygments_lexer": "r",
   "version": "4.3.2"
  }
 },
 "nbformat": 4,
 "nbformat_minor": 5
}
