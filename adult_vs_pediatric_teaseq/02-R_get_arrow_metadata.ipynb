{
 "cells": [
  {
   "cell_type": "markdown",
   "id": "06cb5601-bf1c-4c6a-b94a-96ba3ddc26b4",
   "metadata": {},
   "source": [
    "# Retrieve ATAC Metadata\n",
    "\n",
    "To begin our analysis, we'll retrieve the .arrow files that contain ATAC data and metadata after our TEA-seq QC and demultiplexing pipeline. We'll then extract the metadata for cells to use for cell filtering and QC plots."
   ]
  },
  {
   "cell_type": "markdown",
   "id": "2967d0cb-afdb-4c62-907d-09b7e72a9bd9",
   "metadata": {},
   "source": [
    "## Load packages\n",
    "\n",
    "hise: The Human Immune System Explorer R SDK package  \n",
    "ArchR: .arrow file handling  \n",
    "purrr: Functional programming tools  \n"
   ]
  },
  {
   "cell_type": "code",
   "execution_count": 1,
   "id": "74053ca6-2556-4a1e-a18a-7ae6a72b16a1",
   "metadata": {},
   "outputs": [
    {
     "name": "stderr",
     "output_type": "stream",
     "text": [
      "\n",
      "                                                   / |\n",
      "                                                 /    \\\n",
      "            .                                  /      |.\n",
      "            \\\\\\                              /        |.\n",
      "              \\\\\\                          /           `|.\n",
      "                \\\\\\                      /              |.\n",
      "                  \\                    /                |\\\n",
      "                  \\\\#####\\           /                  ||\n",
      "                ==###########>      /                   ||\n",
      "                 \\\\##==......\\    /                     ||\n",
      "            ______ =       =|__ /__                     ||      \\\\\\\n",
      "        ,--' ,----`-,__ ___/'  --,-`-===================##========>\n",
      "       \\               '        ##_______ _____ ,--,__,=##,__   ///\n",
      "        ,    __==    ___,-,__,--'#'  ==='      `-'    | ##,-/\n",
      "        -,____,---'       \\\\####\\\\________________,--\\\\_##,/\n",
      "           ___      .______        ______  __    __  .______      \n",
      "          /   \\     |   _  \\      /      ||  |  |  | |   _  \\     \n",
      "         /  ^  \\    |  |_)  |    |  ,----'|  |__|  | |  |_)  |    \n",
      "        /  /_\\  \\   |      /     |  |     |   __   | |      /     \n",
      "       /  _____  \\  |  |\\  \\\\___ |  `----.|  |  |  | |  |\\  \\\\___.\n",
      "      /__/     \\__\\ | _| `._____| \\______||__|  |__| | _| `._____|\n",
      "    \n",
      "\n"
     ]
    }
   ],
   "source": [
    "quiet_library <- function(...) { suppressPackageStartupMessages(library(...)) }\n",
    "quiet_library(hise)\n",
    "quiet_library(ArchR)\n",
    "quiet_library(purrr)"
   ]
  },
  {
   "cell_type": "code",
   "execution_count": 2,
   "id": "a0c062d3-e2a1-44ee-81ac-820984a3a0a9",
   "metadata": {},
   "outputs": [],
   "source": [
    "read_path_uuid <- function(uuid) {\n",
    "    uuid_path <- paste0(\"cache/\", uuid)\n",
    "    if(!dir.exists(uuid_path)) {\n",
    "        cacheFiles(list(uuid))\n",
    "    }\n",
    "    list.files(uuid_path, full.names = TRUE)[1]\n",
    "}"
   ]
  },
  {
   "cell_type": "code",
   "execution_count": 3,
   "id": "a7305333-c3ef-4ae0-9a52-4537f8267b85",
   "metadata": {},
   "outputs": [],
   "source": [
    "read_csv_uuid <- function(uuid) {\n",
    "    filename <- read_path_uuid(uuid)\n",
    "    read.csv(filename)\n",
    "}"
   ]
  },
  {
   "cell_type": "markdown",
   "id": "17b25f2d-8a51-44ef-b39b-bce567c78535",
   "metadata": {},
   "source": [
    "## Get file metadata stored in HISE"
   ]
  },
  {
   "cell_type": "code",
   "execution_count": 4,
   "id": "fb84b94e-202d-49ab-b473-173950fff772",
   "metadata": {},
   "outputs": [],
   "source": [
    "meta_uuid <- \"5e3115d4-9207-4020-8e3a-3792dd28ea6b\"\n",
    "sample_meta <- read_csv_uuid(meta_uuid)"
   ]
  },
  {
   "cell_type": "markdown",
   "id": "c9b2868d-a8f0-4cbf-b536-10883f5f26d1",
   "metadata": {},
   "source": [
    "## Retrieve files\n",
    "\n",
    "Now, we'll use the HISE SDK package to retrieve the TEA-seq .arrow file outputs based on their file UUIDs. These will be placed in the `cache/` subdirectory by default."
   ]
  },
  {
   "cell_type": "code",
   "execution_count": 5,
   "id": "47d1e2b4-e5e5-402a-b30b-61a78323c1e0",
   "metadata": {},
   "outputs": [],
   "source": [
    "arrow_files <- map_chr(\n",
    "    sample_meta$atac_file.id,\n",
    "    read_path_uuid\n",
    ")"
   ]
  },
  {
   "cell_type": "markdown",
   "id": "a650faec-5bfa-4770-b4ad-f0ff86742b69",
   "metadata": {},
   "source": [
    "## Assemble metadata\n",
    "\n",
    "Here, we list each of the files in `cache/` and assemble an ArchR Project to read cell metadata using the ArchR function `getCellColData()`."
   ]
  },
  {
   "cell_type": "code",
   "execution_count": 6,
   "id": "fc6a39fb-f21b-4ddb-b8cd-f36ece773e7a",
   "metadata": {},
   "outputs": [
    {
     "name": "stderr",
     "output_type": "stream",
     "text": [
      "Setting default genome to Hg38.\n",
      "\n"
     ]
    }
   ],
   "source": [
    "addArchRGenome(\"hg38\")"
   ]
  },
  {
   "cell_type": "code",
   "execution_count": 7,
   "id": "6f32a918-7e0c-4e04-9ebf-0041b3506ff1",
   "metadata": {},
   "outputs": [
    {
     "name": "stderr",
     "output_type": "stream",
     "text": [
      "Using GeneAnnotation set by addArchRGenome(Hg38)!\n",
      "\n",
      "Using GeneAnnotation set by addArchRGenome(Hg38)!\n",
      "\n",
      "Validating Arrows...\n",
      "\n",
      "Getting SampleNames...\n",
      "\n",
      "1 \n",
      "2 \n",
      "3 \n",
      "4 \n",
      "5 \n",
      "6 \n",
      "7 \n",
      "8 \n",
      "\n",
      "\n",
      "Getting Cell Metadata...\n",
      "\n",
      "1 \n",
      "2 \n",
      "3 \n",
      "4 \n",
      "5 \n",
      "6 \n",
      "7 \n",
      "8 \n",
      "\n",
      "\n",
      "Merging Cell Metadata...\n",
      "\n",
      "Initializing ArchRProject...\n",
      "\n",
      "\n",
      "                                                   / |\n",
      "                                                 /    \\\n",
      "            .                                  /      |.\n",
      "            \\\\\\                              /        |.\n",
      "              \\\\\\                          /           `|.\n",
      "                \\\\\\                      /              |.\n",
      "                  \\                    /                |\\\n",
      "                  \\\\#####\\           /                  ||\n",
      "                ==###########>      /                   ||\n",
      "                 \\\\##==......\\    /                     ||\n",
      "            ______ =       =|__ /__                     ||      \\\\\\\n",
      "        ,--' ,----`-,__ ___/'  --,-`-===================##========>\n",
      "       \\               '        ##_______ _____ ,--,__,=##,__   ///\n",
      "        ,    __==    ___,-,__,--'#'  ==='      `-'    | ##,-/\n",
      "        -,____,---'       \\\\####\\\\________________,--\\\\_##,/\n",
      "           ___      .______        ______  __    __  .______      \n",
      "          /   \\     |   _  \\      /      ||  |  |  | |   _  \\     \n",
      "         /  ^  \\    |  |_)  |    |  ,----'|  |__|  | |  |_)  |    \n",
      "        /  /_\\  \\   |      /     |  |     |   __   | |      /     \n",
      "       /  _____  \\  |  |\\  \\\\___ |  `----.|  |  |  | |  |\\  \\\\___.\n",
      "      /__/     \\__\\ | _| `._____| \\______||__|  |__| | _| `._____|\n",
      "    \n",
      "\n"
     ]
    }
   ],
   "source": [
    "proj <- ArchRProject(\n",
    "    ArrowFiles = arrow_files,\n",
    "    copyArrows = FALSE\n",
    ")"
   ]
  },
  {
   "cell_type": "code",
   "execution_count": 8,
   "id": "ee73148e-fad3-436b-8a1d-f0a7954f12f8",
   "metadata": {},
   "outputs": [],
   "source": [
    "all_metadata <- getCellColData(proj)\n",
    "all_metadata <- as.data.frame(all_metadata)"
   ]
  },
  {
   "cell_type": "code",
   "execution_count": 9,
   "id": "ecaa9fd3-3409-4885-b230-26785c048301",
   "metadata": {},
   "outputs": [],
   "source": [
    "all_metadata$archr_name <- rownames(all_metadata)"
   ]
  },
  {
   "cell_type": "code",
   "execution_count": 10,
   "id": "e29518fa-4dd3-4e43-a9e1-5329b552b6aa",
   "metadata": {},
   "outputs": [
    {
     "data": {
      "text/html": [
       "<table class=\"dataframe\">\n",
       "<caption>A data.frame: 6 × 37</caption>\n",
       "<thead>\n",
       "\t<tr><th></th><th scope=col>Sample</th><th scope=col>well_id</th><th scope=col>TSSEnrichment</th><th scope=col>tss_frac</th><th scope=col>tss_count</th><th scope=col>singlet</th><th scope=col>ReadsInTSS</th><th scope=col>ReadsInPromoter</th><th scope=col>ReadsInBlacklist</th><th scope=col>PromoterRatio</th><th scope=col>⋯</th><th scope=col>DoubletScore</th><th scope=col>DoubletEnrichment</th><th scope=col>chip_id</th><th scope=col>cell_name</th><th scope=col>BlacklistRatio</th><th scope=col>batch_id</th><th scope=col>barcodes</th><th scope=col>altius_frac</th><th scope=col>altius_count</th><th scope=col>archr_name</th></tr>\n",
       "\t<tr><th></th><th scope=col>&lt;chr&gt;</th><th scope=col>&lt;chr&gt;</th><th scope=col>&lt;dbl&gt;</th><th scope=col>&lt;dbl&gt;</th><th scope=col>&lt;int&gt;</th><th scope=col>&lt;lgl&gt;</th><th scope=col>&lt;dbl&gt;</th><th scope=col>&lt;dbl&gt;</th><th scope=col>&lt;dbl&gt;</th><th scope=col>&lt;dbl&gt;</th><th scope=col>⋯</th><th scope=col>&lt;dbl&gt;</th><th scope=col>&lt;dbl&gt;</th><th scope=col>&lt;chr&gt;</th><th scope=col>&lt;chr&gt;</th><th scope=col>&lt;dbl&gt;</th><th scope=col>&lt;chr&gt;</th><th scope=col>&lt;chr&gt;</th><th scope=col>&lt;dbl&gt;</th><th scope=col>&lt;int&gt;</th><th scope=col>&lt;chr&gt;</th></tr>\n",
       "</thead>\n",
       "<tbody>\n",
       "\t<tr><th scope=row>B065-P1_PB00395-02#dc9f7b1231b011ef80e742c13d66f8da</th><td>B065-P1_PB00395-02</td><td>B065-AP1C1W1</td><td>23.217</td><td>0.6123411</td><td>18835</td><td>TRUE</td><td>31047</td><td>28818</td><td>545</td><td>0.4688141</td><td>⋯</td><td>0.000000</td><td>1.5000000</td><td>B065-AP1C1</td><td>unfearful_frisky_bighorn       </td><td>0.008866114</td><td>B065</td><td>dc9f7b1231b011ef80e742c13d66f8da</td><td>0.9265256</td><td>28499</td><td>B065-P1_PB00395-02#dc9f7b1231b011ef80e742c13d66f8da</td></tr>\n",
       "\t<tr><th scope=row>B065-P1_PB00395-02#bc84979a31ab11efb3acae799efb27c2</th><td>B065-P1_PB00395-02</td><td>B065-AP1C1W4</td><td>18.701</td><td>0.3886059</td><td>11064</td><td>TRUE</td><td>17046</td><td>15403</td><td>380</td><td>0.2705223</td><td>⋯</td><td>2.048716</td><td>1.7666667</td><td>B065-AP1C1</td><td>expedient_flattering_gemsbok   </td><td>0.006673926</td><td>B065</td><td>bc84979a31ab11efb3acae799efb27c2</td><td>0.7831478</td><td>22297</td><td>B065-P1_PB00395-02#bc84979a31ab11efb3acae799efb27c2</td></tr>\n",
       "\t<tr><th scope=row>B065-P1_PB00395-02#5e619c6431b311efacc2825d2c0fee52</th><td>B065-P1_PB00395-02</td><td>B065-AP1C2W1</td><td>22.989</td><td>0.6343741</td><td>17189</td><td>TRUE</td><td>28374</td><td>26201</td><td>433</td><td>0.4836631</td><td>⋯</td><td>0.000000</td><td>1.4000000</td><td>B065-AP1C2</td><td>pernicious_shy_turtle          </td><td>0.007993059</td><td>B065</td><td>5e619c6431b311efacc2825d2c0fee52</td><td>0.9335326</td><td>25295</td><td>B065-P1_PB00395-02#5e619c6431b311efacc2825d2c0fee52</td></tr>\n",
       "\t<tr><th scope=row>B065-P1_PB00395-02#ffbeb28631ae11efa2195e333e12fe90</th><td>B065-P1_PB00395-02</td><td>B065-AP1C2W4</td><td>23.470</td><td>0.6011946</td><td>15803</td><td>TRUE</td><td>26300</td><td>24211</td><td>411</td><td>0.4606179</td><td>⋯</td><td>0.000000</td><td>0.4333333</td><td>B065-AP1C2</td><td>magic_infamous_dugong          </td><td>0.007819337</td><td>B065</td><td>ffbeb28631ae11efa2195e333e12fe90</td><td>0.9345659</td><td>24566</td><td>B065-P1_PB00395-02#ffbeb28631ae11efa2195e333e12fe90</td></tr>\n",
       "\t<tr><th scope=row>B065-P1_PB00395-02#0f242c8831af11ef83c91ae18f80cdcc</th><td>B065-P1_PB00395-02</td><td>B065-AP1C2W3</td><td>17.284</td><td>0.5764697</td><td>15062</td><td>TRUE</td><td>22170</td><td>21143</td><td>359</td><td>0.4047282</td><td>⋯</td><td>0.000000</td><td>0.7142857</td><td>B065-AP1C2</td><td>communist_cretaceous_arcticwolf</td><td>0.006872129</td><td>B065</td><td>0f242c8831af11ef83c91ae18f80cdcc</td><td>0.9043938</td><td>23630</td><td>B065-P1_PB00395-02#0f242c8831af11ef83c91ae18f80cdcc</td></tr>\n",
       "\t<tr><th scope=row>B065-P1_PB00395-02#aa659c3e31b111ef92f7ea48c9c3293e</th><td>B065-P1_PB00395-02</td><td>B065-AP1C2W2</td><td>21.060</td><td>0.5645044</td><td>14733</td><td>TRUE</td><td>22983</td><td>21731</td><td>369</td><td>0.4164622</td><td>⋯</td><td>0.000000</td><td>0.8000000</td><td>B065-AP1C2</td><td>hypodermal_surprising_aphid    </td><td>0.007071675</td><td>B065</td><td>aa659c3e31b111ef92f7ea48c9c3293e</td><td>0.9124104</td><td>23813</td><td>B065-P1_PB00395-02#aa659c3e31b111ef92f7ea48c9c3293e</td></tr>\n",
       "</tbody>\n",
       "</table>\n"
      ],
      "text/latex": [
       "A data.frame: 6 × 37\n",
       "\\begin{tabular}{r|lllllllllllllllllllll}\n",
       "  & Sample & well\\_id & TSSEnrichment & tss\\_frac & tss\\_count & singlet & ReadsInTSS & ReadsInPromoter & ReadsInBlacklist & PromoterRatio & ⋯ & DoubletScore & DoubletEnrichment & chip\\_id & cell\\_name & BlacklistRatio & batch\\_id & barcodes & altius\\_frac & altius\\_count & archr\\_name\\\\\n",
       "  & <chr> & <chr> & <dbl> & <dbl> & <int> & <lgl> & <dbl> & <dbl> & <dbl> & <dbl> & ⋯ & <dbl> & <dbl> & <chr> & <chr> & <dbl> & <chr> & <chr> & <dbl> & <int> & <chr>\\\\\n",
       "\\hline\n",
       "\tB065-P1\\_PB00395-02\\#dc9f7b1231b011ef80e742c13d66f8da & B065-P1\\_PB00395-02 & B065-AP1C1W1 & 23.217 & 0.6123411 & 18835 & TRUE & 31047 & 28818 & 545 & 0.4688141 & ⋯ & 0.000000 & 1.5000000 & B065-AP1C1 & unfearful\\_frisky\\_bighorn        & 0.008866114 & B065 & dc9f7b1231b011ef80e742c13d66f8da & 0.9265256 & 28499 & B065-P1\\_PB00395-02\\#dc9f7b1231b011ef80e742c13d66f8da\\\\\n",
       "\tB065-P1\\_PB00395-02\\#bc84979a31ab11efb3acae799efb27c2 & B065-P1\\_PB00395-02 & B065-AP1C1W4 & 18.701 & 0.3886059 & 11064 & TRUE & 17046 & 15403 & 380 & 0.2705223 & ⋯ & 2.048716 & 1.7666667 & B065-AP1C1 & expedient\\_flattering\\_gemsbok    & 0.006673926 & B065 & bc84979a31ab11efb3acae799efb27c2 & 0.7831478 & 22297 & B065-P1\\_PB00395-02\\#bc84979a31ab11efb3acae799efb27c2\\\\\n",
       "\tB065-P1\\_PB00395-02\\#5e619c6431b311efacc2825d2c0fee52 & B065-P1\\_PB00395-02 & B065-AP1C2W1 & 22.989 & 0.6343741 & 17189 & TRUE & 28374 & 26201 & 433 & 0.4836631 & ⋯ & 0.000000 & 1.4000000 & B065-AP1C2 & pernicious\\_shy\\_turtle           & 0.007993059 & B065 & 5e619c6431b311efacc2825d2c0fee52 & 0.9335326 & 25295 & B065-P1\\_PB00395-02\\#5e619c6431b311efacc2825d2c0fee52\\\\\n",
       "\tB065-P1\\_PB00395-02\\#ffbeb28631ae11efa2195e333e12fe90 & B065-P1\\_PB00395-02 & B065-AP1C2W4 & 23.470 & 0.6011946 & 15803 & TRUE & 26300 & 24211 & 411 & 0.4606179 & ⋯ & 0.000000 & 0.4333333 & B065-AP1C2 & magic\\_infamous\\_dugong           & 0.007819337 & B065 & ffbeb28631ae11efa2195e333e12fe90 & 0.9345659 & 24566 & B065-P1\\_PB00395-02\\#ffbeb28631ae11efa2195e333e12fe90\\\\\n",
       "\tB065-P1\\_PB00395-02\\#0f242c8831af11ef83c91ae18f80cdcc & B065-P1\\_PB00395-02 & B065-AP1C2W3 & 17.284 & 0.5764697 & 15062 & TRUE & 22170 & 21143 & 359 & 0.4047282 & ⋯ & 0.000000 & 0.7142857 & B065-AP1C2 & communist\\_cretaceous\\_arcticwolf & 0.006872129 & B065 & 0f242c8831af11ef83c91ae18f80cdcc & 0.9043938 & 23630 & B065-P1\\_PB00395-02\\#0f242c8831af11ef83c91ae18f80cdcc\\\\\n",
       "\tB065-P1\\_PB00395-02\\#aa659c3e31b111ef92f7ea48c9c3293e & B065-P1\\_PB00395-02 & B065-AP1C2W2 & 21.060 & 0.5645044 & 14733 & TRUE & 22983 & 21731 & 369 & 0.4164622 & ⋯ & 0.000000 & 0.8000000 & B065-AP1C2 & hypodermal\\_surprising\\_aphid     & 0.007071675 & B065 & aa659c3e31b111ef92f7ea48c9c3293e & 0.9124104 & 23813 & B065-P1\\_PB00395-02\\#aa659c3e31b111ef92f7ea48c9c3293e\\\\\n",
       "\\end{tabular}\n"
      ],
      "text/markdown": [
       "\n",
       "A data.frame: 6 × 37\n",
       "\n",
       "| <!--/--> | Sample &lt;chr&gt; | well_id &lt;chr&gt; | TSSEnrichment &lt;dbl&gt; | tss_frac &lt;dbl&gt; | tss_count &lt;int&gt; | singlet &lt;lgl&gt; | ReadsInTSS &lt;dbl&gt; | ReadsInPromoter &lt;dbl&gt; | ReadsInBlacklist &lt;dbl&gt; | PromoterRatio &lt;dbl&gt; | ⋯ ⋯ | DoubletScore &lt;dbl&gt; | DoubletEnrichment &lt;dbl&gt; | chip_id &lt;chr&gt; | cell_name &lt;chr&gt; | BlacklistRatio &lt;dbl&gt; | batch_id &lt;chr&gt; | barcodes &lt;chr&gt; | altius_frac &lt;dbl&gt; | altius_count &lt;int&gt; | archr_name &lt;chr&gt; |\n",
       "|---|---|---|---|---|---|---|---|---|---|---|---|---|---|---|---|---|---|---|---|---|---|\n",
       "| B065-P1_PB00395-02#dc9f7b1231b011ef80e742c13d66f8da | B065-P1_PB00395-02 | B065-AP1C1W1 | 23.217 | 0.6123411 | 18835 | TRUE | 31047 | 28818 | 545 | 0.4688141 | ⋯ | 0.000000 | 1.5000000 | B065-AP1C1 | unfearful_frisky_bighorn        | 0.008866114 | B065 | dc9f7b1231b011ef80e742c13d66f8da | 0.9265256 | 28499 | B065-P1_PB00395-02#dc9f7b1231b011ef80e742c13d66f8da |\n",
       "| B065-P1_PB00395-02#bc84979a31ab11efb3acae799efb27c2 | B065-P1_PB00395-02 | B065-AP1C1W4 | 18.701 | 0.3886059 | 11064 | TRUE | 17046 | 15403 | 380 | 0.2705223 | ⋯ | 2.048716 | 1.7666667 | B065-AP1C1 | expedient_flattering_gemsbok    | 0.006673926 | B065 | bc84979a31ab11efb3acae799efb27c2 | 0.7831478 | 22297 | B065-P1_PB00395-02#bc84979a31ab11efb3acae799efb27c2 |\n",
       "| B065-P1_PB00395-02#5e619c6431b311efacc2825d2c0fee52 | B065-P1_PB00395-02 | B065-AP1C2W1 | 22.989 | 0.6343741 | 17189 | TRUE | 28374 | 26201 | 433 | 0.4836631 | ⋯ | 0.000000 | 1.4000000 | B065-AP1C2 | pernicious_shy_turtle           | 0.007993059 | B065 | 5e619c6431b311efacc2825d2c0fee52 | 0.9335326 | 25295 | B065-P1_PB00395-02#5e619c6431b311efacc2825d2c0fee52 |\n",
       "| B065-P1_PB00395-02#ffbeb28631ae11efa2195e333e12fe90 | B065-P1_PB00395-02 | B065-AP1C2W4 | 23.470 | 0.6011946 | 15803 | TRUE | 26300 | 24211 | 411 | 0.4606179 | ⋯ | 0.000000 | 0.4333333 | B065-AP1C2 | magic_infamous_dugong           | 0.007819337 | B065 | ffbeb28631ae11efa2195e333e12fe90 | 0.9345659 | 24566 | B065-P1_PB00395-02#ffbeb28631ae11efa2195e333e12fe90 |\n",
       "| B065-P1_PB00395-02#0f242c8831af11ef83c91ae18f80cdcc | B065-P1_PB00395-02 | B065-AP1C2W3 | 17.284 | 0.5764697 | 15062 | TRUE | 22170 | 21143 | 359 | 0.4047282 | ⋯ | 0.000000 | 0.7142857 | B065-AP1C2 | communist_cretaceous_arcticwolf | 0.006872129 | B065 | 0f242c8831af11ef83c91ae18f80cdcc | 0.9043938 | 23630 | B065-P1_PB00395-02#0f242c8831af11ef83c91ae18f80cdcc |\n",
       "| B065-P1_PB00395-02#aa659c3e31b111ef92f7ea48c9c3293e | B065-P1_PB00395-02 | B065-AP1C2W2 | 21.060 | 0.5645044 | 14733 | TRUE | 22983 | 21731 | 369 | 0.4164622 | ⋯ | 0.000000 | 0.8000000 | B065-AP1C2 | hypodermal_surprising_aphid     | 0.007071675 | B065 | aa659c3e31b111ef92f7ea48c9c3293e | 0.9124104 | 23813 | B065-P1_PB00395-02#aa659c3e31b111ef92f7ea48c9c3293e |\n",
       "\n"
      ],
      "text/plain": [
       "                                                    Sample            \n",
       "B065-P1_PB00395-02#dc9f7b1231b011ef80e742c13d66f8da B065-P1_PB00395-02\n",
       "B065-P1_PB00395-02#bc84979a31ab11efb3acae799efb27c2 B065-P1_PB00395-02\n",
       "B065-P1_PB00395-02#5e619c6431b311efacc2825d2c0fee52 B065-P1_PB00395-02\n",
       "B065-P1_PB00395-02#ffbeb28631ae11efa2195e333e12fe90 B065-P1_PB00395-02\n",
       "B065-P1_PB00395-02#0f242c8831af11ef83c91ae18f80cdcc B065-P1_PB00395-02\n",
       "B065-P1_PB00395-02#aa659c3e31b111ef92f7ea48c9c3293e B065-P1_PB00395-02\n",
       "                                                    well_id      TSSEnrichment\n",
       "B065-P1_PB00395-02#dc9f7b1231b011ef80e742c13d66f8da B065-AP1C1W1 23.217       \n",
       "B065-P1_PB00395-02#bc84979a31ab11efb3acae799efb27c2 B065-AP1C1W4 18.701       \n",
       "B065-P1_PB00395-02#5e619c6431b311efacc2825d2c0fee52 B065-AP1C2W1 22.989       \n",
       "B065-P1_PB00395-02#ffbeb28631ae11efa2195e333e12fe90 B065-AP1C2W4 23.470       \n",
       "B065-P1_PB00395-02#0f242c8831af11ef83c91ae18f80cdcc B065-AP1C2W3 17.284       \n",
       "B065-P1_PB00395-02#aa659c3e31b111ef92f7ea48c9c3293e B065-AP1C2W2 21.060       \n",
       "                                                    tss_frac  tss_count singlet\n",
       "B065-P1_PB00395-02#dc9f7b1231b011ef80e742c13d66f8da 0.6123411 18835     TRUE   \n",
       "B065-P1_PB00395-02#bc84979a31ab11efb3acae799efb27c2 0.3886059 11064     TRUE   \n",
       "B065-P1_PB00395-02#5e619c6431b311efacc2825d2c0fee52 0.6343741 17189     TRUE   \n",
       "B065-P1_PB00395-02#ffbeb28631ae11efa2195e333e12fe90 0.6011946 15803     TRUE   \n",
       "B065-P1_PB00395-02#0f242c8831af11ef83c91ae18f80cdcc 0.5764697 15062     TRUE   \n",
       "B065-P1_PB00395-02#aa659c3e31b111ef92f7ea48c9c3293e 0.5645044 14733     TRUE   \n",
       "                                                    ReadsInTSS ReadsInPromoter\n",
       "B065-P1_PB00395-02#dc9f7b1231b011ef80e742c13d66f8da 31047      28818          \n",
       "B065-P1_PB00395-02#bc84979a31ab11efb3acae799efb27c2 17046      15403          \n",
       "B065-P1_PB00395-02#5e619c6431b311efacc2825d2c0fee52 28374      26201          \n",
       "B065-P1_PB00395-02#ffbeb28631ae11efa2195e333e12fe90 26300      24211          \n",
       "B065-P1_PB00395-02#0f242c8831af11ef83c91ae18f80cdcc 22170      21143          \n",
       "B065-P1_PB00395-02#aa659c3e31b111ef92f7ea48c9c3293e 22983      21731          \n",
       "                                                    ReadsInBlacklist\n",
       "B065-P1_PB00395-02#dc9f7b1231b011ef80e742c13d66f8da 545             \n",
       "B065-P1_PB00395-02#bc84979a31ab11efb3acae799efb27c2 380             \n",
       "B065-P1_PB00395-02#5e619c6431b311efacc2825d2c0fee52 433             \n",
       "B065-P1_PB00395-02#ffbeb28631ae11efa2195e333e12fe90 411             \n",
       "B065-P1_PB00395-02#0f242c8831af11ef83c91ae18f80cdcc 359             \n",
       "B065-P1_PB00395-02#aa659c3e31b111ef92f7ea48c9c3293e 369             \n",
       "                                                    PromoterRatio ⋯\n",
       "B065-P1_PB00395-02#dc9f7b1231b011ef80e742c13d66f8da 0.4688141     ⋯\n",
       "B065-P1_PB00395-02#bc84979a31ab11efb3acae799efb27c2 0.2705223     ⋯\n",
       "B065-P1_PB00395-02#5e619c6431b311efacc2825d2c0fee52 0.4836631     ⋯\n",
       "B065-P1_PB00395-02#ffbeb28631ae11efa2195e333e12fe90 0.4606179     ⋯\n",
       "B065-P1_PB00395-02#0f242c8831af11ef83c91ae18f80cdcc 0.4047282     ⋯\n",
       "B065-P1_PB00395-02#aa659c3e31b111ef92f7ea48c9c3293e 0.4164622     ⋯\n",
       "                                                    DoubletScore\n",
       "B065-P1_PB00395-02#dc9f7b1231b011ef80e742c13d66f8da 0.000000    \n",
       "B065-P1_PB00395-02#bc84979a31ab11efb3acae799efb27c2 2.048716    \n",
       "B065-P1_PB00395-02#5e619c6431b311efacc2825d2c0fee52 0.000000    \n",
       "B065-P1_PB00395-02#ffbeb28631ae11efa2195e333e12fe90 0.000000    \n",
       "B065-P1_PB00395-02#0f242c8831af11ef83c91ae18f80cdcc 0.000000    \n",
       "B065-P1_PB00395-02#aa659c3e31b111ef92f7ea48c9c3293e 0.000000    \n",
       "                                                    DoubletEnrichment\n",
       "B065-P1_PB00395-02#dc9f7b1231b011ef80e742c13d66f8da 1.5000000        \n",
       "B065-P1_PB00395-02#bc84979a31ab11efb3acae799efb27c2 1.7666667        \n",
       "B065-P1_PB00395-02#5e619c6431b311efacc2825d2c0fee52 1.4000000        \n",
       "B065-P1_PB00395-02#ffbeb28631ae11efa2195e333e12fe90 0.4333333        \n",
       "B065-P1_PB00395-02#0f242c8831af11ef83c91ae18f80cdcc 0.7142857        \n",
       "B065-P1_PB00395-02#aa659c3e31b111ef92f7ea48c9c3293e 0.8000000        \n",
       "                                                    chip_id   \n",
       "B065-P1_PB00395-02#dc9f7b1231b011ef80e742c13d66f8da B065-AP1C1\n",
       "B065-P1_PB00395-02#bc84979a31ab11efb3acae799efb27c2 B065-AP1C1\n",
       "B065-P1_PB00395-02#5e619c6431b311efacc2825d2c0fee52 B065-AP1C2\n",
       "B065-P1_PB00395-02#ffbeb28631ae11efa2195e333e12fe90 B065-AP1C2\n",
       "B065-P1_PB00395-02#0f242c8831af11ef83c91ae18f80cdcc B065-AP1C2\n",
       "B065-P1_PB00395-02#aa659c3e31b111ef92f7ea48c9c3293e B065-AP1C2\n",
       "                                                    cell_name                      \n",
       "B065-P1_PB00395-02#dc9f7b1231b011ef80e742c13d66f8da unfearful_frisky_bighorn       \n",
       "B065-P1_PB00395-02#bc84979a31ab11efb3acae799efb27c2 expedient_flattering_gemsbok   \n",
       "B065-P1_PB00395-02#5e619c6431b311efacc2825d2c0fee52 pernicious_shy_turtle          \n",
       "B065-P1_PB00395-02#ffbeb28631ae11efa2195e333e12fe90 magic_infamous_dugong          \n",
       "B065-P1_PB00395-02#0f242c8831af11ef83c91ae18f80cdcc communist_cretaceous_arcticwolf\n",
       "B065-P1_PB00395-02#aa659c3e31b111ef92f7ea48c9c3293e hypodermal_surprising_aphid    \n",
       "                                                    BlacklistRatio batch_id\n",
       "B065-P1_PB00395-02#dc9f7b1231b011ef80e742c13d66f8da 0.008866114    B065    \n",
       "B065-P1_PB00395-02#bc84979a31ab11efb3acae799efb27c2 0.006673926    B065    \n",
       "B065-P1_PB00395-02#5e619c6431b311efacc2825d2c0fee52 0.007993059    B065    \n",
       "B065-P1_PB00395-02#ffbeb28631ae11efa2195e333e12fe90 0.007819337    B065    \n",
       "B065-P1_PB00395-02#0f242c8831af11ef83c91ae18f80cdcc 0.006872129    B065    \n",
       "B065-P1_PB00395-02#aa659c3e31b111ef92f7ea48c9c3293e 0.007071675    B065    \n",
       "                                                    barcodes                        \n",
       "B065-P1_PB00395-02#dc9f7b1231b011ef80e742c13d66f8da dc9f7b1231b011ef80e742c13d66f8da\n",
       "B065-P1_PB00395-02#bc84979a31ab11efb3acae799efb27c2 bc84979a31ab11efb3acae799efb27c2\n",
       "B065-P1_PB00395-02#5e619c6431b311efacc2825d2c0fee52 5e619c6431b311efacc2825d2c0fee52\n",
       "B065-P1_PB00395-02#ffbeb28631ae11efa2195e333e12fe90 ffbeb28631ae11efa2195e333e12fe90\n",
       "B065-P1_PB00395-02#0f242c8831af11ef83c91ae18f80cdcc 0f242c8831af11ef83c91ae18f80cdcc\n",
       "B065-P1_PB00395-02#aa659c3e31b111ef92f7ea48c9c3293e aa659c3e31b111ef92f7ea48c9c3293e\n",
       "                                                    altius_frac altius_count\n",
       "B065-P1_PB00395-02#dc9f7b1231b011ef80e742c13d66f8da 0.9265256   28499       \n",
       "B065-P1_PB00395-02#bc84979a31ab11efb3acae799efb27c2 0.7831478   22297       \n",
       "B065-P1_PB00395-02#5e619c6431b311efacc2825d2c0fee52 0.9335326   25295       \n",
       "B065-P1_PB00395-02#ffbeb28631ae11efa2195e333e12fe90 0.9345659   24566       \n",
       "B065-P1_PB00395-02#0f242c8831af11ef83c91ae18f80cdcc 0.9043938   23630       \n",
       "B065-P1_PB00395-02#aa659c3e31b111ef92f7ea48c9c3293e 0.9124104   23813       \n",
       "                                                    archr_name                                         \n",
       "B065-P1_PB00395-02#dc9f7b1231b011ef80e742c13d66f8da B065-P1_PB00395-02#dc9f7b1231b011ef80e742c13d66f8da\n",
       "B065-P1_PB00395-02#bc84979a31ab11efb3acae799efb27c2 B065-P1_PB00395-02#bc84979a31ab11efb3acae799efb27c2\n",
       "B065-P1_PB00395-02#5e619c6431b311efacc2825d2c0fee52 B065-P1_PB00395-02#5e619c6431b311efacc2825d2c0fee52\n",
       "B065-P1_PB00395-02#ffbeb28631ae11efa2195e333e12fe90 B065-P1_PB00395-02#ffbeb28631ae11efa2195e333e12fe90\n",
       "B065-P1_PB00395-02#0f242c8831af11ef83c91ae18f80cdcc B065-P1_PB00395-02#0f242c8831af11ef83c91ae18f80cdcc\n",
       "B065-P1_PB00395-02#aa659c3e31b111ef92f7ea48c9c3293e B065-P1_PB00395-02#aa659c3e31b111ef92f7ea48c9c3293e"
      ]
     },
     "metadata": {},
     "output_type": "display_data"
    }
   ],
   "source": [
    "head(all_metadata)"
   ]
  },
  {
   "cell_type": "markdown",
   "id": "f9efbcbb-38cb-4aa4-bbd2-c18a98955bc2",
   "metadata": {},
   "source": [
    "## Write output file\n",
    "\n",
    "Write the metadata as a .csv for later use. We remove `row.names` and set `quote = FALSE` to simplify the outputs and increase compatibility with other tools."
   ]
  },
  {
   "cell_type": "code",
   "execution_count": 11,
   "id": "ac05a12a-e410-4f34-8436-19b0a27c3d50",
   "metadata": {},
   "outputs": [
    {
     "name": "stderr",
     "output_type": "stream",
     "text": [
      "Warning message in dir.create(\"output\"):\n",
      "“'output' already exists”\n"
     ]
    }
   ],
   "source": [
    "dir.create(\"output\")"
   ]
  },
  {
   "cell_type": "code",
   "execution_count": 12,
   "id": "b3234c3e-3429-43db-8878-be282260a7ef",
   "metadata": {},
   "outputs": [],
   "source": [
    "write.csv(\n",
    "    all_metadata,\n",
    "    \"output/atac_cell_metadata.csv\",\n",
    "    row.names = FALSE,\n",
    "    quote = FALSE\n",
    ")"
   ]
  },
  {
   "cell_type": "markdown",
   "id": "2e7a7f73-792c-4f01-82b1-e6f8d7d1f737",
   "metadata": {},
   "source": [
    "## Store results in HISE\n",
    "\n",
    "Finally, we store the output file in our Collaboration Space for later retrieval and use. We need to provide the UUID for our Collaboration Space (aka `studySpaceId`), as well as a title for this step in our analysis process.\n",
    "\n",
    "The hise function `uploadFiles()` also requires the FileIDs from the original fileset for reference, which we assembled above when files were retrieved (`input_file_uuids`)"
   ]
  },
  {
   "cell_type": "code",
   "execution_count": 13,
   "id": "6d2aaf10-3220-4578-8b7e-eafa8bd63b28",
   "metadata": {},
   "outputs": [],
   "source": [
    "study_space_uuid <- \"00a53fa5-18da-4333-84cb-3cc0b0761201\"\n",
    "title <- \"TEA-seq demo unfiltered A cell metadata\""
   ]
  },
  {
   "cell_type": "code",
   "execution_count": 15,
   "id": "f2b86fdf-fe61-41ba-a84b-c57ed317b5d7",
   "metadata": {},
   "outputs": [
    {
     "data": {
      "text/html": [
       "'ethical_whippoorwill'"
      ],
      "text/latex": [
       "'ethical\\_whippoorwill'"
      ],
      "text/markdown": [
       "'ethical_whippoorwill'"
      ],
      "text/plain": [
       "[1] \"ethical_whippoorwill\""
      ]
     },
     "metadata": {},
     "output_type": "display_data"
    }
   ],
   "source": [
    "search_id <- ids::adjective_animal()\n",
    "search_id"
   ]
  },
  {
   "cell_type": "code",
   "execution_count": 17,
   "id": "91b95072-8c52-4432-a446-8722f0c74e69",
   "metadata": {},
   "outputs": [],
   "source": [
    "in_list <- as.list(sample_meta$atac_file.id)"
   ]
  },
  {
   "cell_type": "code",
   "execution_count": 18,
   "id": "bcf68104-6c5c-4890-a3d9-1123300a4aab",
   "metadata": {},
   "outputs": [
    {
     "data": {
      "text/html": [
       "<ol>\n",
       "\t<li>'32f3d133-f343-4a1e-aca7-13fc3db2f41a'</li>\n",
       "\t<li>'d45a1b4c-b9c2-439d-b6d5-443f6060dcc7'</li>\n",
       "\t<li>'bd06e203-1531-4c42-bc5b-c5bd5999cccd'</li>\n",
       "\t<li>'fe2d1cbd-de72-406a-b553-b7e3f6262cb3'</li>\n",
       "\t<li>'8959f160-2511-40f3-80d5-59060c2a0183'</li>\n",
       "\t<li>'6f53386c-7492-4d44-893b-5f0e2b8d97cf'</li>\n",
       "\t<li>'e1424785-1979-4c81-8a6d-5a3278cd42ef'</li>\n",
       "\t<li>'8b0b772e-06bd-478c-a4b2-70cd6cbd6887'</li>\n",
       "</ol>\n"
      ],
      "text/latex": [
       "\\begin{enumerate}\n",
       "\\item '32f3d133-f343-4a1e-aca7-13fc3db2f41a'\n",
       "\\item 'd45a1b4c-b9c2-439d-b6d5-443f6060dcc7'\n",
       "\\item 'bd06e203-1531-4c42-bc5b-c5bd5999cccd'\n",
       "\\item 'fe2d1cbd-de72-406a-b553-b7e3f6262cb3'\n",
       "\\item '8959f160-2511-40f3-80d5-59060c2a0183'\n",
       "\\item '6f53386c-7492-4d44-893b-5f0e2b8d97cf'\n",
       "\\item 'e1424785-1979-4c81-8a6d-5a3278cd42ef'\n",
       "\\item '8b0b772e-06bd-478c-a4b2-70cd6cbd6887'\n",
       "\\end{enumerate}\n"
      ],
      "text/markdown": [
       "1. '32f3d133-f343-4a1e-aca7-13fc3db2f41a'\n",
       "2. 'd45a1b4c-b9c2-439d-b6d5-443f6060dcc7'\n",
       "3. 'bd06e203-1531-4c42-bc5b-c5bd5999cccd'\n",
       "4. 'fe2d1cbd-de72-406a-b553-b7e3f6262cb3'\n",
       "5. '8959f160-2511-40f3-80d5-59060c2a0183'\n",
       "6. '6f53386c-7492-4d44-893b-5f0e2b8d97cf'\n",
       "7. 'e1424785-1979-4c81-8a6d-5a3278cd42ef'\n",
       "8. '8b0b772e-06bd-478c-a4b2-70cd6cbd6887'\n",
       "\n",
       "\n"
      ],
      "text/plain": [
       "[[1]]\n",
       "[1] \"32f3d133-f343-4a1e-aca7-13fc3db2f41a\"\n",
       "\n",
       "[[2]]\n",
       "[1] \"d45a1b4c-b9c2-439d-b6d5-443f6060dcc7\"\n",
       "\n",
       "[[3]]\n",
       "[1] \"bd06e203-1531-4c42-bc5b-c5bd5999cccd\"\n",
       "\n",
       "[[4]]\n",
       "[1] \"fe2d1cbd-de72-406a-b553-b7e3f6262cb3\"\n",
       "\n",
       "[[5]]\n",
       "[1] \"8959f160-2511-40f3-80d5-59060c2a0183\"\n",
       "\n",
       "[[6]]\n",
       "[1] \"6f53386c-7492-4d44-893b-5f0e2b8d97cf\"\n",
       "\n",
       "[[7]]\n",
       "[1] \"e1424785-1979-4c81-8a6d-5a3278cd42ef\"\n",
       "\n",
       "[[8]]\n",
       "[1] \"8b0b772e-06bd-478c-a4b2-70cd6cbd6887\"\n"
      ]
     },
     "metadata": {},
     "output_type": "display_data"
    }
   ],
   "source": [
    "in_list"
   ]
  },
  {
   "cell_type": "code",
   "execution_count": 19,
   "id": "442e1f4f-64cf-4a61-8bdd-bd941370d546",
   "metadata": {},
   "outputs": [],
   "source": [
    "out_list <- list(\"output/atac_cell_metadata.csv\")"
   ]
  },
  {
   "cell_type": "code",
   "execution_count": 20,
   "id": "237d5313-0d5c-45a3-9df6-e722c074aec7",
   "metadata": {},
   "outputs": [
    {
     "data": {
      "text/html": [
       "<ol>\n",
       "\t<li>'output/atac_cell_metadata.csv'</li>\n",
       "</ol>\n"
      ],
      "text/latex": [
       "\\begin{enumerate}\n",
       "\\item 'output/atac\\_cell\\_metadata.csv'\n",
       "\\end{enumerate}\n"
      ],
      "text/markdown": [
       "1. 'output/atac_cell_metadata.csv'\n",
       "\n",
       "\n"
      ],
      "text/plain": [
       "[[1]]\n",
       "[1] \"output/atac_cell_metadata.csv\"\n"
      ]
     },
     "metadata": {},
     "output_type": "display_data"
    }
   ],
   "source": [
    "out_list"
   ]
  },
  {
   "cell_type": "code",
   "execution_count": 21,
   "id": "7ec3e708-4801-4ff2-bdf4-5cc178c3d88d",
   "metadata": {},
   "outputs": [
    {
     "name": "stdout",
     "output_type": "stream",
     "text": [
      "[1] \"Cannot determine the current notebook.\"\n",
      "[1] \"1) /home/jupyter/certpro-workflow-demos/adult_vs_pediatric_teaseq/02-R_get_arrow_metadata.ipynb\"\n",
      "[1] \"2) /home/jupyter/certpro-workflow-demos/adult_vs_pediatric_teaseq/01-R_get_h5_metadata.ipynb\"\n",
      "[1] \"3) /home/jupyter/certpro-workflow-demos/adult_vs_pediatric_teaseq/00-R_select_samples.ipynb\"\n"
     ]
    },
    {
     "name": "stdin",
     "output_type": "stream",
     "text": [
      "Please select (1-3)  1\n"
     ]
    },
    {
     "name": "stderr",
     "output_type": "stream",
     "text": [
      "You are trying to upload the following files:  output/atac_cell_metadata.csv\n",
      "\n"
     ]
    },
    {
     "name": "stdin",
     "output_type": "stream",
     "text": [
      "(y/n) y\n"
     ]
    },
    {
     "data": {
      "text/html": [
       "<dl>\n",
       "\t<dt>$files</dt>\n",
       "\t\t<dd><ol>\n",
       "\t<li>'output/atac_cell_metadata.csv'</li>\n",
       "</ol>\n",
       "</dd>\n",
       "\t<dt>$traceId</dt>\n",
       "\t\t<dd>'17f2d1cc-9da5-476d-aaf2-9e7b50c8ca02'</dd>\n",
       "</dl>\n"
      ],
      "text/latex": [
       "\\begin{description}\n",
       "\\item[\\$files] \\begin{enumerate}\n",
       "\\item 'output/atac\\_cell\\_metadata.csv'\n",
       "\\end{enumerate}\n",
       "\n",
       "\\item[\\$traceId] '17f2d1cc-9da5-476d-aaf2-9e7b50c8ca02'\n",
       "\\end{description}\n"
      ],
      "text/markdown": [
       "$files\n",
       ":   1. 'output/atac_cell_metadata.csv'\n",
       "\n",
       "\n",
       "\n",
       "$traceId\n",
       ":   '17f2d1cc-9da5-476d-aaf2-9e7b50c8ca02'\n",
       "\n",
       "\n"
      ],
      "text/plain": [
       "$files\n",
       "$files[[1]]\n",
       "[1] \"output/atac_cell_metadata.csv\"\n",
       "\n",
       "\n",
       "$traceId\n",
       "[1] \"17f2d1cc-9da5-476d-aaf2-9e7b50c8ca02\"\n"
      ]
     },
     "metadata": {},
     "output_type": "display_data"
    }
   ],
   "source": [
    "uploadFiles(\n",
    "    files = out_list,\n",
    "    studySpaceId = study_space_uuid,\n",
    "    title = title,\n",
    "    inputFileIds = in_list,\n",
    "    destination = search_id\n",
    ")"
   ]
  },
  {
   "cell_type": "code",
   "execution_count": 22,
   "id": "c42c119c-09d3-467a-845d-50c93a897466",
   "metadata": {},
   "outputs": [
    {
     "data": {
      "text/plain": [
       "R version 4.3.2 (2023-10-31)\n",
       "Platform: x86_64-conda-linux-gnu (64-bit)\n",
       "Running under: Ubuntu 20.04.6 LTS\n",
       "\n",
       "Matrix products: default\n",
       "BLAS/LAPACK: /opt/conda/lib/libopenblasp-r0.3.25.so;  LAPACK version 3.11.0\n",
       "\n",
       "locale:\n",
       " [1] LC_CTYPE=C.UTF-8       LC_NUMERIC=C           LC_TIME=C.UTF-8       \n",
       " [4] LC_COLLATE=C.UTF-8     LC_MONETARY=C.UTF-8    LC_MESSAGES=C.UTF-8   \n",
       " [7] LC_PAPER=C.UTF-8       LC_NAME=C              LC_ADDRESS=C          \n",
       "[10] LC_TELEPHONE=C         LC_MEASUREMENT=C.UTF-8 LC_IDENTIFICATION=C   \n",
       "\n",
       "time zone: Etc/UTC\n",
       "tzcode source: system (glibc)\n",
       "\n",
       "attached base packages:\n",
       "[1] stats4    grid      stats     graphics  grDevices utils     datasets \n",
       "[8] methods   base     \n",
       "\n",
       "other attached packages:\n",
       " [1] BSgenome.Hsapiens.UCSC.hg38_1.4.5 BSgenome_1.70.1                  \n",
       " [3] rtracklayer_1.62.0                BiocIO_1.12.0                    \n",
       " [5] Biostrings_2.70.1                 XVector_0.42.0                   \n",
       " [7] purrr_1.0.2                       rhdf5_2.46.1                     \n",
       " [9] SummarizedExperiment_1.32.0       Biobase_2.62.0                   \n",
       "[11] MatrixGenerics_1.14.0             Rcpp_1.0.12                      \n",
       "[13] Matrix_1.6-4                      GenomicRanges_1.54.1             \n",
       "[15] GenomeInfoDb_1.38.5               IRanges_2.36.0                   \n",
       "[17] S4Vectors_0.40.2                  BiocGenerics_0.48.1              \n",
       "[19] matrixStats_1.2.0                 data.table_1.15.4                \n",
       "[21] stringr_1.5.1                     plyr_1.8.9                       \n",
       "[23] magrittr_2.0.3                    ggplot2_3.5.0                    \n",
       "[25] gtable_0.3.4                      gtools_3.9.5                     \n",
       "[27] gridExtra_2.3                     ArchR_1.0.2                      \n",
       "[29] hise_2.16.0                      \n",
       "\n",
       "loaded via a namespace (and not attached):\n",
       " [1] rjson_0.2.21             lattice_0.22-5           rhdf5filters_1.14.1     \n",
       " [4] vctrs_0.6.5              tools_4.3.2              bitops_1.0-7            \n",
       " [7] generics_0.1.3           curl_5.1.0               parallel_4.3.2          \n",
       "[10] tibble_3.2.1             fansi_1.0.6              pkgconfig_2.0.3         \n",
       "[13] assertthat_0.2.1         uuid_1.2-0               lifecycle_1.0.4         \n",
       "[16] GenomeInfoDbData_1.2.11  compiler_4.3.2           ids_1.0.1               \n",
       "[19] Rsamtools_2.18.0         munsell_0.5.1            repr_1.1.7              \n",
       "[22] codetools_0.2-19         htmltools_0.5.8          yaml_2.3.8              \n",
       "[25] RCurl_1.98-1.14          pillar_1.9.0             crayon_1.5.2            \n",
       "[28] BiocParallel_1.36.0      DelayedArray_0.28.0      abind_1.4-5             \n",
       "[31] tidyselect_1.2.0         digest_0.6.35            stringi_1.8.3           \n",
       "[34] restfulr_0.0.15          dplyr_1.1.4              fastmap_1.1.1           \n",
       "[37] colorspace_2.1-0         cli_3.6.2                SparseArray_1.2.3       \n",
       "[40] S4Arrays_1.2.0           base64enc_0.1-3          XML_3.99-0.16           \n",
       "[43] utf8_1.2.4               IRdisplay_1.1            withr_3.0.0             \n",
       "[46] scales_1.3.0             IRkernel_1.3.2           httr_1.4.7              \n",
       "[49] pbdZMQ_0.3-10            evaluate_0.23            rlang_1.1.3             \n",
       "[52] glue_1.7.0               jsonlite_1.8.8           R6_2.5.1                \n",
       "[55] Rhdf5lib_1.24.1          GenomicAlignments_1.38.0 zlibbioc_1.48.0         "
      ]
     },
     "metadata": {},
     "output_type": "display_data"
    }
   ],
   "source": [
    "sessionInfo()"
   ]
  },
  {
   "cell_type": "code",
   "execution_count": null,
   "id": "9c1f7e99-5960-4d18-bcdf-387c5253ccd9",
   "metadata": {},
   "outputs": [],
   "source": []
  }
 ],
 "metadata": {
  "environment": {
   "kernel": "ir4",
   "name": ".m121",
   "type": "gcloud",
   "uri": "us-docker.pkg.dev/deeplearning-platform-release/gcr.io/:m121"
  },
  "kernelspec": {
   "display_name": "R 4",
   "language": "R",
   "name": "ir4"
  },
  "language_info": {
   "codemirror_mode": "r",
   "file_extension": ".r",
   "mimetype": "text/x-r-source",
   "name": "R",
   "pygments_lexer": "r",
   "version": "4.3.2"
  }
 },
 "nbformat": 4,
 "nbformat_minor": 5
}
