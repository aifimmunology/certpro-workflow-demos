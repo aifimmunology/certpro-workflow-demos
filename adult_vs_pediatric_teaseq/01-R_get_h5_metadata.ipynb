{
 "cells": [
  {
   "cell_type": "markdown",
   "id": "06cb5601-bf1c-4c6a-b94a-96ba3ddc26b4",
   "metadata": {},
   "source": [
    "# Retrieve RNA and ADT Metadata\n",
    "\n",
    "To begin our analysis, we'll retrieve the .h5 files that contain RNA and ADT data and metadata after our TEA-seq QC and demultiplexing pipeline. We'll then extract the metadata for cells to use for cell filtering and QC plots."
   ]
  },
  {
   "cell_type": "markdown",
   "id": "efee75ae-17b4-44f4-940d-162286339071",
   "metadata": {},
   "source": [
    "## Setup"
   ]
  },
  {
   "cell_type": "markdown",
   "id": "bd55408c-9690-4ad5-a79d-3d55b33eeaf2",
   "metadata": {},
   "source": [
    "Install BarMixer if not present. BarMixer is an R package that is part of the BarWare tools for barcoded scRNA-seq data, and has helper functions for easily reading cell metadata from our .h5 files.\n",
    "\n",
    "BarMixer repository: https://github.com/AllenInstitute/BarMixer  \n",
    "BarWare paper: [Swanson, et al., BMC Bioinformatics (2022)](https://bmcbioinformatics.biomedcentral.com/articles/10.1186/s12859-022-04620-2)"
   ]
  },
  {
   "cell_type": "code",
   "execution_count": 1,
   "id": "098a2857-a45b-465f-8125-e680363d86c7",
   "metadata": {},
   "outputs": [],
   "source": [
    "ip <- installed.packages()\n",
    "if(!\"BarMixer\" %in% rownames(ip)) {\n",
    "    devtools::install_github(\n",
    "        \"alleninstitute/BarMixer\",\n",
    "        upgrade = \"never\"\n",
    "    )\n",
    "}"
   ]
  },
  {
   "cell_type": "markdown",
   "id": "2967d0cb-afdb-4c62-907d-09b7e72a9bd9",
   "metadata": {},
   "source": [
    "## Load packages\n",
    "\n",
    "hise: The Human Immune System Explorer R SDK package  \n",
    "BarMixer: .h5 file handling  \n",
    "purrr: Functional programming tools  \n"
   ]
  },
  {
   "cell_type": "code",
   "execution_count": 2,
   "id": "74053ca6-2556-4a1e-a18a-7ae6a72b16a1",
   "metadata": {},
   "outputs": [],
   "source": [
    "quiet_library <- function(...) { suppressPackageStartupMessages(library(...)) }\n",
    "quiet_library(hise)\n",
    "quiet_library(BarMixer)\n",
    "quiet_library(purrr)"
   ]
  },
  {
   "cell_type": "markdown",
   "id": "c9b2868d-a8f0-4cbf-b536-10883f5f26d1",
   "metadata": {},
   "source": [
    "## Retrieve files\n",
    "\n",
    "Now, we'll use the HISE SDK package to retrieve the TEA-seq .h5 file outputs based on their file UUIDs. These will be placed in the `cache/` subdirectory by default."
   ]
  },
  {
   "cell_type": "raw",
   "id": "fd179c7f-e16e-48e7-9b35-b9897289e679",
   "metadata": {},
   "source": [
    "input_file_uuids <- list(\n",
    "    \"0a4dcc97-bc5a-4aa6-a3d3-16cf612502ce\", \n",
    "    \"0af11a1e-c721-40e1-9455-032416ab1aa1\", \n",
    "    \"1981a346-0a61-4360-a11c-2e846af8aa52\", \n",
    "    \"1be65739-445a-41fe-89a4-52fbbba2000d\", \n",
    "    \"5ed5b8a3-1a79-40fb-b47f-c38dda0f012c\", \n",
    "    \"636e9db3-1870-4691-832c-814588039474\", \n",
    "    \"63a493fb-f7cb-4544-bd3a-c55fc9c26426\", \n",
    "    \"7d9548ce-8468-45d6-9489-fa638e421934\", \n",
    "    \"d3a284cf-b101-44d4-9f88-d3683b371fa6\", \n",
    "    \"d5ddec3e-c699-4f04-89fa-34c9d3cfeec1\", \n",
    "    \"de3962ef-1b9f-4e16-a660-6d839d52e432\", \n",
    "    \"f9a1b436-a5cf-4950-99ba-add2c5ac0707\"\n",
    ")"
   ]
  },
  {
   "cell_type": "raw",
   "id": "9b52cf93-ffb4-47df-b424-7e479a9770ea",
   "metadata": {},
   "source": [
    "fres <- hise::cacheFiles(\n",
    "    input_file_uuids\n",
    ")"
   ]
  },
  {
   "cell_type": "code",
   "execution_count": 3,
   "id": "46f4d9a4-d4c6-4b67-a47e-1c161e5b7ab0",
   "metadata": {},
   "outputs": [],
   "source": [
    "sample_meta <- read.csv(\"sample_meta.csv\")\n",
    "project_store <- \"PedvsSenior\""
   ]
  },
  {
   "cell_type": "code",
   "execution_count": 4,
   "id": "551b3376-2b07-4d5b-b196-5bc53090bcef",
   "metadata": {},
   "outputs": [],
   "source": [
    "file_res <- map(\n",
    "    sample_meta$h5_file,\n",
    "    function(file_name) {\n",
    "        downloadFileFromProjectStore(\n",
    "            storeName = project_store,\n",
    "            file_name\n",
    "        )\n",
    "    }\n",
    ")"
   ]
  },
  {
   "cell_type": "markdown",
   "id": "a650faec-5bfa-4770-b4ad-f0ff86742b69",
   "metadata": {},
   "source": [
    "## Assemble metadata\n",
    "\n",
    "Here, we list each of the files in `cache/` and read cell metadata using the BarMixer function `read_h5_cell_meta()`. purrr's `map_dfr()` handles iteration over the files, and assembles a single table with metadata for all cells by row concatenation."
   ]
  },
  {
   "cell_type": "raw",
   "id": "048a8f25-2509-4282-84e0-f54f98db3d67",
   "metadata": {},
   "source": [
    "h5_files <- list.files(\n",
    "    \"cache/\",\n",
    "    pattern = \".h5$\",\n",
    "    recursive = TRUE,\n",
    "    full.names = TRUE)"
   ]
  },
  {
   "cell_type": "code",
   "execution_count": 5,
   "id": "3e1980c6-8846-4256-8625-f77cb2971fd5",
   "metadata": {},
   "outputs": [],
   "source": [
    "h5_files <- sample_meta$h5_file"
   ]
  },
  {
   "cell_type": "code",
   "execution_count": 6,
   "id": "ee73148e-fad3-436b-8a1d-f0a7954f12f8",
   "metadata": {},
   "outputs": [],
   "source": [
    "all_metadata <- map_dfr(\n",
    "    h5_files,\n",
    "    read_h5_cell_meta\n",
    ")"
   ]
  },
  {
   "cell_type": "code",
   "execution_count": 7,
   "id": "e29518fa-4dd3-4e43-a9e1-5329b552b6aa",
   "metadata": {},
   "outputs": [
    {
     "data": {
      "text/html": [
       "<table class=\"dataframe\">\n",
       "<caption>A data.frame: 6 × 21</caption>\n",
       "<thead>\n",
       "\t<tr><th></th><th scope=col>barcodes</th><th scope=col>adt_qc_flag</th><th scope=col>adt_umis</th><th scope=col>batch_id</th><th scope=col>cell_name</th><th scope=col>chip_id</th><th scope=col>hto_barcode</th><th scope=col>hto_category</th><th scope=col>n_genes</th><th scope=col>n_mito_umis</th><th scope=col>⋯</th><th scope=col>n_umis</th><th scope=col>original_barcodes</th><th scope=col>pbmc_sample_id</th><th scope=col>pool_id</th><th scope=col>rna_cell_uuid</th><th scope=col>seurat_pbmc_type</th><th scope=col>seurat_pbmc_type_score</th><th scope=col>umap_1</th><th scope=col>umap_2</th><th scope=col>well_id</th></tr>\n",
       "\t<tr><th></th><th scope=col>&lt;chr&gt;</th><th scope=col>&lt;chr&gt;</th><th scope=col>&lt;int&gt;</th><th scope=col>&lt;chr&gt;</th><th scope=col>&lt;chr&gt;</th><th scope=col>&lt;chr&gt;</th><th scope=col>&lt;chr&gt;</th><th scope=col>&lt;chr&gt;</th><th scope=col>&lt;int&gt;</th><th scope=col>&lt;int&gt;</th><th scope=col>⋯</th><th scope=col>&lt;int&gt;</th><th scope=col>&lt;chr&gt;</th><th scope=col>&lt;chr&gt;</th><th scope=col>&lt;chr&gt;</th><th scope=col>&lt;chr&gt;</th><th scope=col>&lt;chr&gt;</th><th scope=col>&lt;dbl&gt;</th><th scope=col>&lt;dbl&gt;</th><th scope=col>&lt;dbl&gt;</th><th scope=col>&lt;chr&gt;</th></tr>\n",
       "</thead>\n",
       "<tbody>\n",
       "\t<tr><th scope=row>1</th><td>970c3f98e40811eba89d42010a19c839</td><td>Good</td><td>2184</td><td>B065</td><td>equatorial_wornout_skimmer   </td><td>B065-P1C1</td><td>CTCCTCTGCAATTAC</td><td>singlet</td><td>1227</td><td>306</td><td>⋯</td><td>2338</td><td>AAACCGCGTTTGGGCG</td><td>PB00173-02</td><td>B065-P1</td><td>6041c6b0e40b11ebbdd742010a19c839</td><td>CD4 Memory  </td><td>0.5934867</td><td>  1.347388</td><td> 4.8437943</td><td>B065-P1C1W1</td></tr>\n",
       "\t<tr><th scope=row>2</th><td>970eb142e40811eba89d42010a19c839</td><td>Good</td><td>1922</td><td>B065</td><td>manly_hillocked_cat          </td><td>B065-P1C1</td><td>CTCCTCTGCAATTAC</td><td>singlet</td><td>1717</td><td>257</td><td>⋯</td><td>3656</td><td>AAACGGATCGCTAGCA</td><td>PB00173-02</td><td>B065-P1</td><td>6041cb56e40b11ebbdd742010a19c839</td><td>CD4 Memory  </td><td>0.9915653</td><td> -2.247861</td><td>-5.5957509</td><td>B065-P1C1W1</td></tr>\n",
       "\t<tr><th scope=row>3</th><td>970f7834e40811eba89d42010a19c839</td><td>Good</td><td>3646</td><td>B065</td><td>berkelium_botanic_pangolin   </td><td>B065-P1C1</td><td>CTCCTCTGCAATTAC</td><td>singlet</td><td>1934</td><td>180</td><td>⋯</td><td>3971</td><td>AAACGTACAGCAATAA</td><td>PB00173-02</td><td>B065-P1</td><td>6041cc14e40b11ebbdd742010a19c839</td><td>CD8 effector</td><td>0.5723163</td><td>-10.456034</td><td>-0.5250534</td><td>B065-P1C1W1</td></tr>\n",
       "\t<tr><th scope=row>4</th><td>9713353ce40811eba89d42010a19c839</td><td>Good</td><td>3182</td><td>B065</td><td>clearcut_barbarous_tilefish  </td><td>B065-P1C1</td><td>CTCCTCTGCAATTAC</td><td>singlet</td><td>1975</td><td>274</td><td>⋯</td><td>4622</td><td>AAAGCCGCAATATACC</td><td>PB00173-02</td><td>B065-P1</td><td>6041d042e40b11ebbdd742010a19c839</td><td>CD4 Memory  </td><td>0.4698943</td><td> -8.026187</td><td>-1.8615069</td><td>B065-P1C1W1</td></tr>\n",
       "\t<tr><th scope=row>5</th><td>971a68e8e40811eba89d42010a19c839</td><td>Good</td><td>4279</td><td>B065</td><td>daring_pricey_barb           </td><td>B065-P1C1</td><td>CTCCTCTGCAATTAC</td><td>singlet</td><td>1798</td><td>271</td><td>⋯</td><td>3721</td><td>AAATCCGGTTAGCATG</td><td>PB00173-02</td><td>B065-P1</td><td>6041d89ee40b11ebbdd742010a19c839</td><td>CD8 effector</td><td>0.5886705</td><td> -8.415179</td><td>-1.6606372</td><td>B065-P1C1W1</td></tr>\n",
       "\t<tr><th scope=row>6</th><td>971b0bd6e40811eba89d42010a19c839</td><td>Good</td><td>3075</td><td>B065</td><td>artycrafty_graceful_robberfly</td><td>B065-P1C1</td><td>CTCCTCTGCAATTAC</td><td>singlet</td><td>1954</td><td>337</td><td>⋯</td><td>4382</td><td>AAATGCCTCCCTCAAC</td><td>PB00173-02</td><td>B065-P1</td><td>6041d948e40b11ebbdd742010a19c839</td><td>CD4 Memory  </td><td>0.6832154</td><td> -1.591888</td><td> 6.1683630</td><td>B065-P1C1W1</td></tr>\n",
       "</tbody>\n",
       "</table>\n"
      ],
      "text/latex": [
       "A data.frame: 6 × 21\n",
       "\\begin{tabular}{r|lllllllllllllllllllll}\n",
       "  & barcodes & adt\\_qc\\_flag & adt\\_umis & batch\\_id & cell\\_name & chip\\_id & hto\\_barcode & hto\\_category & n\\_genes & n\\_mito\\_umis & ⋯ & n\\_umis & original\\_barcodes & pbmc\\_sample\\_id & pool\\_id & rna\\_cell\\_uuid & seurat\\_pbmc\\_type & seurat\\_pbmc\\_type\\_score & umap\\_1 & umap\\_2 & well\\_id\\\\\n",
       "  & <chr> & <chr> & <int> & <chr> & <chr> & <chr> & <chr> & <chr> & <int> & <int> & ⋯ & <int> & <chr> & <chr> & <chr> & <chr> & <chr> & <dbl> & <dbl> & <dbl> & <chr>\\\\\n",
       "\\hline\n",
       "\t1 & 970c3f98e40811eba89d42010a19c839 & Good & 2184 & B065 & equatorial\\_wornout\\_skimmer    & B065-P1C1 & CTCCTCTGCAATTAC & singlet & 1227 & 306 & ⋯ & 2338 & AAACCGCGTTTGGGCG & PB00173-02 & B065-P1 & 6041c6b0e40b11ebbdd742010a19c839 & CD4 Memory   & 0.5934867 &   1.347388 &  4.8437943 & B065-P1C1W1\\\\\n",
       "\t2 & 970eb142e40811eba89d42010a19c839 & Good & 1922 & B065 & manly\\_hillocked\\_cat           & B065-P1C1 & CTCCTCTGCAATTAC & singlet & 1717 & 257 & ⋯ & 3656 & AAACGGATCGCTAGCA & PB00173-02 & B065-P1 & 6041cb56e40b11ebbdd742010a19c839 & CD4 Memory   & 0.9915653 &  -2.247861 & -5.5957509 & B065-P1C1W1\\\\\n",
       "\t3 & 970f7834e40811eba89d42010a19c839 & Good & 3646 & B065 & berkelium\\_botanic\\_pangolin    & B065-P1C1 & CTCCTCTGCAATTAC & singlet & 1934 & 180 & ⋯ & 3971 & AAACGTACAGCAATAA & PB00173-02 & B065-P1 & 6041cc14e40b11ebbdd742010a19c839 & CD8 effector & 0.5723163 & -10.456034 & -0.5250534 & B065-P1C1W1\\\\\n",
       "\t4 & 9713353ce40811eba89d42010a19c839 & Good & 3182 & B065 & clearcut\\_barbarous\\_tilefish   & B065-P1C1 & CTCCTCTGCAATTAC & singlet & 1975 & 274 & ⋯ & 4622 & AAAGCCGCAATATACC & PB00173-02 & B065-P1 & 6041d042e40b11ebbdd742010a19c839 & CD4 Memory   & 0.4698943 &  -8.026187 & -1.8615069 & B065-P1C1W1\\\\\n",
       "\t5 & 971a68e8e40811eba89d42010a19c839 & Good & 4279 & B065 & daring\\_pricey\\_barb            & B065-P1C1 & CTCCTCTGCAATTAC & singlet & 1798 & 271 & ⋯ & 3721 & AAATCCGGTTAGCATG & PB00173-02 & B065-P1 & 6041d89ee40b11ebbdd742010a19c839 & CD8 effector & 0.5886705 &  -8.415179 & -1.6606372 & B065-P1C1W1\\\\\n",
       "\t6 & 971b0bd6e40811eba89d42010a19c839 & Good & 3075 & B065 & artycrafty\\_graceful\\_robberfly & B065-P1C1 & CTCCTCTGCAATTAC & singlet & 1954 & 337 & ⋯ & 4382 & AAATGCCTCCCTCAAC & PB00173-02 & B065-P1 & 6041d948e40b11ebbdd742010a19c839 & CD4 Memory   & 0.6832154 &  -1.591888 &  6.1683630 & B065-P1C1W1\\\\\n",
       "\\end{tabular}\n"
      ],
      "text/markdown": [
       "\n",
       "A data.frame: 6 × 21\n",
       "\n",
       "| <!--/--> | barcodes &lt;chr&gt; | adt_qc_flag &lt;chr&gt; | adt_umis &lt;int&gt; | batch_id &lt;chr&gt; | cell_name &lt;chr&gt; | chip_id &lt;chr&gt; | hto_barcode &lt;chr&gt; | hto_category &lt;chr&gt; | n_genes &lt;int&gt; | n_mito_umis &lt;int&gt; | ⋯ ⋯ | n_umis &lt;int&gt; | original_barcodes &lt;chr&gt; | pbmc_sample_id &lt;chr&gt; | pool_id &lt;chr&gt; | rna_cell_uuid &lt;chr&gt; | seurat_pbmc_type &lt;chr&gt; | seurat_pbmc_type_score &lt;dbl&gt; | umap_1 &lt;dbl&gt; | umap_2 &lt;dbl&gt; | well_id &lt;chr&gt; |\n",
       "|---|---|---|---|---|---|---|---|---|---|---|---|---|---|---|---|---|---|---|---|---|---|\n",
       "| 1 | 970c3f98e40811eba89d42010a19c839 | Good | 2184 | B065 | equatorial_wornout_skimmer    | B065-P1C1 | CTCCTCTGCAATTAC | singlet | 1227 | 306 | ⋯ | 2338 | AAACCGCGTTTGGGCG | PB00173-02 | B065-P1 | 6041c6b0e40b11ebbdd742010a19c839 | CD4 Memory   | 0.5934867 |   1.347388 |  4.8437943 | B065-P1C1W1 |\n",
       "| 2 | 970eb142e40811eba89d42010a19c839 | Good | 1922 | B065 | manly_hillocked_cat           | B065-P1C1 | CTCCTCTGCAATTAC | singlet | 1717 | 257 | ⋯ | 3656 | AAACGGATCGCTAGCA | PB00173-02 | B065-P1 | 6041cb56e40b11ebbdd742010a19c839 | CD4 Memory   | 0.9915653 |  -2.247861 | -5.5957509 | B065-P1C1W1 |\n",
       "| 3 | 970f7834e40811eba89d42010a19c839 | Good | 3646 | B065 | berkelium_botanic_pangolin    | B065-P1C1 | CTCCTCTGCAATTAC | singlet | 1934 | 180 | ⋯ | 3971 | AAACGTACAGCAATAA | PB00173-02 | B065-P1 | 6041cc14e40b11ebbdd742010a19c839 | CD8 effector | 0.5723163 | -10.456034 | -0.5250534 | B065-P1C1W1 |\n",
       "| 4 | 9713353ce40811eba89d42010a19c839 | Good | 3182 | B065 | clearcut_barbarous_tilefish   | B065-P1C1 | CTCCTCTGCAATTAC | singlet | 1975 | 274 | ⋯ | 4622 | AAAGCCGCAATATACC | PB00173-02 | B065-P1 | 6041d042e40b11ebbdd742010a19c839 | CD4 Memory   | 0.4698943 |  -8.026187 | -1.8615069 | B065-P1C1W1 |\n",
       "| 5 | 971a68e8e40811eba89d42010a19c839 | Good | 4279 | B065 | daring_pricey_barb            | B065-P1C1 | CTCCTCTGCAATTAC | singlet | 1798 | 271 | ⋯ | 3721 | AAATCCGGTTAGCATG | PB00173-02 | B065-P1 | 6041d89ee40b11ebbdd742010a19c839 | CD8 effector | 0.5886705 |  -8.415179 | -1.6606372 | B065-P1C1W1 |\n",
       "| 6 | 971b0bd6e40811eba89d42010a19c839 | Good | 3075 | B065 | artycrafty_graceful_robberfly | B065-P1C1 | CTCCTCTGCAATTAC | singlet | 1954 | 337 | ⋯ | 4382 | AAATGCCTCCCTCAAC | PB00173-02 | B065-P1 | 6041d948e40b11ebbdd742010a19c839 | CD4 Memory   | 0.6832154 |  -1.591888 |  6.1683630 | B065-P1C1W1 |\n",
       "\n"
      ],
      "text/plain": [
       "  barcodes                         adt_qc_flag adt_umis batch_id\n",
       "1 970c3f98e40811eba89d42010a19c839 Good        2184     B065    \n",
       "2 970eb142e40811eba89d42010a19c839 Good        1922     B065    \n",
       "3 970f7834e40811eba89d42010a19c839 Good        3646     B065    \n",
       "4 9713353ce40811eba89d42010a19c839 Good        3182     B065    \n",
       "5 971a68e8e40811eba89d42010a19c839 Good        4279     B065    \n",
       "6 971b0bd6e40811eba89d42010a19c839 Good        3075     B065    \n",
       "  cell_name                     chip_id   hto_barcode     hto_category n_genes\n",
       "1 equatorial_wornout_skimmer    B065-P1C1 CTCCTCTGCAATTAC singlet      1227   \n",
       "2 manly_hillocked_cat           B065-P1C1 CTCCTCTGCAATTAC singlet      1717   \n",
       "3 berkelium_botanic_pangolin    B065-P1C1 CTCCTCTGCAATTAC singlet      1934   \n",
       "4 clearcut_barbarous_tilefish   B065-P1C1 CTCCTCTGCAATTAC singlet      1975   \n",
       "5 daring_pricey_barb            B065-P1C1 CTCCTCTGCAATTAC singlet      1798   \n",
       "6 artycrafty_graceful_robberfly B065-P1C1 CTCCTCTGCAATTAC singlet      1954   \n",
       "  n_mito_umis ⋯ n_umis original_barcodes pbmc_sample_id pool_id\n",
       "1 306         ⋯ 2338   AAACCGCGTTTGGGCG  PB00173-02     B065-P1\n",
       "2 257         ⋯ 3656   AAACGGATCGCTAGCA  PB00173-02     B065-P1\n",
       "3 180         ⋯ 3971   AAACGTACAGCAATAA  PB00173-02     B065-P1\n",
       "4 274         ⋯ 4622   AAAGCCGCAATATACC  PB00173-02     B065-P1\n",
       "5 271         ⋯ 3721   AAATCCGGTTAGCATG  PB00173-02     B065-P1\n",
       "6 337         ⋯ 4382   AAATGCCTCCCTCAAC  PB00173-02     B065-P1\n",
       "  rna_cell_uuid                    seurat_pbmc_type seurat_pbmc_type_score\n",
       "1 6041c6b0e40b11ebbdd742010a19c839 CD4 Memory       0.5934867             \n",
       "2 6041cb56e40b11ebbdd742010a19c839 CD4 Memory       0.9915653             \n",
       "3 6041cc14e40b11ebbdd742010a19c839 CD8 effector     0.5723163             \n",
       "4 6041d042e40b11ebbdd742010a19c839 CD4 Memory       0.4698943             \n",
       "5 6041d89ee40b11ebbdd742010a19c839 CD8 effector     0.5886705             \n",
       "6 6041d948e40b11ebbdd742010a19c839 CD4 Memory       0.6832154             \n",
       "  umap_1     umap_2     well_id    \n",
       "1   1.347388  4.8437943 B065-P1C1W1\n",
       "2  -2.247861 -5.5957509 B065-P1C1W1\n",
       "3 -10.456034 -0.5250534 B065-P1C1W1\n",
       "4  -8.026187 -1.8615069 B065-P1C1W1\n",
       "5  -8.415179 -1.6606372 B065-P1C1W1\n",
       "6  -1.591888  6.1683630 B065-P1C1W1"
      ]
     },
     "metadata": {},
     "output_type": "display_data"
    }
   ],
   "source": [
    "head(all_metadata)"
   ]
  },
  {
   "cell_type": "markdown",
   "id": "f9efbcbb-38cb-4aa4-bbd2-c18a98955bc2",
   "metadata": {},
   "source": [
    "## Write output file\n",
    "\n",
    "Write the metadata as a .csv for later use. We remove `row.names` and set `quote = FALSE` to simplify the outputs and increase compatibility with other tools."
   ]
  },
  {
   "cell_type": "code",
   "execution_count": 8,
   "id": "ac05a12a-e410-4f34-8436-19b0a27c3d50",
   "metadata": {},
   "outputs": [
    {
     "name": "stderr",
     "output_type": "stream",
     "text": [
      "Warning message in dir.create(\"output\"):\n",
      "“'output' already exists”\n"
     ]
    }
   ],
   "source": [
    "dir.create(\"output\")"
   ]
  },
  {
   "cell_type": "code",
   "execution_count": 9,
   "id": "b3234c3e-3429-43db-8878-be282260a7ef",
   "metadata": {},
   "outputs": [],
   "source": [
    "write.csv(\n",
    "    all_metadata,\n",
    "    \"output/te_rna_adt_cell_metadata.csv\",\n",
    "    row.names = FALSE,\n",
    "    quote = FALSE\n",
    ")"
   ]
  },
  {
   "cell_type": "markdown",
   "id": "2e7a7f73-792c-4f01-82b1-e6f8d7d1f737",
   "metadata": {},
   "source": [
    "## Store results in HISE\n",
    "\n",
    "Finally, we store the output file in our Collaboration Space for later retrieval and use. We need to provide the UUID for our Collaboration Space (aka `studySpaceId`), as well as a title for this step in our analysis process.\n",
    "\n",
    "The hise function `uploadFiles()` also requires the FileIDs from the original fileset for reference, which we assembled above when files were retrieved (`input_file_uuids`)"
   ]
  },
  {
   "cell_type": "code",
   "execution_count": 10,
   "id": "6d2aaf10-3220-4578-8b7e-eafa8bd63b28",
   "metadata": {},
   "outputs": [],
   "source": [
    "study_space_uuid <- \"4743c203-6af9-469c-b71d-0f66e3518820\"\n",
    "title <- \"TEA-seq unfiltered TE cell metadata\""
   ]
  },
  {
   "cell_type": "code",
   "execution_count": 11,
   "id": "135d9a0c-1e2f-4169-a9d2-dc4a9afcfe13",
   "metadata": {},
   "outputs": [
    {
     "data": {
      "text/html": [
       "'firm_songbird'"
      ],
      "text/latex": [
       "'firm\\_songbird'"
      ],
      "text/markdown": [
       "'firm_songbird'"
      ],
      "text/plain": [
       "[1] \"firm_songbird\""
      ]
     },
     "metadata": {},
     "output_type": "display_data"
    }
   ],
   "source": [
    "search_id <- ids::adjective_animal()\n",
    "search_id"
   ]
  },
  {
   "cell_type": "code",
   "execution_count": 12,
   "id": "f6ff8ec9-7ae6-41ca-99c9-cc4f334735ae",
   "metadata": {},
   "outputs": [],
   "source": [
    "in_list <- as.list(sample_meta$h5_uuid)"
   ]
  },
  {
   "cell_type": "code",
   "execution_count": 13,
   "id": "1672c453-60c4-4072-b599-b80c8b7c978a",
   "metadata": {},
   "outputs": [
    {
     "data": {
      "text/html": [
       "<ol>\n",
       "\t<li>'7039b8ef-3a7c-454f-b49c-34ef30c99cf4'</li>\n",
       "\t<li>'af026062-42d4-488a-a98f-d44af095dd5e'</li>\n",
       "\t<li>'6786fe4f-c3c5-4472-b261-6372ca6156ee'</li>\n",
       "\t<li>'827b5e1e-4f81-4837-ad08-53d4ed949048'</li>\n",
       "\t<li>'77e30e6a-5b61-41c4-89cb-44d5ec5363b4'</li>\n",
       "\t<li>'592005f1-79ec-41e2-8336-e3129ef211ab'</li>\n",
       "\t<li>'f8399812-35b8-47ed-a6f2-181e768c4fd3'</li>\n",
       "\t<li>'d0bff33a-a145-4373-8495-31b7f3ed47df'</li>\n",
       "</ol>\n"
      ],
      "text/latex": [
       "\\begin{enumerate}\n",
       "\\item '7039b8ef-3a7c-454f-b49c-34ef30c99cf4'\n",
       "\\item 'af026062-42d4-488a-a98f-d44af095dd5e'\n",
       "\\item '6786fe4f-c3c5-4472-b261-6372ca6156ee'\n",
       "\\item '827b5e1e-4f81-4837-ad08-53d4ed949048'\n",
       "\\item '77e30e6a-5b61-41c4-89cb-44d5ec5363b4'\n",
       "\\item '592005f1-79ec-41e2-8336-e3129ef211ab'\n",
       "\\item 'f8399812-35b8-47ed-a6f2-181e768c4fd3'\n",
       "\\item 'd0bff33a-a145-4373-8495-31b7f3ed47df'\n",
       "\\end{enumerate}\n"
      ],
      "text/markdown": [
       "1. '7039b8ef-3a7c-454f-b49c-34ef30c99cf4'\n",
       "2. 'af026062-42d4-488a-a98f-d44af095dd5e'\n",
       "3. '6786fe4f-c3c5-4472-b261-6372ca6156ee'\n",
       "4. '827b5e1e-4f81-4837-ad08-53d4ed949048'\n",
       "5. '77e30e6a-5b61-41c4-89cb-44d5ec5363b4'\n",
       "6. '592005f1-79ec-41e2-8336-e3129ef211ab'\n",
       "7. 'f8399812-35b8-47ed-a6f2-181e768c4fd3'\n",
       "8. 'd0bff33a-a145-4373-8495-31b7f3ed47df'\n",
       "\n",
       "\n"
      ],
      "text/plain": [
       "[[1]]\n",
       "[1] \"7039b8ef-3a7c-454f-b49c-34ef30c99cf4\"\n",
       "\n",
       "[[2]]\n",
       "[1] \"af026062-42d4-488a-a98f-d44af095dd5e\"\n",
       "\n",
       "[[3]]\n",
       "[1] \"6786fe4f-c3c5-4472-b261-6372ca6156ee\"\n",
       "\n",
       "[[4]]\n",
       "[1] \"827b5e1e-4f81-4837-ad08-53d4ed949048\"\n",
       "\n",
       "[[5]]\n",
       "[1] \"77e30e6a-5b61-41c4-89cb-44d5ec5363b4\"\n",
       "\n",
       "[[6]]\n",
       "[1] \"592005f1-79ec-41e2-8336-e3129ef211ab\"\n",
       "\n",
       "[[7]]\n",
       "[1] \"f8399812-35b8-47ed-a6f2-181e768c4fd3\"\n",
       "\n",
       "[[8]]\n",
       "[1] \"d0bff33a-a145-4373-8495-31b7f3ed47df\"\n"
      ]
     },
     "metadata": {},
     "output_type": "display_data"
    }
   ],
   "source": [
    "in_list"
   ]
  },
  {
   "cell_type": "code",
   "execution_count": 14,
   "id": "442e1f4f-64cf-4a61-8bdd-bd941370d546",
   "metadata": {},
   "outputs": [],
   "source": [
    "out_list <- list(\"output/te_rna_adt_cell_metadata.csv\")"
   ]
  },
  {
   "cell_type": "code",
   "execution_count": 15,
   "id": "46c53d76-80f7-4e0b-9052-9860e574faa2",
   "metadata": {},
   "outputs": [
    {
     "data": {
      "text/html": [
       "<ol>\n",
       "\t<li>'output/te_rna_adt_cell_metadata.csv'</li>\n",
       "</ol>\n"
      ],
      "text/latex": [
       "\\begin{enumerate}\n",
       "\\item 'output/te\\_rna\\_adt\\_cell\\_metadata.csv'\n",
       "\\end{enumerate}\n"
      ],
      "text/markdown": [
       "1. 'output/te_rna_adt_cell_metadata.csv'\n",
       "\n",
       "\n"
      ],
      "text/plain": [
       "[[1]]\n",
       "[1] \"output/te_rna_adt_cell_metadata.csv\"\n"
      ]
     },
     "metadata": {},
     "output_type": "display_data"
    }
   ],
   "source": [
    "out_list"
   ]
  },
  {
   "cell_type": "raw",
   "id": "6fa291f4-eb1f-4266-8316-81fad208b3c0",
   "metadata": {},
   "source": [
    "uploadFiles(\n",
    "    files = out_list,\n",
    "    studySpaceId = study_space_uuid,\n",
    "    title = title,\n",
    "    inputFileIds = in_list,\n",
    "    destination = search_id\n",
    ")"
   ]
  },
  {
   "cell_type": "code",
   "execution_count": 16,
   "id": "c42c119c-09d3-467a-845d-50c93a897466",
   "metadata": {},
   "outputs": [
    {
     "data": {
      "text/plain": [
       "R version 4.3.2 (2023-10-31)\n",
       "Platform: x86_64-conda-linux-gnu (64-bit)\n",
       "Running under: Ubuntu 20.04.6 LTS\n",
       "\n",
       "Matrix products: default\n",
       "BLAS/LAPACK: /opt/conda/lib/libopenblasp-r0.3.25.so;  LAPACK version 3.11.0\n",
       "\n",
       "locale:\n",
       " [1] LC_CTYPE=C.UTF-8       LC_NUMERIC=C           LC_TIME=C.UTF-8       \n",
       " [4] LC_COLLATE=C.UTF-8     LC_MONETARY=C.UTF-8    LC_MESSAGES=C.UTF-8   \n",
       " [7] LC_PAPER=C.UTF-8       LC_NAME=C              LC_ADDRESS=C          \n",
       "[10] LC_TELEPHONE=C         LC_MEASUREMENT=C.UTF-8 LC_IDENTIFICATION=C   \n",
       "\n",
       "time zone: Etc/UTC\n",
       "tzcode source: system (glibc)\n",
       "\n",
       "attached base packages:\n",
       "[1] stats     graphics  grDevices utils     datasets  methods   base     \n",
       "\n",
       "other attached packages:\n",
       "[1] purrr_1.0.2       BarMixer_1.0.1    rhdf5_2.46.1      Matrix_1.6-4     \n",
       "[5] data.table_1.15.4 hise_2.16.0      \n",
       "\n",
       "loaded via a namespace (and not attached):\n",
       " [1] ids_1.0.1           crayon_1.5.2        vctrs_0.6.5        \n",
       " [4] httr_1.4.7          cli_3.6.2           rlang_1.1.3        \n",
       " [7] generics_0.1.3      assertthat_0.2.1    jsonlite_1.8.8     \n",
       "[10] glue_1.7.0          RCurl_1.98-1.14     htmltools_0.5.8    \n",
       "[13] IRdisplay_1.1       IRkernel_1.3.2      fansi_1.0.6        \n",
       "[16] grid_4.3.2          tibble_3.2.1        evaluate_0.23      \n",
       "[19] bitops_1.0-7        fastmap_1.1.1       base64enc_0.1-3    \n",
       "[22] lifecycle_1.0.4     Rhdf5lib_1.24.1     compiler_4.3.2     \n",
       "[25] dplyr_1.1.4         pkgconfig_2.0.3     rhdf5filters_1.14.1\n",
       "[28] pbdZMQ_0.3-10       lattice_0.22-5      digest_0.6.35      \n",
       "[31] R6_2.5.1            tidyselect_1.2.0    repr_1.1.7         \n",
       "[34] utf8_1.2.4          curl_5.1.0          pillar_1.9.0       \n",
       "[37] magrittr_2.0.3      uuid_1.2-0          tools_4.3.2        "
      ]
     },
     "metadata": {},
     "output_type": "display_data"
    }
   ],
   "source": [
    "sessionInfo()"
   ]
  },
  {
   "cell_type": "code",
   "execution_count": null,
   "id": "9c1f7e99-5960-4d18-bcdf-387c5253ccd9",
   "metadata": {},
   "outputs": [],
   "source": []
  }
 ],
 "metadata": {
  "environment": {
   "kernel": "ir4",
   "name": ".m121",
   "type": "gcloud",
   "uri": "us-docker.pkg.dev/deeplearning-platform-release/gcr.io/:m121"
  },
  "kernelspec": {
   "display_name": "R 4",
   "language": "R",
   "name": "ir4"
  },
  "language_info": {
   "codemirror_mode": "r",
   "file_extension": ".r",
   "mimetype": "text/x-r-source",
   "name": "R",
   "pygments_lexer": "r",
   "version": "4.3.2"
  }
 },
 "nbformat": 4,
 "nbformat_minor": 5
}
