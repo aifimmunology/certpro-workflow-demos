{
 "cells": [
  {
   "cell_type": "markdown",
   "id": "60bbffbe-3836-4670-84d4-e6dd38edf68d",
   "metadata": {},
   "source": [
    "# Select data for analysis from HISE"
   ]
  },
  {
   "cell_type": "markdown",
   "id": "4b71074f-9b52-4376-9b98-640c1843ff03",
   "metadata": {},
   "source": [
    "## Load libraries"
   ]
  },
  {
   "cell_type": "code",
   "execution_count": 1,
   "id": "080ffb5e-61ac-4363-baa8-40ea9588f917",
   "metadata": {},
   "outputs": [],
   "source": [
    "quiet_library <- function(...) { suppressPackageStartupMessages(library(...)) }\n",
    "quiet_library(hise)\n",
    "quiet_library(dplyr)\n",
    "quiet_library(purrr)"
   ]
  },
  {
   "cell_type": "markdown",
   "id": "119e581c-b0b3-4e55-b821-778ce39039d9",
   "metadata": {},
   "source": [
    "## Find files for use in HISE"
   ]
  },
  {
   "cell_type": "markdown",
   "id": "f3a81610-04a9-450a-b2df-a92dc8125fd5",
   "metadata": {},
   "source": [
    "### RNA and ADT data"
   ]
  },
  {
   "cell_type": "code",
   "execution_count": 2,
   "id": "85254ed9-b12a-48f5-af6f-799c8e31d82c",
   "metadata": {},
   "outputs": [],
   "source": [
    "rna_desc <- getFileDescriptors(\n",
    "    fileType = \"scRNA-seq-labeled\",\n",
    "    filter = list(file.batchID = \"B065\")\n",
    ")\n",
    "rna_desc <- fileDescToDataframe(rna_desc)"
   ]
  },
  {
   "cell_type": "code",
   "execution_count": 3,
   "id": "c10465a1-4173-4010-9ccb-c4ac82d5a300",
   "metadata": {},
   "outputs": [
    {
     "data": {
      "text/html": [
       "9"
      ],
      "text/latex": [
       "9"
      ],
      "text/markdown": [
       "9"
      ],
      "text/plain": [
       "[1] 9"
      ]
     },
     "metadata": {},
     "output_type": "display_data"
    }
   ],
   "source": [
    "nrow(rna_desc)"
   ]
  },
  {
   "cell_type": "code",
   "execution_count": 4,
   "id": "af785dcc-10f3-4ff5-86c6-cce873149311",
   "metadata": {},
   "outputs": [],
   "source": [
    "rna_desc <- rna_desc %>%\n",
    "  rename(rna_file.id = file.id)"
   ]
  },
  {
   "cell_type": "markdown",
   "id": "7e7a293f-ac91-4a05-a2f7-fed104c28452",
   "metadata": {},
   "source": [
    "### ATAC data"
   ]
  },
  {
   "cell_type": "code",
   "execution_count": 5,
   "id": "1e80cf1a-2614-4345-a2ff-5756827495c2",
   "metadata": {},
   "outputs": [],
   "source": [
    "atac_desc <- getFileDescriptors(\n",
    "    fileType = \"atac-assembly-archr-arrow\",\n",
    "    filter = list(file.batchID = \"B065\")\n",
    ")\n",
    "atac_desc <- fileDescToDataframe(atac_desc)"
   ]
  },
  {
   "cell_type": "code",
   "execution_count": 6,
   "id": "0f9e619a-82a7-4ddb-ae67-2d4e71a89bea",
   "metadata": {
    "scrolled": true
   },
   "outputs": [
    {
     "data": {
      "text/html": [
       "9"
      ],
      "text/latex": [
       "9"
      ],
      "text/markdown": [
       "9"
      ],
      "text/plain": [
       "[1] 9"
      ]
     },
     "metadata": {},
     "output_type": "display_data"
    }
   ],
   "source": [
    "nrow(atac_desc)"
   ]
  },
  {
   "cell_type": "code",
   "execution_count": 7,
   "id": "fdc7a299-81fd-44ff-864f-0bff0b235b7c",
   "metadata": {},
   "outputs": [],
   "source": [
    "atac_desc <- atac_desc %>%\n",
    "  select(sample.sampleKitGuid, file.id) %>%\n",
    "  rename(atac_file.id = file.id)"
   ]
  },
  {
   "cell_type": "markdown",
   "id": "81836910-bd89-45b3-ab2a-b0ca0b7d2228",
   "metadata": {},
   "source": [
    "## Join and select metadata"
   ]
  },
  {
   "cell_type": "code",
   "execution_count": 8,
   "id": "86e5d56f-1bcf-4529-830a-bd7b680a933b",
   "metadata": {},
   "outputs": [
    {
     "data": {
      "text/html": [
       "<style>\n",
       ".list-inline {list-style: none; margin:0; padding: 0}\n",
       ".list-inline>li {display: inline-block}\n",
       ".list-inline>li:not(:last-child)::after {content: \"\\00b7\"; padding: 0 .5ex}\n",
       "</style>\n",
       "<ol class=list-inline><li>'lastUpdated'</li><li>'sample.id'</li><li>'sample.bridgingControl'</li><li>'sample.sampleKitGuid'</li><li>'sample.visitName'</li><li>'sample.visitDetails'</li><li>'sample.drawDate'</li><li>'sample.daysSinceFirstVisit'</li><li>'rna_file.id'</li><li>'file.name'</li><li>'file.batchID'</li><li>'file.panel'</li><li>'file.pool'</li><li>'file.fileType'</li><li>'file.userTags.details'</li><li>'file.userTags.group'</li><li>'file.userTags.name'</li><li>'file.userTags.origin'</li><li>'file.userTags.other'</li><li>'file.userTags.version'</li><li>'file.majorVersion'</li><li>'subject.id'</li><li>'subject.biologicalSex'</li><li>'subject.birthYear'</li><li>'subject.ethnicity'</li><li>'subject.partnerCode'</li><li>'subject.race'</li><li>'subject.subjectGuid'</li><li>'cohort.cohortGuid'</li></ol>\n"
      ],
      "text/latex": [
       "\\begin{enumerate*}\n",
       "\\item 'lastUpdated'\n",
       "\\item 'sample.id'\n",
       "\\item 'sample.bridgingControl'\n",
       "\\item 'sample.sampleKitGuid'\n",
       "\\item 'sample.visitName'\n",
       "\\item 'sample.visitDetails'\n",
       "\\item 'sample.drawDate'\n",
       "\\item 'sample.daysSinceFirstVisit'\n",
       "\\item 'rna\\_file.id'\n",
       "\\item 'file.name'\n",
       "\\item 'file.batchID'\n",
       "\\item 'file.panel'\n",
       "\\item 'file.pool'\n",
       "\\item 'file.fileType'\n",
       "\\item 'file.userTags.details'\n",
       "\\item 'file.userTags.group'\n",
       "\\item 'file.userTags.name'\n",
       "\\item 'file.userTags.origin'\n",
       "\\item 'file.userTags.other'\n",
       "\\item 'file.userTags.version'\n",
       "\\item 'file.majorVersion'\n",
       "\\item 'subject.id'\n",
       "\\item 'subject.biologicalSex'\n",
       "\\item 'subject.birthYear'\n",
       "\\item 'subject.ethnicity'\n",
       "\\item 'subject.partnerCode'\n",
       "\\item 'subject.race'\n",
       "\\item 'subject.subjectGuid'\n",
       "\\item 'cohort.cohortGuid'\n",
       "\\end{enumerate*}\n"
      ],
      "text/markdown": [
       "1. 'lastUpdated'\n",
       "2. 'sample.id'\n",
       "3. 'sample.bridgingControl'\n",
       "4. 'sample.sampleKitGuid'\n",
       "5. 'sample.visitName'\n",
       "6. 'sample.visitDetails'\n",
       "7. 'sample.drawDate'\n",
       "8. 'sample.daysSinceFirstVisit'\n",
       "9. 'rna_file.id'\n",
       "10. 'file.name'\n",
       "11. 'file.batchID'\n",
       "12. 'file.panel'\n",
       "13. 'file.pool'\n",
       "14. 'file.fileType'\n",
       "15. 'file.userTags.details'\n",
       "16. 'file.userTags.group'\n",
       "17. 'file.userTags.name'\n",
       "18. 'file.userTags.origin'\n",
       "19. 'file.userTags.other'\n",
       "20. 'file.userTags.version'\n",
       "21. 'file.majorVersion'\n",
       "22. 'subject.id'\n",
       "23. 'subject.biologicalSex'\n",
       "24. 'subject.birthYear'\n",
       "25. 'subject.ethnicity'\n",
       "26. 'subject.partnerCode'\n",
       "27. 'subject.race'\n",
       "28. 'subject.subjectGuid'\n",
       "29. 'cohort.cohortGuid'\n",
       "\n",
       "\n"
      ],
      "text/plain": [
       " [1] \"lastUpdated\"                \"sample.id\"                 \n",
       " [3] \"sample.bridgingControl\"     \"sample.sampleKitGuid\"      \n",
       " [5] \"sample.visitName\"           \"sample.visitDetails\"       \n",
       " [7] \"sample.drawDate\"            \"sample.daysSinceFirstVisit\"\n",
       " [9] \"rna_file.id\"                \"file.name\"                 \n",
       "[11] \"file.batchID\"               \"file.panel\"                \n",
       "[13] \"file.pool\"                  \"file.fileType\"             \n",
       "[15] \"file.userTags.details\"      \"file.userTags.group\"       \n",
       "[17] \"file.userTags.name\"         \"file.userTags.origin\"      \n",
       "[19] \"file.userTags.other\"        \"file.userTags.version\"     \n",
       "[21] \"file.majorVersion\"          \"subject.id\"                \n",
       "[23] \"subject.biologicalSex\"      \"subject.birthYear\"         \n",
       "[25] \"subject.ethnicity\"          \"subject.partnerCode\"       \n",
       "[27] \"subject.race\"               \"subject.subjectGuid\"       \n",
       "[29] \"cohort.cohortGuid\"         "
      ]
     },
     "metadata": {},
     "output_type": "display_data"
    }
   ],
   "source": [
    "names(rna_desc)"
   ]
  },
  {
   "cell_type": "code",
   "execution_count": 9,
   "id": "886d7ffc-6754-4da4-856a-9be05be49024",
   "metadata": {},
   "outputs": [
    {
     "name": "stderr",
     "output_type": "stream",
     "text": [
      "\u001b[1m\u001b[22mJoining with `by = join_by(sample.sampleKitGuid)`\n"
     ]
    }
   ],
   "source": [
    "file_meta <- rna_desc %>%\n",
    "  left_join(atac_desc) %>%\n",
    "  filter(cohort.cohortGuid != \"BIOIVT\") %>%\n",
    "  select(cohort.cohortGuid, subject.subjectGuid, subject.birthYear, subject.biologicalSex,\n",
    "         sample.sampleKitGuid, sample.visitName, rna_file.id, atac_file.id)"
   ]
  },
  {
   "cell_type": "code",
   "execution_count": 10,
   "id": "d1b711f5-4708-4922-9ac1-c897d1164758",
   "metadata": {},
   "outputs": [
    {
     "data": {
      "text/html": [
       "<table class=\"dataframe\">\n",
       "<caption>A data.frame: 8 × 8</caption>\n",
       "<thead>\n",
       "\t<tr><th scope=col>cohort.cohortGuid</th><th scope=col>subject.subjectGuid</th><th scope=col>subject.birthYear</th><th scope=col>subject.biologicalSex</th><th scope=col>sample.sampleKitGuid</th><th scope=col>sample.visitName</th><th scope=col>rna_file.id</th><th scope=col>atac_file.id</th></tr>\n",
       "\t<tr><th scope=col>&lt;chr&gt;</th><th scope=col>&lt;chr&gt;</th><th scope=col>&lt;chr&gt;</th><th scope=col>&lt;chr&gt;</th><th scope=col>&lt;chr&gt;</th><th scope=col>&lt;chr&gt;</th><th scope=col>&lt;chr&gt;</th><th scope=col>&lt;chr&gt;</th></tr>\n",
       "</thead>\n",
       "<tbody>\n",
       "\t<tr><td>BR2</td><td>BR2005</td><td>1963</td><td>Female</td><td>KT00395</td><td>Flu Year 1 Day 7             </td><td>c9a1c7af-f0c3-41ad-87a7-2a3fb07e682d</td><td>32f3d133-f343-4a1e-aca7-13fc3db2f41a</td></tr>\n",
       "\t<tr><td>BR2</td><td>BR2042</td><td>1965</td><td>Female</td><td>KT00559</td><td>Flu Year 1 Day 7             </td><td>d929e7ef-162b-410b-b765-ae1d7d73bae8</td><td>d45a1b4c-b9c2-439d-b6d5-443f6060dcc7</td></tr>\n",
       "\t<tr><td>UP1</td><td>UP1006</td><td>2009</td><td>Female</td><td>KT00173</td><td>Flu Year 1 Pre-Vac 7-12 Weeks</td><td>81bd562d-a6ad-4a05-befe-15303d1847de</td><td>bd06e203-1531-4c42-bc5b-c5bd5999cccd</td></tr>\n",
       "\t<tr><td>BR2</td><td>BR2015</td><td>1964</td><td>Female</td><td>KT00396</td><td>Flu Year 1 Day 7             </td><td>78587b33-2b08-4eb4-a392-0c3963ed904e</td><td>fe2d1cbd-de72-406a-b553-b7e3f6262cb3</td></tr>\n",
       "\t<tr><td>UP1</td><td>UP1007</td><td>2009</td><td>Female</td><td>KT00192</td><td>Flu Year 1 Pre-Vac 7-12 Weeks</td><td>9df3f431-970c-42da-99d2-a8fd4dd8558a</td><td>8959f160-2511-40f3-80d5-59060c2a0183</td></tr>\n",
       "\t<tr><td>UP1</td><td>UP1010</td><td>2009</td><td>Female</td><td>KT00197</td><td>Flu Year 1 Pre-Vac 7-12 Weeks</td><td>b3c55054-77b5-41cf-91cd-97576dd0ba20</td><td>6f53386c-7492-4d44-893b-5f0e2b8d97cf</td></tr>\n",
       "\t<tr><td>BR2</td><td>BR2002</td><td>1962</td><td>Female</td><td>KT00593</td><td>Flu Year 2 Day 0             </td><td>3f38fe6b-8cfc-4da5-9f65-7db40259c5eb</td><td>e1424785-1979-4c81-8a6d-5a3278cd42ef</td></tr>\n",
       "\t<tr><td>UP1</td><td>UP1001</td><td>2009</td><td>Female</td><td>KT00199</td><td>Flu Year 1 Day 7             </td><td>a9107429-686e-4365-8776-2c079783ccde</td><td>8b0b772e-06bd-478c-a4b2-70cd6cbd6887</td></tr>\n",
       "</tbody>\n",
       "</table>\n"
      ],
      "text/latex": [
       "A data.frame: 8 × 8\n",
       "\\begin{tabular}{llllllll}\n",
       " cohort.cohortGuid & subject.subjectGuid & subject.birthYear & subject.biologicalSex & sample.sampleKitGuid & sample.visitName & rna\\_file.id & atac\\_file.id\\\\\n",
       " <chr> & <chr> & <chr> & <chr> & <chr> & <chr> & <chr> & <chr>\\\\\n",
       "\\hline\n",
       "\t BR2 & BR2005 & 1963 & Female & KT00395 & Flu Year 1 Day 7              & c9a1c7af-f0c3-41ad-87a7-2a3fb07e682d & 32f3d133-f343-4a1e-aca7-13fc3db2f41a\\\\\n",
       "\t BR2 & BR2042 & 1965 & Female & KT00559 & Flu Year 1 Day 7              & d929e7ef-162b-410b-b765-ae1d7d73bae8 & d45a1b4c-b9c2-439d-b6d5-443f6060dcc7\\\\\n",
       "\t UP1 & UP1006 & 2009 & Female & KT00173 & Flu Year 1 Pre-Vac 7-12 Weeks & 81bd562d-a6ad-4a05-befe-15303d1847de & bd06e203-1531-4c42-bc5b-c5bd5999cccd\\\\\n",
       "\t BR2 & BR2015 & 1964 & Female & KT00396 & Flu Year 1 Day 7              & 78587b33-2b08-4eb4-a392-0c3963ed904e & fe2d1cbd-de72-406a-b553-b7e3f6262cb3\\\\\n",
       "\t UP1 & UP1007 & 2009 & Female & KT00192 & Flu Year 1 Pre-Vac 7-12 Weeks & 9df3f431-970c-42da-99d2-a8fd4dd8558a & 8959f160-2511-40f3-80d5-59060c2a0183\\\\\n",
       "\t UP1 & UP1010 & 2009 & Female & KT00197 & Flu Year 1 Pre-Vac 7-12 Weeks & b3c55054-77b5-41cf-91cd-97576dd0ba20 & 6f53386c-7492-4d44-893b-5f0e2b8d97cf\\\\\n",
       "\t BR2 & BR2002 & 1962 & Female & KT00593 & Flu Year 2 Day 0              & 3f38fe6b-8cfc-4da5-9f65-7db40259c5eb & e1424785-1979-4c81-8a6d-5a3278cd42ef\\\\\n",
       "\t UP1 & UP1001 & 2009 & Female & KT00199 & Flu Year 1 Day 7              & a9107429-686e-4365-8776-2c079783ccde & 8b0b772e-06bd-478c-a4b2-70cd6cbd6887\\\\\n",
       "\\end{tabular}\n"
      ],
      "text/markdown": [
       "\n",
       "A data.frame: 8 × 8\n",
       "\n",
       "| cohort.cohortGuid &lt;chr&gt; | subject.subjectGuid &lt;chr&gt; | subject.birthYear &lt;chr&gt; | subject.biologicalSex &lt;chr&gt; | sample.sampleKitGuid &lt;chr&gt; | sample.visitName &lt;chr&gt; | rna_file.id &lt;chr&gt; | atac_file.id &lt;chr&gt; |\n",
       "|---|---|---|---|---|---|---|---|\n",
       "| BR2 | BR2005 | 1963 | Female | KT00395 | Flu Year 1 Day 7              | c9a1c7af-f0c3-41ad-87a7-2a3fb07e682d | 32f3d133-f343-4a1e-aca7-13fc3db2f41a |\n",
       "| BR2 | BR2042 | 1965 | Female | KT00559 | Flu Year 1 Day 7              | d929e7ef-162b-410b-b765-ae1d7d73bae8 | d45a1b4c-b9c2-439d-b6d5-443f6060dcc7 |\n",
       "| UP1 | UP1006 | 2009 | Female | KT00173 | Flu Year 1 Pre-Vac 7-12 Weeks | 81bd562d-a6ad-4a05-befe-15303d1847de | bd06e203-1531-4c42-bc5b-c5bd5999cccd |\n",
       "| BR2 | BR2015 | 1964 | Female | KT00396 | Flu Year 1 Day 7              | 78587b33-2b08-4eb4-a392-0c3963ed904e | fe2d1cbd-de72-406a-b553-b7e3f6262cb3 |\n",
       "| UP1 | UP1007 | 2009 | Female | KT00192 | Flu Year 1 Pre-Vac 7-12 Weeks | 9df3f431-970c-42da-99d2-a8fd4dd8558a | 8959f160-2511-40f3-80d5-59060c2a0183 |\n",
       "| UP1 | UP1010 | 2009 | Female | KT00197 | Flu Year 1 Pre-Vac 7-12 Weeks | b3c55054-77b5-41cf-91cd-97576dd0ba20 | 6f53386c-7492-4d44-893b-5f0e2b8d97cf |\n",
       "| BR2 | BR2002 | 1962 | Female | KT00593 | Flu Year 2 Day 0              | 3f38fe6b-8cfc-4da5-9f65-7db40259c5eb | e1424785-1979-4c81-8a6d-5a3278cd42ef |\n",
       "| UP1 | UP1001 | 2009 | Female | KT00199 | Flu Year 1 Day 7              | a9107429-686e-4365-8776-2c079783ccde | 8b0b772e-06bd-478c-a4b2-70cd6cbd6887 |\n",
       "\n"
      ],
      "text/plain": [
       "  cohort.cohortGuid subject.subjectGuid subject.birthYear subject.biologicalSex\n",
       "1 BR2               BR2005              1963              Female               \n",
       "2 BR2               BR2042              1965              Female               \n",
       "3 UP1               UP1006              2009              Female               \n",
       "4 BR2               BR2015              1964              Female               \n",
       "5 UP1               UP1007              2009              Female               \n",
       "6 UP1               UP1010              2009              Female               \n",
       "7 BR2               BR2002              1962              Female               \n",
       "8 UP1               UP1001              2009              Female               \n",
       "  sample.sampleKitGuid sample.visitName             \n",
       "1 KT00395              Flu Year 1 Day 7             \n",
       "2 KT00559              Flu Year 1 Day 7             \n",
       "3 KT00173              Flu Year 1 Pre-Vac 7-12 Weeks\n",
       "4 KT00396              Flu Year 1 Day 7             \n",
       "5 KT00192              Flu Year 1 Pre-Vac 7-12 Weeks\n",
       "6 KT00197              Flu Year 1 Pre-Vac 7-12 Weeks\n",
       "7 KT00593              Flu Year 2 Day 0             \n",
       "8 KT00199              Flu Year 1 Day 7             \n",
       "  rna_file.id                          atac_file.id                        \n",
       "1 c9a1c7af-f0c3-41ad-87a7-2a3fb07e682d 32f3d133-f343-4a1e-aca7-13fc3db2f41a\n",
       "2 d929e7ef-162b-410b-b765-ae1d7d73bae8 d45a1b4c-b9c2-439d-b6d5-443f6060dcc7\n",
       "3 81bd562d-a6ad-4a05-befe-15303d1847de bd06e203-1531-4c42-bc5b-c5bd5999cccd\n",
       "4 78587b33-2b08-4eb4-a392-0c3963ed904e fe2d1cbd-de72-406a-b553-b7e3f6262cb3\n",
       "5 9df3f431-970c-42da-99d2-a8fd4dd8558a 8959f160-2511-40f3-80d5-59060c2a0183\n",
       "6 b3c55054-77b5-41cf-91cd-97576dd0ba20 6f53386c-7492-4d44-893b-5f0e2b8d97cf\n",
       "7 3f38fe6b-8cfc-4da5-9f65-7db40259c5eb e1424785-1979-4c81-8a6d-5a3278cd42ef\n",
       "8 a9107429-686e-4365-8776-2c079783ccde 8b0b772e-06bd-478c-a4b2-70cd6cbd6887"
      ]
     },
     "metadata": {},
     "output_type": "display_data"
    }
   ],
   "source": [
    "file_meta"
   ]
  },
  {
   "cell_type": "markdown",
   "id": "76ff34fa-67c1-41cc-b99f-740910157e54",
   "metadata": {},
   "source": [
    "## Cache these files so we can store their metadata in HISE"
   ]
  },
  {
   "cell_type": "code",
   "execution_count": 11,
   "id": "a7f25970-c7d8-4fb4-a8d2-e85b105791b5",
   "metadata": {
    "scrolled": true
   },
   "outputs": [],
   "source": [
    "file_res <- map(\n",
    "    file_meta$rna_file.id,\n",
    "    function(uuid) {\n",
    "        cacheFiles(list(uuid))\n",
    "    }\n",
    ")\n",
    "\n",
    "file_res <- map(\n",
    "    file_meta$atac_file.id,\n",
    "    function(uuid) {\n",
    "        cacheFiles(list(uuid))\n",
    "    }\n",
    ")"
   ]
  },
  {
   "cell_type": "code",
   "execution_count": 12,
   "id": "498f0d54-d275-44d2-9ae1-be4738de2cbf",
   "metadata": {},
   "outputs": [],
   "source": [
    "if(!dir.exists(\"output\")) {\n",
    "    dir.create(\"output\")\n",
    "}\n",
    "\n",
    "write.csv(\n",
    "    file_meta,\n",
    "    \"output/sample_meta.csv\",\n",
    "    row.names = FALSE,\n",
    "    quote = FALSE\n",
    ")"
   ]
  },
  {
   "cell_type": "markdown",
   "id": "198a7662-e0b2-4b3d-a62f-f18823a3a5d3",
   "metadata": {},
   "source": [
    "## Store results in HISE\n",
    "\n",
    "Finally, we store the output file in our Collaboration Space for later retrieval and use. We need to provide the UUID for our Collaboration Space (aka `studySpaceId`), as well as a title for this step in our analysis process.\n",
    "\n",
    "The hise function `uploadFiles()` also requires the FileIDs from the original fileset for reference, which we assembled above when files were retrieved."
   ]
  },
  {
   "cell_type": "code",
   "execution_count": 20,
   "id": "50379337-35ce-4cb3-90cf-dd4ad2fb6c93",
   "metadata": {},
   "outputs": [],
   "source": [
    "study_space_uuid <- \"00a53fa5-18da-4333-84cb-3cc0b0761201\"\n",
    "title <- \"TEA-seq demo sample and file metadata\""
   ]
  },
  {
   "cell_type": "code",
   "execution_count": 21,
   "id": "982114f7-35a5-49da-b412-5b8e1e146442",
   "metadata": {},
   "outputs": [
    {
     "data": {
      "text/html": [
       "'commonable_siamesecat'"
      ],
      "text/latex": [
       "'commonable\\_siamesecat'"
      ],
      "text/markdown": [
       "'commonable_siamesecat'"
      ],
      "text/plain": [
       "[1] \"commonable_siamesecat\""
      ]
     },
     "metadata": {},
     "output_type": "display_data"
    }
   ],
   "source": [
    "search_id <- ids::adjective_animal()\n",
    "search_id"
   ]
  },
  {
   "cell_type": "code",
   "execution_count": 22,
   "id": "c9836263-6217-4730-b243-c8d518a941b0",
   "metadata": {},
   "outputs": [],
   "source": [
    "in_list <- as.list(c(file_meta$rna_file.id, file_meta$atac_file.id))"
   ]
  },
  {
   "cell_type": "code",
   "execution_count": 23,
   "id": "6671f06a-6615-4efe-bc1d-6db1f79df340",
   "metadata": {},
   "outputs": [
    {
     "data": {
      "text/html": [
       "<ol>\n",
       "\t<li>'c9a1c7af-f0c3-41ad-87a7-2a3fb07e682d'</li>\n",
       "\t<li>'d929e7ef-162b-410b-b765-ae1d7d73bae8'</li>\n",
       "\t<li>'81bd562d-a6ad-4a05-befe-15303d1847de'</li>\n",
       "\t<li>'78587b33-2b08-4eb4-a392-0c3963ed904e'</li>\n",
       "\t<li>'9df3f431-970c-42da-99d2-a8fd4dd8558a'</li>\n",
       "\t<li>'b3c55054-77b5-41cf-91cd-97576dd0ba20'</li>\n",
       "\t<li>'3f38fe6b-8cfc-4da5-9f65-7db40259c5eb'</li>\n",
       "\t<li>'a9107429-686e-4365-8776-2c079783ccde'</li>\n",
       "\t<li>'32f3d133-f343-4a1e-aca7-13fc3db2f41a'</li>\n",
       "\t<li>'d45a1b4c-b9c2-439d-b6d5-443f6060dcc7'</li>\n",
       "\t<li>'bd06e203-1531-4c42-bc5b-c5bd5999cccd'</li>\n",
       "\t<li>'fe2d1cbd-de72-406a-b553-b7e3f6262cb3'</li>\n",
       "\t<li>'8959f160-2511-40f3-80d5-59060c2a0183'</li>\n",
       "\t<li>'6f53386c-7492-4d44-893b-5f0e2b8d97cf'</li>\n",
       "\t<li>'e1424785-1979-4c81-8a6d-5a3278cd42ef'</li>\n",
       "\t<li>'8b0b772e-06bd-478c-a4b2-70cd6cbd6887'</li>\n",
       "</ol>\n"
      ],
      "text/latex": [
       "\\begin{enumerate}\n",
       "\\item 'c9a1c7af-f0c3-41ad-87a7-2a3fb07e682d'\n",
       "\\item 'd929e7ef-162b-410b-b765-ae1d7d73bae8'\n",
       "\\item '81bd562d-a6ad-4a05-befe-15303d1847de'\n",
       "\\item '78587b33-2b08-4eb4-a392-0c3963ed904e'\n",
       "\\item '9df3f431-970c-42da-99d2-a8fd4dd8558a'\n",
       "\\item 'b3c55054-77b5-41cf-91cd-97576dd0ba20'\n",
       "\\item '3f38fe6b-8cfc-4da5-9f65-7db40259c5eb'\n",
       "\\item 'a9107429-686e-4365-8776-2c079783ccde'\n",
       "\\item '32f3d133-f343-4a1e-aca7-13fc3db2f41a'\n",
       "\\item 'd45a1b4c-b9c2-439d-b6d5-443f6060dcc7'\n",
       "\\item 'bd06e203-1531-4c42-bc5b-c5bd5999cccd'\n",
       "\\item 'fe2d1cbd-de72-406a-b553-b7e3f6262cb3'\n",
       "\\item '8959f160-2511-40f3-80d5-59060c2a0183'\n",
       "\\item '6f53386c-7492-4d44-893b-5f0e2b8d97cf'\n",
       "\\item 'e1424785-1979-4c81-8a6d-5a3278cd42ef'\n",
       "\\item '8b0b772e-06bd-478c-a4b2-70cd6cbd6887'\n",
       "\\end{enumerate}\n"
      ],
      "text/markdown": [
       "1. 'c9a1c7af-f0c3-41ad-87a7-2a3fb07e682d'\n",
       "2. 'd929e7ef-162b-410b-b765-ae1d7d73bae8'\n",
       "3. '81bd562d-a6ad-4a05-befe-15303d1847de'\n",
       "4. '78587b33-2b08-4eb4-a392-0c3963ed904e'\n",
       "5. '9df3f431-970c-42da-99d2-a8fd4dd8558a'\n",
       "6. 'b3c55054-77b5-41cf-91cd-97576dd0ba20'\n",
       "7. '3f38fe6b-8cfc-4da5-9f65-7db40259c5eb'\n",
       "8. 'a9107429-686e-4365-8776-2c079783ccde'\n",
       "9. '32f3d133-f343-4a1e-aca7-13fc3db2f41a'\n",
       "10. 'd45a1b4c-b9c2-439d-b6d5-443f6060dcc7'\n",
       "11. 'bd06e203-1531-4c42-bc5b-c5bd5999cccd'\n",
       "12. 'fe2d1cbd-de72-406a-b553-b7e3f6262cb3'\n",
       "13. '8959f160-2511-40f3-80d5-59060c2a0183'\n",
       "14. '6f53386c-7492-4d44-893b-5f0e2b8d97cf'\n",
       "15. 'e1424785-1979-4c81-8a6d-5a3278cd42ef'\n",
       "16. '8b0b772e-06bd-478c-a4b2-70cd6cbd6887'\n",
       "\n",
       "\n"
      ],
      "text/plain": [
       "[[1]]\n",
       "[1] \"c9a1c7af-f0c3-41ad-87a7-2a3fb07e682d\"\n",
       "\n",
       "[[2]]\n",
       "[1] \"d929e7ef-162b-410b-b765-ae1d7d73bae8\"\n",
       "\n",
       "[[3]]\n",
       "[1] \"81bd562d-a6ad-4a05-befe-15303d1847de\"\n",
       "\n",
       "[[4]]\n",
       "[1] \"78587b33-2b08-4eb4-a392-0c3963ed904e\"\n",
       "\n",
       "[[5]]\n",
       "[1] \"9df3f431-970c-42da-99d2-a8fd4dd8558a\"\n",
       "\n",
       "[[6]]\n",
       "[1] \"b3c55054-77b5-41cf-91cd-97576dd0ba20\"\n",
       "\n",
       "[[7]]\n",
       "[1] \"3f38fe6b-8cfc-4da5-9f65-7db40259c5eb\"\n",
       "\n",
       "[[8]]\n",
       "[1] \"a9107429-686e-4365-8776-2c079783ccde\"\n",
       "\n",
       "[[9]]\n",
       "[1] \"32f3d133-f343-4a1e-aca7-13fc3db2f41a\"\n",
       "\n",
       "[[10]]\n",
       "[1] \"d45a1b4c-b9c2-439d-b6d5-443f6060dcc7\"\n",
       "\n",
       "[[11]]\n",
       "[1] \"bd06e203-1531-4c42-bc5b-c5bd5999cccd\"\n",
       "\n",
       "[[12]]\n",
       "[1] \"fe2d1cbd-de72-406a-b553-b7e3f6262cb3\"\n",
       "\n",
       "[[13]]\n",
       "[1] \"8959f160-2511-40f3-80d5-59060c2a0183\"\n",
       "\n",
       "[[14]]\n",
       "[1] \"6f53386c-7492-4d44-893b-5f0e2b8d97cf\"\n",
       "\n",
       "[[15]]\n",
       "[1] \"e1424785-1979-4c81-8a6d-5a3278cd42ef\"\n",
       "\n",
       "[[16]]\n",
       "[1] \"8b0b772e-06bd-478c-a4b2-70cd6cbd6887\"\n"
      ]
     },
     "metadata": {},
     "output_type": "display_data"
    }
   ],
   "source": [
    "in_list"
   ]
  },
  {
   "cell_type": "code",
   "execution_count": 24,
   "id": "cabd5c8a-269e-4ddb-a09a-0df668a883c7",
   "metadata": {},
   "outputs": [],
   "source": [
    "out_list <- list(\"output/sample_meta.csv\")"
   ]
  },
  {
   "cell_type": "code",
   "execution_count": 25,
   "id": "39b51650-db7d-4174-8cad-8d39a717afbd",
   "metadata": {},
   "outputs": [
    {
     "data": {
      "text/html": [
       "<ol>\n",
       "\t<li>'output/sample_meta.csv'</li>\n",
       "</ol>\n"
      ],
      "text/latex": [
       "\\begin{enumerate}\n",
       "\\item 'output/sample\\_meta.csv'\n",
       "\\end{enumerate}\n"
      ],
      "text/markdown": [
       "1. 'output/sample_meta.csv'\n",
       "\n",
       "\n"
      ],
      "text/plain": [
       "[[1]]\n",
       "[1] \"output/sample_meta.csv\"\n"
      ]
     },
     "metadata": {},
     "output_type": "display_data"
    }
   ],
   "source": [
    "out_list"
   ]
  },
  {
   "cell_type": "code",
   "execution_count": 26,
   "id": "83c376b5-529a-4a83-9aa0-5d03fadf48c3",
   "metadata": {},
   "outputs": [
    {
     "name": "stdout",
     "output_type": "stream",
     "text": [
      "[1] \"Cannot determine the current notebook.\"\n",
      "[1] \"1) /home/jupyter/certpro-workflow-demos/adult_vs_pediatric_teaseq/01-R_get_h5_metadata.ipynb\"\n",
      "[1] \"2) /home/jupyter/certpro-workflow-demos/adult_vs_pediatric_teaseq/00-R_select_samples.ipynb\"\n",
      "[1] \"3) /home/jupyter/examples/Visualization_apps/dash/save_visualization_app_example.ipynb\"\n"
     ]
    },
    {
     "name": "stdin",
     "output_type": "stream",
     "text": [
      "Please select (1-3)  2\n"
     ]
    },
    {
     "name": "stderr",
     "output_type": "stream",
     "text": [
      "You are trying to upload the following files:  output/sample_meta.csv\n",
      "\n"
     ]
    },
    {
     "name": "stdin",
     "output_type": "stream",
     "text": [
      "(y/n) y\n"
     ]
    },
    {
     "data": {
      "text/html": [
       "<dl>\n",
       "\t<dt>$files</dt>\n",
       "\t\t<dd><ol>\n",
       "\t<li>'output/sample_meta.csv'</li>\n",
       "</ol>\n",
       "</dd>\n",
       "\t<dt>$traceId</dt>\n",
       "\t\t<dd>'798ddda6-dabc-4014-b80c-e68378ab71d8'</dd>\n",
       "</dl>\n"
      ],
      "text/latex": [
       "\\begin{description}\n",
       "\\item[\\$files] \\begin{enumerate}\n",
       "\\item 'output/sample\\_meta.csv'\n",
       "\\end{enumerate}\n",
       "\n",
       "\\item[\\$traceId] '798ddda6-dabc-4014-b80c-e68378ab71d8'\n",
       "\\end{description}\n"
      ],
      "text/markdown": [
       "$files\n",
       ":   1. 'output/sample_meta.csv'\n",
       "\n",
       "\n",
       "\n",
       "$traceId\n",
       ":   '798ddda6-dabc-4014-b80c-e68378ab71d8'\n",
       "\n",
       "\n"
      ],
      "text/plain": [
       "$files\n",
       "$files[[1]]\n",
       "[1] \"output/sample_meta.csv\"\n",
       "\n",
       "\n",
       "$traceId\n",
       "[1] \"798ddda6-dabc-4014-b80c-e68378ab71d8\"\n"
      ]
     },
     "metadata": {},
     "output_type": "display_data"
    }
   ],
   "source": [
    "uploadFiles(\n",
    "    files = out_list,\n",
    "    studySpaceId = study_space_uuid,\n",
    "    title = title,\n",
    "    inputFileIds = in_list,\n",
    "    destination = search_id\n",
    ")"
   ]
  },
  {
   "cell_type": "code",
   "execution_count": 27,
   "id": "64d34157-3489-4394-ac0d-93e9efdd435c",
   "metadata": {},
   "outputs": [
    {
     "data": {
      "text/plain": [
       "R version 4.3.2 (2023-10-31)\n",
       "Platform: x86_64-conda-linux-gnu (64-bit)\n",
       "Running under: Ubuntu 20.04.6 LTS\n",
       "\n",
       "Matrix products: default\n",
       "BLAS/LAPACK: /opt/conda/lib/libopenblasp-r0.3.25.so;  LAPACK version 3.11.0\n",
       "\n",
       "locale:\n",
       " [1] LC_CTYPE=C.UTF-8       LC_NUMERIC=C           LC_TIME=C.UTF-8       \n",
       " [4] LC_COLLATE=C.UTF-8     LC_MONETARY=C.UTF-8    LC_MESSAGES=C.UTF-8   \n",
       " [7] LC_PAPER=C.UTF-8       LC_NAME=C              LC_ADDRESS=C          \n",
       "[10] LC_TELEPHONE=C         LC_MEASUREMENT=C.UTF-8 LC_IDENTIFICATION=C   \n",
       "\n",
       "time zone: Etc/UTC\n",
       "tzcode source: system (glibc)\n",
       "\n",
       "attached base packages:\n",
       "[1] stats     graphics  grDevices utils     datasets  methods   base     \n",
       "\n",
       "other attached packages:\n",
       "[1] purrr_1.0.2 dplyr_1.1.4 hise_2.16.0\n",
       "\n",
       "loaded via a namespace (and not attached):\n",
       " [1] jsonlite_1.8.8   compiler_4.3.2   crayon_1.5.2     tidyselect_1.2.0\n",
       " [5] Rcpp_1.0.12      IRdisplay_1.1    stringr_1.5.1    bitops_1.0-7    \n",
       " [9] assertthat_0.2.1 uuid_1.2-0       fastmap_1.1.1    IRkernel_1.3.2  \n",
       "[13] mime_0.12        R6_2.5.1         plyr_1.8.9       generics_0.1.3  \n",
       "[17] curl_5.1.0       tibble_3.2.1     pillar_1.9.0     rlang_1.1.3     \n",
       "[21] utf8_1.2.4       stringi_1.8.3    repr_1.1.7       cli_3.6.2       \n",
       "[25] withr_3.0.0      magrittr_2.0.3   digest_0.6.35    base64enc_0.1-3 \n",
       "[29] pbdZMQ_0.3-10    lifecycle_1.0.4  vctrs_0.6.5      evaluate_0.23   \n",
       "[33] glue_1.7.0       ids_1.0.1        RCurl_1.98-1.14  fansi_1.0.6     \n",
       "[37] httr_1.4.7       tools_4.3.2      pkgconfig_2.0.3  htmltools_0.5.8 "
      ]
     },
     "metadata": {},
     "output_type": "display_data"
    }
   ],
   "source": [
    "sessionInfo()"
   ]
  },
  {
   "cell_type": "code",
   "execution_count": null,
   "id": "87777b40-193f-4524-96d4-3a07424cbff5",
   "metadata": {},
   "outputs": [],
   "source": []
  }
 ],
 "metadata": {
  "environment": {
   "kernel": "ir4",
   "name": ".m121",
   "type": "gcloud",
   "uri": "us-docker.pkg.dev/deeplearning-platform-release/gcr.io/:m121"
  },
  "kernelspec": {
   "display_name": "R 4",
   "language": "R",
   "name": "ir4"
  },
  "language_info": {
   "codemirror_mode": "r",
   "file_extension": ".r",
   "mimetype": "text/x-r-source",
   "name": "R",
   "pygments_lexer": "r",
   "version": "4.3.2"
  }
 },
 "nbformat": 4,
 "nbformat_minor": 5
}
