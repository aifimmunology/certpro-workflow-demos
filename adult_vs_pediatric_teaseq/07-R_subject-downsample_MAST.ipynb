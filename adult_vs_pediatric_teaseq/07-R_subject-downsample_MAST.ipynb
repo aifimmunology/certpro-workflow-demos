{
 "cells": [
  {
   "cell_type": "markdown",
   "id": "a1887682-7939-489f-a207-e81b26c7e07d",
   "metadata": {},
   "source": [
    "# Perform MAST Differential Expression Tests\n",
    "\n",
    "In this notebook, we retrieve our CD4 and CD8 T cells and our cell type labels, then perform MAST differential gene expression tests. Comparisons will be carried out between Pediatric (UP1 cohort) and Older Adult (BR2 cohort).\n",
    "\n",
    "To balance cell counts, we'll group cells by sample, then use the minimum number of cells across all samples. For example, to test CD4 Naive T cells , we'll examine the number of CD4 Naive cells in each subject and randomly sample based on the minimum counts from all 8 subjects across all samples. After sampling from each sample, we'll then compare the cells in the two cohorts using MAST.\n",
    "\n",
    "For MAST, we need to also include Cellular Detection Rate (CDR) as a cofactor to control for gene expression differences between samples."
   ]
  },
  {
   "cell_type": "markdown",
   "id": "c4235301-2930-4ac0-82d8-435d26a543ac",
   "metadata": {
    "tags": []
   },
   "source": [
    "## Load packages\n",
    "\n",
    "hise: The Human Immune System Explorer R SDK package  \n",
    "purrr: Functional programming tools  \n",
    "furrr: Parallelization of functional programming using `futures`  \n",
    "dplyr: Dataframe handling functions  \n",
    "ggplot2: plotting functions  \n",
    "Seurat: single cell genomics methods  \n",
    "MAST: single cell differential expression tests"
   ]
  },
  {
   "cell_type": "code",
   "execution_count": 1,
   "id": "079bed78-ca7c-4314-aa80-fa884b82a934",
   "metadata": {},
   "outputs": [],
   "source": [
    "quiet_library <- function(...) { suppressPackageStartupMessages(library(...)) }\n",
    "quiet_library(hise)\n",
    "quiet_library(purrr)\n",
    "quiet_library(furrr)\n",
    "quiet_library(dplyr)\n",
    "quiet_library(ggplot2)\n",
    "quiet_library(Seurat)\n",
    "quiet_library(MAST)"
   ]
  },
  {
   "cell_type": "code",
   "execution_count": 2,
   "id": "8910340a-e09e-4e85-8a31-223f3aee8caf",
   "metadata": {},
   "outputs": [],
   "source": [
    "read_path_uuid <- function(uuid) {\n",
    "    uuid_path <- paste0(\"cache/\", uuid)\n",
    "    if(!dir.exists(uuid_path)) {\n",
    "        cacheFiles(list(uuid))\n",
    "    }\n",
    "    list.files(uuid_path, full.names = TRUE)[1]\n",
    "}"
   ]
  },
  {
   "cell_type": "code",
   "execution_count": 3,
   "id": "0cc6ecc5-68d0-4783-8912-0502708cc385",
   "metadata": {},
   "outputs": [],
   "source": [
    "read_csv_uuid <- function(uuid) {\n",
    "    filename <- read_path_uuid(uuid)\n",
    "    read.csv(filename)\n",
    "}"
   ]
  },
  {
   "cell_type": "markdown",
   "id": "0b6cdb98-1cd3-47dd-a43b-c499e349a029",
   "metadata": {},
   "source": [
    "## Retrieve files\n",
    "\n",
    "Now, we'll use the HISE SDK package to retrieve the Seurat objects and cell type labels based on file UUIDs. This will be placed in the `cache/` subdirectory by default."
   ]
  },
  {
   "cell_type": "code",
   "execution_count": 4,
   "id": "5f6e6bf7-352a-4645-ad3e-1b64ff50b80a",
   "metadata": {},
   "outputs": [],
   "source": [
    "meta_uuid <- \"5e3115d4-9207-4020-8e3a-3792dd28ea6b\"\n",
    "sample_meta <- read_csv_uuid(meta_uuid)"
   ]
  },
  {
   "cell_type": "code",
   "execution_count": 29,
   "id": "65f97749-6524-4a1a-8556-d04f5113d61e",
   "metadata": {},
   "outputs": [],
   "source": [
    "file_uuids <- list(\n",
    "    cd4_so = \"50756d6d-8216-4eba-8245-0a41d4f44e7a\", # CD4 T cell Seurat object\n",
    "    cd8_so = \"057a9e09-1f9d-4684-b00f-7739209ffe17\", # CD8 T cell Seurat object\n",
    "    cd4_labels = \"56da30a4-3ac1-4c2b-8ca8-5e1d58cc6986\", # CD4 type labels\n",
    "    cd8_labels = \"d369cedf-18c3-4579-83ea-a0daab116e3c\"  # CD8 type labels\n",
    ")"
   ]
  },
  {
   "cell_type": "code",
   "execution_count": 30,
   "id": "0f53f481-6286-4989-8d1e-8827d7eb48f0",
   "metadata": {
    "scrolled": true
   },
   "outputs": [],
   "source": [
    "file_paths <- map(file_uuids, read_path_uuid)"
   ]
  },
  {
   "cell_type": "markdown",
   "id": "e870676a-e616-4f17-9d09-715157d93235",
   "metadata": {},
   "source": [
    "## Select cells\n"
   ]
  },
  {
   "cell_type": "code",
   "execution_count": 31,
   "id": "e8788e01-b60d-46f8-a6bc-3b70a2f2848f",
   "metadata": {},
   "outputs": [],
   "source": [
    "cd4_labels <- read.csv(file_paths$cd4_labels)\n",
    "cd8_labels <- read.csv(file_paths$cd8_labels)"
   ]
  },
  {
   "cell_type": "code",
   "execution_count": 8,
   "id": "84efcc74-2115-4c44-8d9a-b510b3d27d86",
   "metadata": {},
   "outputs": [],
   "source": [
    "all_labels <- rbind(cd4_labels, cd8_labels)"
   ]
  },
  {
   "cell_type": "code",
   "execution_count": 9,
   "id": "226d7de3-444c-4fb7-a792-98956fa4a701",
   "metadata": {},
   "outputs": [
    {
     "name": "stderr",
     "output_type": "stream",
     "text": [
      "\u001b[1m\u001b[22mJoining with `by = join_by(sample.sampleKitGuid)`\n"
     ]
    }
   ],
   "source": [
    "all_labels <- left_join(all_labels, sample_meta)"
   ]
  },
  {
   "cell_type": "code",
   "execution_count": 10,
   "id": "4fa6631b-b894-45e8-8c0d-cdb48be44a81",
   "metadata": {},
   "outputs": [
    {
     "data": {
      "text/html": [
       "<table class=\"dataframe\">\n",
       "<caption>A data.frame: 6 × 16</caption>\n",
       "<thead>\n",
       "\t<tr><th></th><th scope=col>barcodes</th><th scope=col>sample.sampleKitGuid</th><th scope=col>predicted.celltype.l1.score</th><th scope=col>predicted.celltype.l1</th><th scope=col>predicted.celltype.l2.score</th><th scope=col>predicted.celltype.l2</th><th scope=col>predicted.celltype.l3.score</th><th scope=col>predicted.celltype.l3</th><th scope=col>aifi_cell_type</th><th scope=col>cohort.cohortGuid</th><th scope=col>subject.subjectGuid</th><th scope=col>subject.birthYear</th><th scope=col>subject.biologicalSex</th><th scope=col>sample.visitName</th><th scope=col>rna_file.id</th><th scope=col>atac_file.id</th></tr>\n",
       "\t<tr><th></th><th scope=col>&lt;chr&gt;</th><th scope=col>&lt;chr&gt;</th><th scope=col>&lt;dbl&gt;</th><th scope=col>&lt;chr&gt;</th><th scope=col>&lt;dbl&gt;</th><th scope=col>&lt;chr&gt;</th><th scope=col>&lt;dbl&gt;</th><th scope=col>&lt;chr&gt;</th><th scope=col>&lt;chr&gt;</th><th scope=col>&lt;chr&gt;</th><th scope=col>&lt;chr&gt;</th><th scope=col>&lt;int&gt;</th><th scope=col>&lt;chr&gt;</th><th scope=col>&lt;chr&gt;</th><th scope=col>&lt;chr&gt;</th><th scope=col>&lt;chr&gt;</th></tr>\n",
       "</thead>\n",
       "<tbody>\n",
       "\t<tr><th scope=row>1</th><td>dc6d9d6831b011ef80e742c13d66f8da</td><td>KT00395</td><td>1</td><td>CD4 T</td><td>0.8999748</td><td>CD4 TCM  </td><td>0.3633358</td><td>CD4 TCM_3</td><td>t_cd4_em   </td><td>BR2</td><td>BR2005</td><td>1963</td><td>Female</td><td>Flu Year 1 Day 7</td><td>c9a1c7af-f0c3-41ad-87a7-2a3fb07e682d</td><td>32f3d133-f343-4a1e-aca7-13fc3db2f41a</td></tr>\n",
       "\t<tr><th scope=row>2</th><td>dc6f966831b011ef80e742c13d66f8da</td><td>KT00395</td><td>1</td><td>CD4 T</td><td>0.8149228</td><td>CD4 Naive</td><td>0.8149228</td><td>CD4 Naive</td><td>t_cd4_naive</td><td>BR2</td><td>BR2005</td><td>1963</td><td>Female</td><td>Flu Year 1 Day 7</td><td>c9a1c7af-f0c3-41ad-87a7-2a3fb07e682d</td><td>32f3d133-f343-4a1e-aca7-13fc3db2f41a</td></tr>\n",
       "\t<tr><th scope=row>3</th><td>dc8f1c7c31b011ef80e742c13d66f8da</td><td>KT00395</td><td>1</td><td>CD4 T</td><td>0.4632712</td><td>CD4 TCM  </td><td>0.3341503</td><td>CD4 Naive</td><td>t_cd4_naive</td><td>BR2</td><td>BR2005</td><td>1963</td><td>Female</td><td>Flu Year 1 Day 7</td><td>c9a1c7af-f0c3-41ad-87a7-2a3fb07e682d</td><td>32f3d133-f343-4a1e-aca7-13fc3db2f41a</td></tr>\n",
       "\t<tr><th scope=row>4</th><td>dca1879a31b011ef80e742c13d66f8da</td><td>KT00395</td><td>1</td><td>CD4 T</td><td>0.9009319</td><td>CD4 Naive</td><td>0.9009319</td><td>CD4 Naive</td><td>t_cd4_naive</td><td>BR2</td><td>BR2005</td><td>1963</td><td>Female</td><td>Flu Year 1 Day 7</td><td>c9a1c7af-f0c3-41ad-87a7-2a3fb07e682d</td><td>32f3d133-f343-4a1e-aca7-13fc3db2f41a</td></tr>\n",
       "\t<tr><th scope=row>5</th><td>dcb6a9f431b011ef80e742c13d66f8da</td><td>KT00395</td><td>1</td><td>CD4 T</td><td>0.5730879</td><td>CD4 TCM  </td><td>0.3885105</td><td>CD4 TCM_2</td><td>t_cd4_cm   </td><td>BR2</td><td>BR2005</td><td>1963</td><td>Female</td><td>Flu Year 1 Day 7</td><td>c9a1c7af-f0c3-41ad-87a7-2a3fb07e682d</td><td>32f3d133-f343-4a1e-aca7-13fc3db2f41a</td></tr>\n",
       "\t<tr><th scope=row>6</th><td>dcb8a98431b011ef80e742c13d66f8da</td><td>KT00395</td><td>1</td><td>CD4 T</td><td>0.8962496</td><td>CD4 TCM  </td><td>0.5954403</td><td>CD4 TCM_1</td><td>t_cd4_naive</td><td>BR2</td><td>BR2005</td><td>1963</td><td>Female</td><td>Flu Year 1 Day 7</td><td>c9a1c7af-f0c3-41ad-87a7-2a3fb07e682d</td><td>32f3d133-f343-4a1e-aca7-13fc3db2f41a</td></tr>\n",
       "</tbody>\n",
       "</table>\n"
      ],
      "text/latex": [
       "A data.frame: 6 × 16\n",
       "\\begin{tabular}{r|llllllllllllllll}\n",
       "  & barcodes & sample.sampleKitGuid & predicted.celltype.l1.score & predicted.celltype.l1 & predicted.celltype.l2.score & predicted.celltype.l2 & predicted.celltype.l3.score & predicted.celltype.l3 & aifi\\_cell\\_type & cohort.cohortGuid & subject.subjectGuid & subject.birthYear & subject.biologicalSex & sample.visitName & rna\\_file.id & atac\\_file.id\\\\\n",
       "  & <chr> & <chr> & <dbl> & <chr> & <dbl> & <chr> & <dbl> & <chr> & <chr> & <chr> & <chr> & <int> & <chr> & <chr> & <chr> & <chr>\\\\\n",
       "\\hline\n",
       "\t1 & dc6d9d6831b011ef80e742c13d66f8da & KT00395 & 1 & CD4 T & 0.8999748 & CD4 TCM   & 0.3633358 & CD4 TCM\\_3 & t\\_cd4\\_em    & BR2 & BR2005 & 1963 & Female & Flu Year 1 Day 7 & c9a1c7af-f0c3-41ad-87a7-2a3fb07e682d & 32f3d133-f343-4a1e-aca7-13fc3db2f41a\\\\\n",
       "\t2 & dc6f966831b011ef80e742c13d66f8da & KT00395 & 1 & CD4 T & 0.8149228 & CD4 Naive & 0.8149228 & CD4 Naive & t\\_cd4\\_naive & BR2 & BR2005 & 1963 & Female & Flu Year 1 Day 7 & c9a1c7af-f0c3-41ad-87a7-2a3fb07e682d & 32f3d133-f343-4a1e-aca7-13fc3db2f41a\\\\\n",
       "\t3 & dc8f1c7c31b011ef80e742c13d66f8da & KT00395 & 1 & CD4 T & 0.4632712 & CD4 TCM   & 0.3341503 & CD4 Naive & t\\_cd4\\_naive & BR2 & BR2005 & 1963 & Female & Flu Year 1 Day 7 & c9a1c7af-f0c3-41ad-87a7-2a3fb07e682d & 32f3d133-f343-4a1e-aca7-13fc3db2f41a\\\\\n",
       "\t4 & dca1879a31b011ef80e742c13d66f8da & KT00395 & 1 & CD4 T & 0.9009319 & CD4 Naive & 0.9009319 & CD4 Naive & t\\_cd4\\_naive & BR2 & BR2005 & 1963 & Female & Flu Year 1 Day 7 & c9a1c7af-f0c3-41ad-87a7-2a3fb07e682d & 32f3d133-f343-4a1e-aca7-13fc3db2f41a\\\\\n",
       "\t5 & dcb6a9f431b011ef80e742c13d66f8da & KT00395 & 1 & CD4 T & 0.5730879 & CD4 TCM   & 0.3885105 & CD4 TCM\\_2 & t\\_cd4\\_cm    & BR2 & BR2005 & 1963 & Female & Flu Year 1 Day 7 & c9a1c7af-f0c3-41ad-87a7-2a3fb07e682d & 32f3d133-f343-4a1e-aca7-13fc3db2f41a\\\\\n",
       "\t6 & dcb8a98431b011ef80e742c13d66f8da & KT00395 & 1 & CD4 T & 0.8962496 & CD4 TCM   & 0.5954403 & CD4 TCM\\_1 & t\\_cd4\\_naive & BR2 & BR2005 & 1963 & Female & Flu Year 1 Day 7 & c9a1c7af-f0c3-41ad-87a7-2a3fb07e682d & 32f3d133-f343-4a1e-aca7-13fc3db2f41a\\\\\n",
       "\\end{tabular}\n"
      ],
      "text/markdown": [
       "\n",
       "A data.frame: 6 × 16\n",
       "\n",
       "| <!--/--> | barcodes &lt;chr&gt; | sample.sampleKitGuid &lt;chr&gt; | predicted.celltype.l1.score &lt;dbl&gt; | predicted.celltype.l1 &lt;chr&gt; | predicted.celltype.l2.score &lt;dbl&gt; | predicted.celltype.l2 &lt;chr&gt; | predicted.celltype.l3.score &lt;dbl&gt; | predicted.celltype.l3 &lt;chr&gt; | aifi_cell_type &lt;chr&gt; | cohort.cohortGuid &lt;chr&gt; | subject.subjectGuid &lt;chr&gt; | subject.birthYear &lt;int&gt; | subject.biologicalSex &lt;chr&gt; | sample.visitName &lt;chr&gt; | rna_file.id &lt;chr&gt; | atac_file.id &lt;chr&gt; |\n",
       "|---|---|---|---|---|---|---|---|---|---|---|---|---|---|---|---|---|\n",
       "| 1 | dc6d9d6831b011ef80e742c13d66f8da | KT00395 | 1 | CD4 T | 0.8999748 | CD4 TCM   | 0.3633358 | CD4 TCM_3 | t_cd4_em    | BR2 | BR2005 | 1963 | Female | Flu Year 1 Day 7 | c9a1c7af-f0c3-41ad-87a7-2a3fb07e682d | 32f3d133-f343-4a1e-aca7-13fc3db2f41a |\n",
       "| 2 | dc6f966831b011ef80e742c13d66f8da | KT00395 | 1 | CD4 T | 0.8149228 | CD4 Naive | 0.8149228 | CD4 Naive | t_cd4_naive | BR2 | BR2005 | 1963 | Female | Flu Year 1 Day 7 | c9a1c7af-f0c3-41ad-87a7-2a3fb07e682d | 32f3d133-f343-4a1e-aca7-13fc3db2f41a |\n",
       "| 3 | dc8f1c7c31b011ef80e742c13d66f8da | KT00395 | 1 | CD4 T | 0.4632712 | CD4 TCM   | 0.3341503 | CD4 Naive | t_cd4_naive | BR2 | BR2005 | 1963 | Female | Flu Year 1 Day 7 | c9a1c7af-f0c3-41ad-87a7-2a3fb07e682d | 32f3d133-f343-4a1e-aca7-13fc3db2f41a |\n",
       "| 4 | dca1879a31b011ef80e742c13d66f8da | KT00395 | 1 | CD4 T | 0.9009319 | CD4 Naive | 0.9009319 | CD4 Naive | t_cd4_naive | BR2 | BR2005 | 1963 | Female | Flu Year 1 Day 7 | c9a1c7af-f0c3-41ad-87a7-2a3fb07e682d | 32f3d133-f343-4a1e-aca7-13fc3db2f41a |\n",
       "| 5 | dcb6a9f431b011ef80e742c13d66f8da | KT00395 | 1 | CD4 T | 0.5730879 | CD4 TCM   | 0.3885105 | CD4 TCM_2 | t_cd4_cm    | BR2 | BR2005 | 1963 | Female | Flu Year 1 Day 7 | c9a1c7af-f0c3-41ad-87a7-2a3fb07e682d | 32f3d133-f343-4a1e-aca7-13fc3db2f41a |\n",
       "| 6 | dcb8a98431b011ef80e742c13d66f8da | KT00395 | 1 | CD4 T | 0.8962496 | CD4 TCM   | 0.5954403 | CD4 TCM_1 | t_cd4_naive | BR2 | BR2005 | 1963 | Female | Flu Year 1 Day 7 | c9a1c7af-f0c3-41ad-87a7-2a3fb07e682d | 32f3d133-f343-4a1e-aca7-13fc3db2f41a |\n",
       "\n"
      ],
      "text/plain": [
       "  barcodes                         sample.sampleKitGuid\n",
       "1 dc6d9d6831b011ef80e742c13d66f8da KT00395             \n",
       "2 dc6f966831b011ef80e742c13d66f8da KT00395             \n",
       "3 dc8f1c7c31b011ef80e742c13d66f8da KT00395             \n",
       "4 dca1879a31b011ef80e742c13d66f8da KT00395             \n",
       "5 dcb6a9f431b011ef80e742c13d66f8da KT00395             \n",
       "6 dcb8a98431b011ef80e742c13d66f8da KT00395             \n",
       "  predicted.celltype.l1.score predicted.celltype.l1 predicted.celltype.l2.score\n",
       "1 1                           CD4 T                 0.8999748                  \n",
       "2 1                           CD4 T                 0.8149228                  \n",
       "3 1                           CD4 T                 0.4632712                  \n",
       "4 1                           CD4 T                 0.9009319                  \n",
       "5 1                           CD4 T                 0.5730879                  \n",
       "6 1                           CD4 T                 0.8962496                  \n",
       "  predicted.celltype.l2 predicted.celltype.l3.score predicted.celltype.l3\n",
       "1 CD4 TCM               0.3633358                   CD4 TCM_3            \n",
       "2 CD4 Naive             0.8149228                   CD4 Naive            \n",
       "3 CD4 TCM               0.3341503                   CD4 Naive            \n",
       "4 CD4 Naive             0.9009319                   CD4 Naive            \n",
       "5 CD4 TCM               0.3885105                   CD4 TCM_2            \n",
       "6 CD4 TCM               0.5954403                   CD4 TCM_1            \n",
       "  aifi_cell_type cohort.cohortGuid subject.subjectGuid subject.birthYear\n",
       "1 t_cd4_em       BR2               BR2005              1963             \n",
       "2 t_cd4_naive    BR2               BR2005              1963             \n",
       "3 t_cd4_naive    BR2               BR2005              1963             \n",
       "4 t_cd4_naive    BR2               BR2005              1963             \n",
       "5 t_cd4_cm       BR2               BR2005              1963             \n",
       "6 t_cd4_naive    BR2               BR2005              1963             \n",
       "  subject.biologicalSex sample.visitName rna_file.id                         \n",
       "1 Female                Flu Year 1 Day 7 c9a1c7af-f0c3-41ad-87a7-2a3fb07e682d\n",
       "2 Female                Flu Year 1 Day 7 c9a1c7af-f0c3-41ad-87a7-2a3fb07e682d\n",
       "3 Female                Flu Year 1 Day 7 c9a1c7af-f0c3-41ad-87a7-2a3fb07e682d\n",
       "4 Female                Flu Year 1 Day 7 c9a1c7af-f0c3-41ad-87a7-2a3fb07e682d\n",
       "5 Female                Flu Year 1 Day 7 c9a1c7af-f0c3-41ad-87a7-2a3fb07e682d\n",
       "6 Female                Flu Year 1 Day 7 c9a1c7af-f0c3-41ad-87a7-2a3fb07e682d\n",
       "  atac_file.id                        \n",
       "1 32f3d133-f343-4a1e-aca7-13fc3db2f41a\n",
       "2 32f3d133-f343-4a1e-aca7-13fc3db2f41a\n",
       "3 32f3d133-f343-4a1e-aca7-13fc3db2f41a\n",
       "4 32f3d133-f343-4a1e-aca7-13fc3db2f41a\n",
       "5 32f3d133-f343-4a1e-aca7-13fc3db2f41a\n",
       "6 32f3d133-f343-4a1e-aca7-13fc3db2f41a"
      ]
     },
     "metadata": {},
     "output_type": "display_data"
    }
   ],
   "source": [
    "head(all_labels)"
   ]
  },
  {
   "cell_type": "markdown",
   "id": "6d67ebaa-e523-4963-b52a-7b50c23513a9",
   "metadata": {},
   "source": [
    "Get counts of each cell type for each sample:"
   ]
  },
  {
   "cell_type": "code",
   "execution_count": 11,
   "id": "badeb3a7-3856-4965-83d3-3f69d839d688",
   "metadata": {},
   "outputs": [],
   "source": [
    "count_summary <- all_labels %>%\n",
    "  group_by(sample.sampleKitGuid, aifi_cell_type) %>%\n",
    "  summarise(n_cells = n(),\n",
    "            .groups = \"keep\") %>%\n",
    "  ungroup()"
   ]
  },
  {
   "cell_type": "code",
   "execution_count": 18,
   "id": "e6b533fa-1bb2-45ab-a20f-e31e9e9fece4",
   "metadata": {},
   "outputs": [],
   "source": [
    "type_minimums <- count_summary %>%\n",
    "  group_by(aifi_cell_type) %>%\n",
    "  summarise(n_sample = min(n_cells))"
   ]
  },
  {
   "cell_type": "code",
   "execution_count": 19,
   "id": "da8bbeee-7b5a-4d6e-8f99-45d6dd2faaca",
   "metadata": {},
   "outputs": [
    {
     "data": {
      "text/html": [
       "<table class=\"dataframe\">\n",
       "<caption>A tibble: 6 × 2</caption>\n",
       "<thead>\n",
       "\t<tr><th scope=col>aifi_cell_type</th><th scope=col>n_sample</th></tr>\n",
       "\t<tr><th scope=col>&lt;chr&gt;</th><th scope=col>&lt;int&gt;</th></tr>\n",
       "</thead>\n",
       "<tbody>\n",
       "\t<tr><td>t_cd4_cm    </td><td>1312</td></tr>\n",
       "\t<tr><td>t_cd4_em    </td><td> 427</td></tr>\n",
       "\t<tr><td>t_cd4_naive </td><td>2369</td></tr>\n",
       "\t<tr><td>t_cd4_treg  </td><td> 285</td></tr>\n",
       "\t<tr><td>t_cd8_memory</td><td> 402</td></tr>\n",
       "\t<tr><td>t_cd8_naive </td><td> 158</td></tr>\n",
       "</tbody>\n",
       "</table>\n"
      ],
      "text/latex": [
       "A tibble: 6 × 2\n",
       "\\begin{tabular}{ll}\n",
       " aifi\\_cell\\_type & n\\_sample\\\\\n",
       " <chr> & <int>\\\\\n",
       "\\hline\n",
       "\t t\\_cd4\\_cm     & 1312\\\\\n",
       "\t t\\_cd4\\_em     &  427\\\\\n",
       "\t t\\_cd4\\_naive  & 2369\\\\\n",
       "\t t\\_cd4\\_treg   &  285\\\\\n",
       "\t t\\_cd8\\_memory &  402\\\\\n",
       "\t t\\_cd8\\_naive  &  158\\\\\n",
       "\\end{tabular}\n"
      ],
      "text/markdown": [
       "\n",
       "A tibble: 6 × 2\n",
       "\n",
       "| aifi_cell_type &lt;chr&gt; | n_sample &lt;int&gt; |\n",
       "|---|---|\n",
       "| t_cd4_cm     | 1312 |\n",
       "| t_cd4_em     |  427 |\n",
       "| t_cd4_naive  | 2369 |\n",
       "| t_cd4_treg   |  285 |\n",
       "| t_cd8_memory |  402 |\n",
       "| t_cd8_naive  |  158 |\n",
       "\n"
      ],
      "text/plain": [
       "  aifi_cell_type n_sample\n",
       "1 t_cd4_cm       1312    \n",
       "2 t_cd4_em        427    \n",
       "3 t_cd4_naive    2369    \n",
       "4 t_cd4_treg      285    \n",
       "5 t_cd8_memory    402    \n",
       "6 t_cd8_naive     158    "
      ]
     },
     "metadata": {},
     "output_type": "display_data"
    }
   ],
   "source": [
    "type_minimums %>%\n",
    "  arrange(aifi_cell_type)"
   ]
  },
  {
   "cell_type": "code",
   "execution_count": 20,
   "id": "49c0b075-85dc-4058-a696-4731c87adb6b",
   "metadata": {},
   "outputs": [],
   "source": [
    "comp_list <- map(\n",
    "    1:nrow(type_minimums),\n",
    "    function(i) {\n",
    "        as.list(type_minimums[i,])\n",
    "    }\n",
    ")"
   ]
  },
  {
   "cell_type": "markdown",
   "id": "0a903c57-0990-4beb-aee2-2a5c45be848a",
   "metadata": {},
   "source": [
    "## Sample cells for each test\n",
    "\n",
    "Here, we'll sample cells for comparisons and generate a table of foreground and background cells to use for analysis."
   ]
  },
  {
   "cell_type": "code",
   "execution_count": 23,
   "id": "4eb4c0fa-1ea3-4416-808a-9a0c1ce09137",
   "metadata": {},
   "outputs": [],
   "source": [
    "sampled_comp_cells <- map(\n",
    "    comp_list,\n",
    "    function(comp) {\n",
    "        set.seed(3030)\n",
    "\n",
    "        ct <- comp$aifi_cell_type\n",
    "        n_sample <- comp$n_sample\n",
    "\n",
    "        all_labels <- all_labels %>%\n",
    "          filter(aifi_cell_type == ct)\n",
    "\n",
    "        sampled_labels <- split(all_labels, all_labels$sample.sampleKitGuid) %>%\n",
    "          map(sample_n, n_sample) %>%\n",
    "          list_rbind()\n",
    "\n",
    "        sampled_labels\n",
    "\n",
    "    }\n",
    ")"
   ]
  },
  {
   "cell_type": "markdown",
   "id": "4774cf5f-71c5-4b10-ac13-72aabe4ea4b9",
   "metadata": {},
   "source": [
    "## Build matrices for each test\n",
    "\n",
    "Now, we'll use the selected cells to build a data matrix for each comparison.\n",
    "\n",
    "We'll use these together with the cell metadata to run MAST. Because some steps in the analysis are single-threaded, I've found that it's quite efficient to build a list of datasets and run MAST on each comparison using its own core, rather than rely on the built-in parallelization provided by MAST. This may not be possible on larger datasets, where duplication of data in RAM would be prohibitive (i.e. the shared DMSO control data), but on the scale used for this analysis we should get away with it."
   ]
  },
  {
   "cell_type": "code",
   "execution_count": 32,
   "id": "452a6331-d907-4c37-a5c4-b73ac88ffe55",
   "metadata": {},
   "outputs": [],
   "source": [
    "cd4_so <- readRDS(file_paths$cd4_so)\n",
    "cd8_so <- readRDS(file_paths$cd8_so)"
   ]
  },
  {
   "cell_type": "code",
   "execution_count": 33,
   "id": "260552bd-3566-4713-9a14-25358c93904c",
   "metadata": {},
   "outputs": [],
   "source": [
    "all_so <- merge(cd4_so, cd8_so)\n",
    "all_so <- JoinLayers(all_so, layers = c(\"counts\"))"
   ]
  },
  {
   "cell_type": "code",
   "execution_count": 34,
   "id": "a630056c-0435-4013-acfa-18b3505ddf41",
   "metadata": {},
   "outputs": [
    {
     "name": "stderr",
     "output_type": "stream",
     "text": [
      "Normalizing layer: counts\n",
      "\n"
     ]
    }
   ],
   "source": [
    "all_so <- NormalizeData(\n",
    "    all_so, \n",
    "    normalization.method = \"LogNormalize\"\n",
    ")"
   ]
  },
  {
   "cell_type": "code",
   "execution_count": 35,
   "id": "47cbc259-fbc0-45c8-b37d-d1235e08e29c",
   "metadata": {},
   "outputs": [],
   "source": [
    "all_mat <- all_so[[\"RNA\"]]@layers$data\n",
    "rownames(all_mat) <- rownames(all_so)\n",
    "colnames(all_mat) <- all_so@meta.data$barcodes\n",
    "rm(cd4_so)\n",
    "rm(cd8_so)\n",
    "rm(all_so)"
   ]
  },
  {
   "cell_type": "code",
   "execution_count": 36,
   "id": "c790d960-70b8-44b5-b0e0-76bd527d7dc2",
   "metadata": {},
   "outputs": [],
   "source": [
    "sampled_comp_mats <- map(\n",
    "    sampled_comp_cells,\n",
    "    function(meta) {\n",
    "        all_mat[,meta$barcodes]\n",
    "    }\n",
    ")"
   ]
  },
  {
   "cell_type": "markdown",
   "id": "1b5a2c0a-6230-4a9b-be47-e02a87a3f965",
   "metadata": {},
   "source": [
    "## Filter genes prior to testing\n",
    "\n",
    "Before we perform differential tests, we'll remove genes that have low expression in either test group. For our purposes, we'll remove any gene that isn't expressed in at least 5% of either the treatment or DMSO control cells. Note that we don't require that the gene be expressed in 5% of **both** groups - a difference between low/no expression in one group and > 5% expression in another group would still be good to capture."
   ]
  },
  {
   "cell_type": "code",
   "execution_count": 37,
   "id": "ac4704ec-7352-4146-a63c-b545fcaa01d2",
   "metadata": {},
   "outputs": [],
   "source": [
    "min_gene_frac <- 0.05"
   ]
  },
  {
   "cell_type": "code",
   "execution_count": 38,
   "id": "c3db5730-60cd-4899-aa43-345afd48adcd",
   "metadata": {},
   "outputs": [],
   "source": [
    "filtered_comp_mats <- map2(\n",
    "    sampled_comp_cells,\n",
    "    sampled_comp_mats,\n",
    "    function(meta, mat) {\n",
    "        fg_meta <- meta %>%\n",
    "          filter(cohort.cohortGuid == \"BR2\")\n",
    "        bg_meta <- meta %>%\n",
    "          filter(cohort.cohortGuid == \"UP1\")\n",
    "\n",
    "        fg_mat <- mat[,fg_meta$barcodes]\n",
    "        bg_mat <- mat[,bg_meta$barcodes]\n",
    "\n",
    "        # Running diff on the pointers of transposed sparse matrices is a pretty fast way to get # non-zero\n",
    "        fg_fracs <- diff(t(fg_mat)@p) / ncol(fg_mat)\n",
    "        bg_fracs <- diff(t(bg_mat)@p) / ncol(bg_mat)\n",
    "\n",
    "        keep_genes <- fg_fracs > min_gene_frac | bg_fracs > min_gene_frac\n",
    "\n",
    "        mat[keep_genes,]\n",
    "    }\n",
    ")"
   ]
  },
  {
   "cell_type": "code",
   "execution_count": 39,
   "id": "dec6edb6-5aa8-48fb-975a-d7071b8d2f22",
   "metadata": {},
   "outputs": [
    {
     "data": {
      "text/html": [
       "<style>\n",
       ".list-inline {list-style: none; margin:0; padding: 0}\n",
       ".list-inline>li {display: inline-block}\n",
       ".list-inline>li:not(:last-child)::after {content: \"\\00b7\"; padding: 0 .5ex}\n",
       "</style>\n",
       "<ol class=list-inline><li>7627</li><li>7533</li><li>6848</li><li>7285</li><li>7546</li><li>7452</li></ol>\n"
      ],
      "text/latex": [
       "\\begin{enumerate*}\n",
       "\\item 7627\n",
       "\\item 7533\n",
       "\\item 6848\n",
       "\\item 7285\n",
       "\\item 7546\n",
       "\\item 7452\n",
       "\\end{enumerate*}\n"
      ],
      "text/markdown": [
       "1. 7627\n",
       "2. 7533\n",
       "3. 6848\n",
       "4. 7285\n",
       "5. 7546\n",
       "6. 7452\n",
       "\n",
       "\n"
      ],
      "text/plain": [
       "[1] 7627 7533 6848 7285 7546 7452"
      ]
     },
     "metadata": {},
     "output_type": "display_data"
    }
   ],
   "source": [
    "map_int(filtered_comp_mats, nrow)"
   ]
  },
  {
   "cell_type": "markdown",
   "id": "22586649-0ceb-407d-a9e5-83395467ab88",
   "metadata": {},
   "source": [
    "## Compute CDR values\n",
    "\n",
    "To account for technical factors that may affect gene detection in each cell, we'll also need to calculate Cellular Detection Rate values for each cell (CDR), and use these as a cofactor in our MAST equation.\n",
    "\n",
    "Since we just filtered genes, we'll compute the CDR based on the remaining genes used for analysis for each cell, and add that to our metadata"
   ]
  },
  {
   "cell_type": "code",
   "execution_count": 40,
   "id": "7ac43474-bf7d-40cb-9fb5-03257b5fd362",
   "metadata": {},
   "outputs": [],
   "source": [
    "sampled_comp_cells <- map2(\n",
    "    sampled_comp_cells,\n",
    "    filtered_comp_mats,\n",
    "    function(meta, mat) {\n",
    "        gene_counts <- diff(mat@p)\n",
    "\n",
    "        meta %>%\n",
    "          mutate(cdr = scale(gene_counts))\n",
    "    }\n",
    ")"
   ]
  },
  {
   "cell_type": "markdown",
   "id": "4e9ef309-a886-4f52-8c4c-fcdda2619729",
   "metadata": {},
   "source": [
    "## Run MAST tests\n",
    "\n",
    "Now, we have all of the pieces we need to run our MAST tests easily. We'll run these across multiple cores using `furrr`'s `future_map2()`.\n",
    "\n",
    "Because we're mainly interested in the difference between cohorts, we'll include sample.sampleKitGuid in the model formula for MAST to capture sample-specific differences:\n",
    "`~ cohort.cohortGuid + sample.sampleKitGuid + cdr`"
   ]
  },
  {
   "cell_type": "code",
   "execution_count": 41,
   "id": "2e0cac07-e157-4e6d-b4c5-e77b49499fd1",
   "metadata": {},
   "outputs": [],
   "source": [
    "future::plan(future::multisession, workers = 6)"
   ]
  },
  {
   "cell_type": "code",
   "execution_count": 42,
   "id": "973badcb-5f28-4a51-ac48-ec0862a32b83",
   "metadata": {},
   "outputs": [],
   "source": [
    "quietly <- function(...) { suppressMessages(suppressWarnings(...)) }"
   ]
  },
  {
   "cell_type": "code",
   "execution_count": 43,
   "id": "a9f99c2e-35df-45f0-84f7-23d2fee9a830",
   "metadata": {},
   "outputs": [
    {
     "name": "stderr",
     "output_type": "stream",
     "text": [
      "`fData` has no primerid.  I'll make something up.\n",
      "\n",
      "`cData` has no wellKey.  I'll make something up.\n",
      "\n",
      "Assuming data assay in position 1, with name et is log-transformed.\n",
      "\n",
      "`fData` has no primerid.  I'll make something up.\n",
      "\n",
      "`cData` has no wellKey.  I'll make something up.\n",
      "\n",
      "Assuming data assay in position 1, with name et is log-transformed.\n",
      "\n",
      "`fData` has no primerid.  I'll make something up.\n",
      "\n",
      "`cData` has no wellKey.  I'll make something up.\n",
      "\n",
      "Assuming data assay in position 1, with name et is log-transformed.\n",
      "\n",
      "`fData` has no primerid.  I'll make something up.\n",
      "\n",
      "`cData` has no wellKey.  I'll make something up.\n",
      "\n",
      "Assuming data assay in position 1, with name et is log-transformed.\n",
      "\n",
      "`fData` has no primerid.  I'll make something up.\n",
      "\n",
      "`cData` has no wellKey.  I'll make something up.\n",
      "\n",
      "Assuming data assay in position 1, with name et is log-transformed.\n",
      "\n",
      "`fData` has no primerid.  I'll make something up.\n",
      "\n",
      "`cData` has no wellKey.  I'll make something up.\n",
      "\n",
      "Assuming data assay in position 1, with name et is log-transformed.\n",
      "\n"
     ]
    }
   ],
   "source": [
    "zlm_res_list <- future_map2(\n",
    "    sampled_comp_cells,\n",
    "    filtered_comp_mats,\n",
    "    function(meta, mat) {\n",
    "        \n",
    "        cohort_levels <- c(\"UP1\", \"BR2\")\n",
    "        meta$cohort.cohortGuid <- factor(meta$cohort.cohortGuid, levels = cohort_levels)\n",
    "        \n",
    "        fdat <- data.frame(x = rownames(mat))\n",
    "        rownames(fdat) <- rownames(mat)\n",
    "        \n",
    "        sca <- FromMatrix(\n",
    "            exprsArray = as.matrix(mat),\n",
    "            cData = meta,\n",
    "            fData = fdat)\n",
    "\n",
    "        zlm_res <- quietly(\n",
    "            zlm(formula = formula(~ cohort.cohortGuid + sample.sampleKitGuid + cdr), \n",
    "                sca = sca,\n",
    "                method = \"bayesglm\",\n",
    "                ebayes = TRUE,\n",
    "                parallel = FALSE\n",
    "            )\n",
    "        )\n",
    "\n",
    "        zlm_res\n",
    "    }\n",
    ")"
   ]
  },
  {
   "cell_type": "markdown",
   "id": "0ea77cd6-12b4-40bd-bded-22fdc62a1482",
   "metadata": {},
   "source": [
    "### Extract results based on cohort"
   ]
  },
  {
   "cell_type": "code",
   "execution_count": 45,
   "id": "bf0d727f-88b1-460c-a6f7-9a8a1ec5e1f6",
   "metadata": {},
   "outputs": [],
   "source": [
    "lrt_list <- \"cohort.cohortGuidBR2\"\n",
    "\n",
    "mast_res_list <- future_map2(\n",
    "    zlm_res_list,\n",
    "    lrt_list,\n",
    "    function(zlm_res, lrt_vars) {\n",
    "        suppressMessages(\n",
    "            MAST::summary(\n",
    "                object = zlm_res, \n",
    "                doLRT = lrt_vars)\n",
    "        )\n",
    "    }\n",
    ")"
   ]
  },
  {
   "cell_type": "markdown",
   "id": "283fb663-bc41-4a09-9a35-bd650f5a20eb",
   "metadata": {},
   "source": [
    "### Format results"
   ]
  },
  {
   "cell_type": "code",
   "execution_count": 46,
   "id": "74458423-a04b-4c19-9eb1-094825b79db5",
   "metadata": {},
   "outputs": [],
   "source": [
    "formatted_mast_res <- map2(\n",
    "    mast_res_list,\n",
    "    comp_list,\n",
    "    function(res, comp) {\n",
    "        all_res <- res$datatable %>%\n",
    "          as.data.frame() %>%\n",
    "          filter(contrast == \"cohort.cohortGuidBR2\")\n",
    "\n",
    "        split_res <- split(all_res, all_res$component)\n",
    "\n",
    "        split_res$H %>%\n",
    "          filter(contrast == \"cohort.cohortGuidBR2\") %>%\n",
    "          dplyr::rename(\n",
    "              gene = primerid,\n",
    "              nomP = `Pr(>Chisq)`) %>%\n",
    "          mutate(\n",
    "              fg = \"BR2\",\n",
    "              bg = \"UP1\",\n",
    "              aifi_cell_type = comp$aifi_cell_type,\n",
    "              n_sample = comp$n_sample,\n",
    "              logFC = split_res$logFC$coef,\n",
    "              coef_C = split_res$C$coef,\n",
    "              coef_D = split_res$D$coef) %>%\n",
    "          select(aifi_cell_type, fg, bg, n_sample,\n",
    "                 gene, coef_C, coef_D, logFC, nomP) %>%\n",
    "          mutate(adjP = p.adjust(nomP, method = \"BH\"))\n",
    "                 \n",
    "    }\n",
    ")"
   ]
  },
  {
   "cell_type": "code",
   "execution_count": 47,
   "id": "3b4babf3-039b-42ba-9d70-1e8ced89d966",
   "metadata": {},
   "outputs": [],
   "source": [
    "all_res <- do.call(rbind, formatted_mast_res)"
   ]
  },
  {
   "cell_type": "code",
   "execution_count": 48,
   "id": "ef767f7e-d2b7-4d05-835a-e96782e4131d",
   "metadata": {},
   "outputs": [
    {
     "data": {
      "text/html": [
       "<table class=\"dataframe\">\n",
       "<caption>A data.frame: 6 × 10</caption>\n",
       "<thead>\n",
       "\t<tr><th></th><th scope=col>aifi_cell_type</th><th scope=col>fg</th><th scope=col>bg</th><th scope=col>n_sample</th><th scope=col>gene</th><th scope=col>coef_C</th><th scope=col>coef_D</th><th scope=col>logFC</th><th scope=col>nomP</th><th scope=col>adjP</th></tr>\n",
       "\t<tr><th></th><th scope=col>&lt;chr&gt;</th><th scope=col>&lt;chr&gt;</th><th scope=col>&lt;chr&gt;</th><th scope=col>&lt;int&gt;</th><th scope=col>&lt;chr&gt;</th><th scope=col>&lt;dbl&gt;</th><th scope=col>&lt;dbl&gt;</th><th scope=col>&lt;dbl&gt;</th><th scope=col>&lt;dbl&gt;</th><th scope=col>&lt;dbl&gt;</th></tr>\n",
       "</thead>\n",
       "<tbody>\n",
       "\t<tr><th scope=row>1</th><td>t_cd4_cm</td><td>BR2</td><td>UP1</td><td>1312</td><td>A2M    </td><td> 0.06400018</td><td>-0.01892151</td><td> 0.007134301</td><td>0.34500126</td><td>0.5584305</td></tr>\n",
       "\t<tr><th scope=row>2</th><td>t_cd4_cm</td><td>BR2</td><td>UP1</td><td>1312</td><td>A2M-AS1</td><td>-0.07074156</td><td>-0.24139603</td><td>-0.021597095</td><td>0.08162303</td><td>0.2308264</td></tr>\n",
       "\t<tr><th scope=row>3</th><td>t_cd4_cm</td><td>BR2</td><td>UP1</td><td>1312</td><td>AAGAB  </td><td>-0.01773918</td><td>-0.07900734</td><td>-0.015881872</td><td>0.71228523</td><td>0.8283927</td></tr>\n",
       "\t<tr><th scope=row>4</th><td>t_cd4_cm</td><td>BR2</td><td>UP1</td><td>1312</td><td>AAK1   </td><td>-0.01074648</td><td>-0.22092179</td><td>-0.050144302</td><td>0.23676595</td><td>0.4501032</td></tr>\n",
       "\t<tr><th scope=row>5</th><td>t_cd4_cm</td><td>BR2</td><td>UP1</td><td>1312</td><td>AAMDC  </td><td> 0.01618775</td><td> 0.03079666</td><td> 0.008204034</td><td>0.84067210</td><td>0.9067750</td></tr>\n",
       "\t<tr><th scope=row>6</th><td>t_cd4_cm</td><td>BR2</td><td>UP1</td><td>1312</td><td>AAR2   </td><td>-0.04863600</td><td>-0.45211817</td><td>-0.029831443</td><td>0.02945882</td><td>0.1161347</td></tr>\n",
       "</tbody>\n",
       "</table>\n"
      ],
      "text/latex": [
       "A data.frame: 6 × 10\n",
       "\\begin{tabular}{r|llllllllll}\n",
       "  & aifi\\_cell\\_type & fg & bg & n\\_sample & gene & coef\\_C & coef\\_D & logFC & nomP & adjP\\\\\n",
       "  & <chr> & <chr> & <chr> & <int> & <chr> & <dbl> & <dbl> & <dbl> & <dbl> & <dbl>\\\\\n",
       "\\hline\n",
       "\t1 & t\\_cd4\\_cm & BR2 & UP1 & 1312 & A2M     &  0.06400018 & -0.01892151 &  0.007134301 & 0.34500126 & 0.5584305\\\\\n",
       "\t2 & t\\_cd4\\_cm & BR2 & UP1 & 1312 & A2M-AS1 & -0.07074156 & -0.24139603 & -0.021597095 & 0.08162303 & 0.2308264\\\\\n",
       "\t3 & t\\_cd4\\_cm & BR2 & UP1 & 1312 & AAGAB   & -0.01773918 & -0.07900734 & -0.015881872 & 0.71228523 & 0.8283927\\\\\n",
       "\t4 & t\\_cd4\\_cm & BR2 & UP1 & 1312 & AAK1    & -0.01074648 & -0.22092179 & -0.050144302 & 0.23676595 & 0.4501032\\\\\n",
       "\t5 & t\\_cd4\\_cm & BR2 & UP1 & 1312 & AAMDC   &  0.01618775 &  0.03079666 &  0.008204034 & 0.84067210 & 0.9067750\\\\\n",
       "\t6 & t\\_cd4\\_cm & BR2 & UP1 & 1312 & AAR2    & -0.04863600 & -0.45211817 & -0.029831443 & 0.02945882 & 0.1161347\\\\\n",
       "\\end{tabular}\n"
      ],
      "text/markdown": [
       "\n",
       "A data.frame: 6 × 10\n",
       "\n",
       "| <!--/--> | aifi_cell_type &lt;chr&gt; | fg &lt;chr&gt; | bg &lt;chr&gt; | n_sample &lt;int&gt; | gene &lt;chr&gt; | coef_C &lt;dbl&gt; | coef_D &lt;dbl&gt; | logFC &lt;dbl&gt; | nomP &lt;dbl&gt; | adjP &lt;dbl&gt; |\n",
       "|---|---|---|---|---|---|---|---|---|---|---|\n",
       "| 1 | t_cd4_cm | BR2 | UP1 | 1312 | A2M     |  0.06400018 | -0.01892151 |  0.007134301 | 0.34500126 | 0.5584305 |\n",
       "| 2 | t_cd4_cm | BR2 | UP1 | 1312 | A2M-AS1 | -0.07074156 | -0.24139603 | -0.021597095 | 0.08162303 | 0.2308264 |\n",
       "| 3 | t_cd4_cm | BR2 | UP1 | 1312 | AAGAB   | -0.01773918 | -0.07900734 | -0.015881872 | 0.71228523 | 0.8283927 |\n",
       "| 4 | t_cd4_cm | BR2 | UP1 | 1312 | AAK1    | -0.01074648 | -0.22092179 | -0.050144302 | 0.23676595 | 0.4501032 |\n",
       "| 5 | t_cd4_cm | BR2 | UP1 | 1312 | AAMDC   |  0.01618775 |  0.03079666 |  0.008204034 | 0.84067210 | 0.9067750 |\n",
       "| 6 | t_cd4_cm | BR2 | UP1 | 1312 | AAR2    | -0.04863600 | -0.45211817 | -0.029831443 | 0.02945882 | 0.1161347 |\n",
       "\n"
      ],
      "text/plain": [
       "  aifi_cell_type fg  bg  n_sample gene    coef_C      coef_D      logFC       \n",
       "1 t_cd4_cm       BR2 UP1 1312     A2M      0.06400018 -0.01892151  0.007134301\n",
       "2 t_cd4_cm       BR2 UP1 1312     A2M-AS1 -0.07074156 -0.24139603 -0.021597095\n",
       "3 t_cd4_cm       BR2 UP1 1312     AAGAB   -0.01773918 -0.07900734 -0.015881872\n",
       "4 t_cd4_cm       BR2 UP1 1312     AAK1    -0.01074648 -0.22092179 -0.050144302\n",
       "5 t_cd4_cm       BR2 UP1 1312     AAMDC    0.01618775  0.03079666  0.008204034\n",
       "6 t_cd4_cm       BR2 UP1 1312     AAR2    -0.04863600 -0.45211817 -0.029831443\n",
       "  nomP       adjP     \n",
       "1 0.34500126 0.5584305\n",
       "2 0.08162303 0.2308264\n",
       "3 0.71228523 0.8283927\n",
       "4 0.23676595 0.4501032\n",
       "5 0.84067210 0.9067750\n",
       "6 0.02945882 0.1161347"
      ]
     },
     "metadata": {},
     "output_type": "display_data"
    }
   ],
   "source": [
    "head(all_res)"
   ]
  },
  {
   "cell_type": "code",
   "execution_count": 49,
   "id": "5ee24e45-90ca-4b93-8147-b40cf3f59147",
   "metadata": {},
   "outputs": [],
   "source": [
    "sig_res <- all_res %>%\n",
    "  filter(adjP < 0.01)"
   ]
  },
  {
   "cell_type": "code",
   "execution_count": 50,
   "id": "f9f25246-efc8-47e4-8a83-a83b6debfed4",
   "metadata": {},
   "outputs": [
    {
     "data": {
      "text/plain": [
       "\n",
       "    t_cd4_cm     t_cd4_em  t_cd4_naive   t_cd4_treg t_cd8_memory  t_cd8_naive \n",
       "         916          235         1376          105          402           55 "
      ]
     },
     "metadata": {},
     "output_type": "display_data"
    }
   ],
   "source": [
    "table(sig_res$aifi_cell_type)"
   ]
  },
  {
   "cell_type": "code",
   "execution_count": 52,
   "id": "fb31fe3a-2946-4b12-b0a7-bb7e60c59e80",
   "metadata": {},
   "outputs": [
    {
     "data": {
      "text/html": [
       "<table class=\"dataframe\">\n",
       "<caption>A data.frame: 2 × 10</caption>\n",
       "<thead>\n",
       "\t<tr><th scope=col>aifi_cell_type</th><th scope=col>fg</th><th scope=col>bg</th><th scope=col>n_sample</th><th scope=col>gene</th><th scope=col>coef_C</th><th scope=col>coef_D</th><th scope=col>logFC</th><th scope=col>nomP</th><th scope=col>adjP</th></tr>\n",
       "\t<tr><th scope=col>&lt;chr&gt;</th><th scope=col>&lt;chr&gt;</th><th scope=col>&lt;chr&gt;</th><th scope=col>&lt;int&gt;</th><th scope=col>&lt;chr&gt;</th><th scope=col>&lt;dbl&gt;</th><th scope=col>&lt;dbl&gt;</th><th scope=col>&lt;dbl&gt;</th><th scope=col>&lt;dbl&gt;</th><th scope=col>&lt;dbl&gt;</th></tr>\n",
       "</thead>\n",
       "<tbody>\n",
       "\t<tr><td>t_cd4_naive</td><td>BR2</td><td>UP1</td><td>2369</td><td>SOX4 </td><td>0.01367318</td><td>-1.938523</td><td>-0.1756116</td><td> 3.531259e-42</td><td> 3.405924e-40</td></tr>\n",
       "\t<tr><td>t_cd4_naive</td><td>BR2</td><td>UP1</td><td>2369</td><td>TSHZ2</td><td>0.23779632</td><td> 1.523180</td><td> 1.0966906</td><td>1.601622e-149</td><td>2.193581e-146</td></tr>\n",
       "</tbody>\n",
       "</table>\n"
      ],
      "text/latex": [
       "A data.frame: 2 × 10\n",
       "\\begin{tabular}{llllllllll}\n",
       " aifi\\_cell\\_type & fg & bg & n\\_sample & gene & coef\\_C & coef\\_D & logFC & nomP & adjP\\\\\n",
       " <chr> & <chr> & <chr> & <int> & <chr> & <dbl> & <dbl> & <dbl> & <dbl> & <dbl>\\\\\n",
       "\\hline\n",
       "\t t\\_cd4\\_naive & BR2 & UP1 & 2369 & SOX4  & 0.01367318 & -1.938523 & -0.1756116 &  3.531259e-42 &  3.405924e-40\\\\\n",
       "\t t\\_cd4\\_naive & BR2 & UP1 & 2369 & TSHZ2 & 0.23779632 &  1.523180 &  1.0966906 & 1.601622e-149 & 2.193581e-146\\\\\n",
       "\\end{tabular}\n"
      ],
      "text/markdown": [
       "\n",
       "A data.frame: 2 × 10\n",
       "\n",
       "| aifi_cell_type &lt;chr&gt; | fg &lt;chr&gt; | bg &lt;chr&gt; | n_sample &lt;int&gt; | gene &lt;chr&gt; | coef_C &lt;dbl&gt; | coef_D &lt;dbl&gt; | logFC &lt;dbl&gt; | nomP &lt;dbl&gt; | adjP &lt;dbl&gt; |\n",
       "|---|---|---|---|---|---|---|---|---|---|\n",
       "| t_cd4_naive | BR2 | UP1 | 2369 | SOX4  | 0.01367318 | -1.938523 | -0.1756116 |  3.531259e-42 |  3.405924e-40 |\n",
       "| t_cd4_naive | BR2 | UP1 | 2369 | TSHZ2 | 0.23779632 |  1.523180 |  1.0966906 | 1.601622e-149 | 2.193581e-146 |\n",
       "\n"
      ],
      "text/plain": [
       "  aifi_cell_type fg  bg  n_sample gene  coef_C     coef_D    logFC     \n",
       "1 t_cd4_naive    BR2 UP1 2369     SOX4  0.01367318 -1.938523 -0.1756116\n",
       "2 t_cd4_naive    BR2 UP1 2369     TSHZ2 0.23779632  1.523180  1.0966906\n",
       "  nomP          adjP         \n",
       "1  3.531259e-42  3.405924e-40\n",
       "2 1.601622e-149 2.193581e-146"
      ]
     },
     "metadata": {},
     "output_type": "display_data"
    }
   ],
   "source": [
    "sig_res %>%\n",
    "  filter(gene %in% c(\"SOX4\", \"TSHZ2\"))"
   ]
  },
  {
   "cell_type": "markdown",
   "id": "f60fa92a-b665-421f-8110-30bf38f57669",
   "metadata": {},
   "source": [
    "## Generate output files\n",
    "\n",
    "For downstream use, we'll output the table of aifi_cell_type labels for each cell."
   ]
  },
  {
   "cell_type": "code",
   "execution_count": 53,
   "id": "de8eaa34-85d5-4b53-8a91-8e17dfe7adb6",
   "metadata": {
    "scrolled": true
   },
   "outputs": [
    {
     "name": "stderr",
     "output_type": "stream",
     "text": [
      "Warning message in dir.create(\"output\"):\n",
      "“'output' already exists”\n"
     ]
    }
   ],
   "source": [
    "dir.create(\"output\")"
   ]
  },
  {
   "cell_type": "code",
   "execution_count": 54,
   "id": "2b51af12-90d5-477c-86ea-163aa6a576ce",
   "metadata": {
    "editable": true,
    "slideshow": {
     "slide_type": ""
    },
    "tags": []
   },
   "outputs": [],
   "source": [
    "write.csv(all_res,\n",
    "          paste0(\"output/all_mast_deg_\",Sys.Date(),\".csv\"),\n",
    "          quote = FALSE, row.names = FALSE)"
   ]
  },
  {
   "cell_type": "markdown",
   "id": "75da57da-0d55-48f0-841c-fe3adc0a69b8",
   "metadata": {},
   "source": [
    "## Store results in HISE\n",
    "\n",
    "Finally, we store the output file in our Collaboration Space for later retrieval and use. We need to provide the UUID for our Collaboration Space (aka `studySpaceId`), as well as a title for this step in our analysis process.\n",
    "\n",
    "The hise function `uploadFiles()` also requires the FileIDs from the original fileset for reference."
   ]
  },
  {
   "cell_type": "code",
   "execution_count": 55,
   "id": "1396ce5a-d677-4671-a3df-593822d9b8d5",
   "metadata": {},
   "outputs": [],
   "source": [
    "study_space_uuid <- \"00a53fa5-18da-4333-84cb-3cc0b0761201\"\n",
    "title <- paste(\"TEA-seq demo MAST DEG\", Sys.Date())"
   ]
  },
  {
   "cell_type": "code",
   "execution_count": 57,
   "id": "30bf2c15-ef01-4547-a576-610296e19f0b",
   "metadata": {},
   "outputs": [
    {
     "data": {
      "text/html": [
       "'waspish_leopard'"
      ],
      "text/latex": [
       "'waspish\\_leopard'"
      ],
      "text/markdown": [
       "'waspish_leopard'"
      ],
      "text/plain": [
       "[1] \"waspish_leopard\""
      ]
     },
     "metadata": {},
     "output_type": "display_data"
    }
   ],
   "source": [
    "search_id <- ids::adjective_animal()\n",
    "search_id"
   ]
  },
  {
   "cell_type": "code",
   "execution_count": 60,
   "id": "6481662c-0df9-484e-9ede-15607eb30f1c",
   "metadata": {},
   "outputs": [],
   "source": [
    "in_list <- file_uuids\n",
    "in_list[\"meta_uuid\"] <- meta_uuid"
   ]
  },
  {
   "cell_type": "code",
   "execution_count": 61,
   "id": "666d589f-cb5e-442b-86d4-69db23eb60d4",
   "metadata": {},
   "outputs": [
    {
     "data": {
      "text/html": [
       "<dl>\n",
       "\t<dt>$cd4_so</dt>\n",
       "\t\t<dd>'50756d6d-8216-4eba-8245-0a41d4f44e7a'</dd>\n",
       "\t<dt>$cd8_so</dt>\n",
       "\t\t<dd>'057a9e09-1f9d-4684-b00f-7739209ffe17'</dd>\n",
       "\t<dt>$cd4_labels</dt>\n",
       "\t\t<dd>'56da30a4-3ac1-4c2b-8ca8-5e1d58cc6986'</dd>\n",
       "\t<dt>$cd8_labels</dt>\n",
       "\t\t<dd>'d369cedf-18c3-4579-83ea-a0daab116e3c'</dd>\n",
       "\t<dt>$meta_uuid</dt>\n",
       "\t\t<dd>'5e3115d4-9207-4020-8e3a-3792dd28ea6b'</dd>\n",
       "</dl>\n"
      ],
      "text/latex": [
       "\\begin{description}\n",
       "\\item[\\$cd4\\_so] '50756d6d-8216-4eba-8245-0a41d4f44e7a'\n",
       "\\item[\\$cd8\\_so] '057a9e09-1f9d-4684-b00f-7739209ffe17'\n",
       "\\item[\\$cd4\\_labels] '56da30a4-3ac1-4c2b-8ca8-5e1d58cc6986'\n",
       "\\item[\\$cd8\\_labels] 'd369cedf-18c3-4579-83ea-a0daab116e3c'\n",
       "\\item[\\$meta\\_uuid] '5e3115d4-9207-4020-8e3a-3792dd28ea6b'\n",
       "\\end{description}\n"
      ],
      "text/markdown": [
       "$cd4_so\n",
       ":   '50756d6d-8216-4eba-8245-0a41d4f44e7a'\n",
       "$cd8_so\n",
       ":   '057a9e09-1f9d-4684-b00f-7739209ffe17'\n",
       "$cd4_labels\n",
       ":   '56da30a4-3ac1-4c2b-8ca8-5e1d58cc6986'\n",
       "$cd8_labels\n",
       ":   'd369cedf-18c3-4579-83ea-a0daab116e3c'\n",
       "$meta_uuid\n",
       ":   '5e3115d4-9207-4020-8e3a-3792dd28ea6b'\n",
       "\n",
       "\n"
      ],
      "text/plain": [
       "$cd4_so\n",
       "[1] \"50756d6d-8216-4eba-8245-0a41d4f44e7a\"\n",
       "\n",
       "$cd8_so\n",
       "[1] \"057a9e09-1f9d-4684-b00f-7739209ffe17\"\n",
       "\n",
       "$cd4_labels\n",
       "[1] \"56da30a4-3ac1-4c2b-8ca8-5e1d58cc6986\"\n",
       "\n",
       "$cd8_labels\n",
       "[1] \"d369cedf-18c3-4579-83ea-a0daab116e3c\"\n",
       "\n",
       "$meta_uuid\n",
       "[1] \"5e3115d4-9207-4020-8e3a-3792dd28ea6b\"\n"
      ]
     },
     "metadata": {},
     "output_type": "display_data"
    }
   ],
   "source": [
    "in_list"
   ]
  },
  {
   "cell_type": "code",
   "execution_count": 58,
   "id": "bb38211a-fed4-47bc-a4d6-799bce5e8cd3",
   "metadata": {},
   "outputs": [],
   "source": [
    "out_list <- list(paste0(\"output/all_mast_deg_\",Sys.Date(),\".csv\"))"
   ]
  },
  {
   "cell_type": "code",
   "execution_count": 59,
   "id": "4bd4f6f2-3e38-4a3d-a192-1c84130720e5",
   "metadata": {},
   "outputs": [
    {
     "data": {
      "text/html": [
       "<ol>\n",
       "\t<li>'output/all_mast_deg_2024-07-01.csv'</li>\n",
       "</ol>\n"
      ],
      "text/latex": [
       "\\begin{enumerate}\n",
       "\\item 'output/all\\_mast\\_deg\\_2024-07-01.csv'\n",
       "\\end{enumerate}\n"
      ],
      "text/markdown": [
       "1. 'output/all_mast_deg_2024-07-01.csv'\n",
       "\n",
       "\n"
      ],
      "text/plain": [
       "[[1]]\n",
       "[1] \"output/all_mast_deg_2024-07-01.csv\"\n"
      ]
     },
     "metadata": {},
     "output_type": "display_data"
    }
   ],
   "source": [
    "out_list"
   ]
  },
  {
   "cell_type": "code",
   "execution_count": 65,
   "id": "6a589325-106c-4baf-851d-f94ef9fb9c9e",
   "metadata": {},
   "outputs": [
    {
     "name": "stderr",
     "output_type": "stream",
     "text": [
      "You are trying to upload the following files:  output/all_mast_deg_2024-07-01.csv\n",
      "\n"
     ]
    },
    {
     "name": "stdin",
     "output_type": "stream",
     "text": [
      "(y/n) y\n"
     ]
    },
    {
     "data": {
      "text/html": [
       "<dl>\n",
       "\t<dt>$files</dt>\n",
       "\t\t<dd><ol>\n",
       "\t<li>'output/all_mast_deg_2024-07-01.csv'</li>\n",
       "</ol>\n",
       "</dd>\n",
       "\t<dt>$traceId</dt>\n",
       "\t\t<dd>'76aac3a8-6d18-4024-839d-0bf9821b07f1'</dd>\n",
       "</dl>\n"
      ],
      "text/latex": [
       "\\begin{description}\n",
       "\\item[\\$files] \\begin{enumerate}\n",
       "\\item 'output/all\\_mast\\_deg\\_2024-07-01.csv'\n",
       "\\end{enumerate}\n",
       "\n",
       "\\item[\\$traceId] '76aac3a8-6d18-4024-839d-0bf9821b07f1'\n",
       "\\end{description}\n"
      ],
      "text/markdown": [
       "$files\n",
       ":   1. 'output/all_mast_deg_2024-07-01.csv'\n",
       "\n",
       "\n",
       "\n",
       "$traceId\n",
       ":   '76aac3a8-6d18-4024-839d-0bf9821b07f1'\n",
       "\n",
       "\n"
      ],
      "text/plain": [
       "$files\n",
       "$files[[1]]\n",
       "[1] \"output/all_mast_deg_2024-07-01.csv\"\n",
       "\n",
       "\n",
       "$traceId\n",
       "[1] \"76aac3a8-6d18-4024-839d-0bf9821b07f1\"\n"
      ]
     },
     "metadata": {},
     "output_type": "display_data"
    }
   ],
   "source": [
    "uploadFiles(\n",
    "    files = out_list,\n",
    "    studySpaceId = study_space_uuid,\n",
    "    title = title,\n",
    "    inputFileIds = file_uuids,\n",
    "    destination = search_id\n",
    ")"
   ]
  },
  {
   "cell_type": "code",
   "execution_count": 66,
   "id": "13ee8e53-ed75-464f-a54c-392fe2f7da8e",
   "metadata": {},
   "outputs": [
    {
     "data": {
      "text/plain": [
       "R version 4.3.2 (2023-10-31)\n",
       "Platform: x86_64-conda-linux-gnu (64-bit)\n",
       "Running under: Ubuntu 20.04.6 LTS\n",
       "\n",
       "Matrix products: default\n",
       "BLAS/LAPACK: /opt/conda/lib/libopenblasp-r0.3.25.so;  LAPACK version 3.11.0\n",
       "\n",
       "locale:\n",
       " [1] LC_CTYPE=C.UTF-8       LC_NUMERIC=C           LC_TIME=C.UTF-8       \n",
       " [4] LC_COLLATE=C.UTF-8     LC_MONETARY=C.UTF-8    LC_MESSAGES=C.UTF-8   \n",
       " [7] LC_PAPER=C.UTF-8       LC_NAME=C              LC_ADDRESS=C          \n",
       "[10] LC_TELEPHONE=C         LC_MEASUREMENT=C.UTF-8 LC_IDENTIFICATION=C   \n",
       "\n",
       "time zone: Etc/UTC\n",
       "tzcode source: system (glibc)\n",
       "\n",
       "attached base packages:\n",
       "[1] stats4    stats     graphics  grDevices utils     datasets  methods  \n",
       "[8] base     \n",
       "\n",
       "other attached packages:\n",
       " [1] MAST_1.28.0                 SingleCellExperiment_1.24.0\n",
       " [3] SummarizedExperiment_1.32.0 Biobase_2.62.0             \n",
       " [5] GenomicRanges_1.54.1        GenomeInfoDb_1.38.5        \n",
       " [7] IRanges_2.36.0              S4Vectors_0.40.2           \n",
       " [9] BiocGenerics_0.48.1         MatrixGenerics_1.14.0      \n",
       "[11] matrixStats_1.2.0           Seurat_5.0.1               \n",
       "[13] SeuratObject_5.0.1          sp_2.1-2                   \n",
       "[15] ggplot2_3.5.0               dplyr_1.1.4                \n",
       "[17] furrr_0.3.1                 future_1.33.1              \n",
       "[19] purrr_1.0.2                 hise_2.16.0                \n",
       "\n",
       "loaded via a namespace (and not attached):\n",
       "  [1] RColorBrewer_1.1-3      jsonlite_1.8.8          magrittr_2.0.3         \n",
       "  [4] spatstat.utils_3.0-4    zlibbioc_1.48.0         vctrs_0.6.5            \n",
       "  [7] ROCR_1.0-11             spatstat.explore_3.2-5  RCurl_1.98-1.14        \n",
       " [10] base64enc_0.1-3         S4Arrays_1.2.0          htmltools_0.5.8        \n",
       " [13] curl_5.1.0              SparseArray_1.2.3       sctransform_0.4.1      \n",
       " [16] parallelly_1.36.0       KernSmooth_2.23-22      htmlwidgets_1.6.4      \n",
       " [19] ica_1.0-3               plyr_1.8.9              plotly_4.10.3          \n",
       " [22] zoo_1.8-12              uuid_1.2-0              igraph_1.6.0           \n",
       " [25] mime_0.12               lifecycle_1.0.4         pkgconfig_2.0.3        \n",
       " [28] Matrix_1.6-4            R6_2.5.1                fastmap_1.1.1          \n",
       " [31] GenomeInfoDbData_1.2.11 fitdistrplus_1.1-11     shiny_1.8.0            \n",
       " [34] digest_0.6.35           colorspace_2.1-0        patchwork_1.1.3        \n",
       " [37] tensor_1.5              RSpectra_0.16-1         irlba_2.3.5.1          \n",
       " [40] progressr_0.14.0        fansi_1.0.6             spatstat.sparse_3.0-3  \n",
       " [43] httr_1.4.7              polyclip_1.10-6         abind_1.4-5            \n",
       " [46] compiler_4.3.2          withr_3.0.0             fastDummies_1.7.3      \n",
       " [49] MASS_7.3-60             ids_1.0.1               DelayedArray_0.28.0    \n",
       " [52] tools_4.3.2             lmtest_0.9-40           httpuv_1.6.15          \n",
       " [55] future.apply_1.11.1     goftest_1.2-3           glue_1.7.0             \n",
       " [58] nlme_3.1-164            promises_1.2.1          grid_4.3.2             \n",
       " [61] pbdZMQ_0.3-10           Rtsne_0.17              cluster_2.1.6          \n",
       " [64] reshape2_1.4.4          generics_0.1.3          gtable_0.3.4           \n",
       " [67] spatstat.data_3.0-3     tidyr_1.3.0             data.table_1.15.4      \n",
       " [70] XVector_0.42.0          utf8_1.2.4              spatstat.geom_3.2-7    \n",
       " [73] RcppAnnoy_0.0.21        ggrepel_0.9.4           RANN_2.6.1             \n",
       " [76] pillar_1.9.0            stringr_1.5.1           spam_2.10-0            \n",
       " [79] IRdisplay_1.1           RcppHNSW_0.5.0          later_1.3.2            \n",
       " [82] splines_4.3.2           lattice_0.22-5          survival_3.5-7         \n",
       " [85] deldir_2.0-2            tidyselect_1.2.0        miniUI_0.1.1.1         \n",
       " [88] pbapply_1.7-2           gridExtra_2.3           scattermore_1.2        \n",
       " [91] stringi_1.8.3           lazyeval_0.2.2          evaluate_0.23          \n",
       " [94] codetools_0.2-19        tibble_3.2.1            cli_3.6.2              \n",
       " [97] uwot_0.1.16             IRkernel_1.3.2          xtable_1.8-4           \n",
       "[100] reticulate_1.34.0       repr_1.1.7              munsell_0.5.1          \n",
       "[103] Rcpp_1.0.12             globals_0.16.2          spatstat.random_3.2-2  \n",
       "[106] png_0.1-8               parallel_4.3.2          ellipsis_0.3.2         \n",
       "[109] assertthat_0.2.1        dotCall64_1.1-1         bitops_1.0-7           \n",
       "[112] listenv_0.9.0           viridisLite_0.4.2       scales_1.3.0           \n",
       "[115] ggridges_0.5.5          leiden_0.4.3.1          crayon_1.5.2           \n",
       "[118] rlang_1.1.3             cowplot_1.1.2          "
      ]
     },
     "metadata": {},
     "output_type": "display_data"
    }
   ],
   "source": [
    "sessionInfo()"
   ]
  },
  {
   "cell_type": "code",
   "execution_count": null,
   "id": "5889e27b-b7f3-476d-b58e-7db4015fa170",
   "metadata": {},
   "outputs": [],
   "source": []
  }
 ],
 "metadata": {
  "environment": {
   "kernel": "ir4",
   "name": ".m121",
   "type": "gcloud",
   "uri": "us-docker.pkg.dev/deeplearning-platform-release/gcr.io/:m121"
  },
  "kernelspec": {
   "display_name": "R 4",
   "language": "R",
   "name": "ir4"
  },
  "language_info": {
   "codemirror_mode": "r",
   "file_extension": ".r",
   "mimetype": "text/x-r-source",
   "name": "R",
   "pygments_lexer": "r",
   "version": "4.3.2"
  }
 },
 "nbformat": 4,
 "nbformat_minor": 5
}
