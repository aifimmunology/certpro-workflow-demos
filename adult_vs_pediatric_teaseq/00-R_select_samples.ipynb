{
 "cells": [
  {
   "cell_type": "markdown",
   "id": "60bbffbe-3836-4670-84d4-e6dd38edf68d",
   "metadata": {},
   "source": [
    "# Select data for analysis from HISE"
   ]
  },
  {
   "cell_type": "markdown",
   "id": "4b71074f-9b52-4376-9b98-640c1843ff03",
   "metadata": {},
   "source": [
    "## Load libraries"
   ]
  },
  {
   "cell_type": "code",
   "execution_count": 1,
   "id": "080ffb5e-61ac-4363-baa8-40ea9588f917",
   "metadata": {},
   "outputs": [],
   "source": [
    "quiet_library <- function(...) { suppressPackageStartupMessages(library(...)) }\n",
    "quiet_library(hise)\n",
    "quiet_library(dplyr)\n",
    "quiet_library(purrr)"
   ]
  },
  {
   "cell_type": "markdown",
   "id": "119e581c-b0b3-4e55-b821-778ce39039d9",
   "metadata": {},
   "source": [
    "## Find files in Project Store"
   ]
  },
  {
   "cell_type": "code",
   "execution_count": 2,
   "id": "37b23807-651e-44ef-94cf-fa6bf092afff",
   "metadata": {},
   "outputs": [],
   "source": [
    "project_store <- \"PedvsSenior\"\n",
    "project_files <- listFilesInProjectStores(\n",
    "    storesToList = list(project_store),\n",
    "    toDF = TRUE\n",
    ")"
   ]
  },
  {
   "cell_type": "code",
   "execution_count": 3,
   "id": "0969a3ae-633d-4c23-94af-75731653b73c",
   "metadata": {},
   "outputs": [],
   "source": [
    "project_files <- project_files %>%\n",
    "  filter(grepl(\"B065\", name))\n",
    "h5_files <- project_files %>%\n",
    "  filter(grepl(\".h5$\", name)) %>%\n",
    "  filter(!grepl(\"coverage\", name))\n",
    "arrow_files <- project_files %>%\n",
    "  filter(grepl(\".arrow$\", name)) %>%\n",
    "  filter(!grepl(\"UPenn\", name))"
   ]
  },
  {
   "cell_type": "code",
   "execution_count": 4,
   "id": "06eb60c5-001b-4ff5-b7b4-f7e3c12c25e2",
   "metadata": {},
   "outputs": [],
   "source": [
    "h5_files <- h5_files %>%\n",
    "  mutate(specimen.specimenGuid = sub(\".+P1_(.+).h5\", \"\\\\1\", name)) %>%\n",
    "  filter(!grepl(\"IMM\", specimen.specimenGuid)) %>%\n",
    "  mutate(sample.sampleKitGuid = sub(\"PB([0-9]+)-.+\", \"KT\\\\1\", specimen.specimenGuid)) %>%\n",
    "  rename(h5_file = name) %>%\n",
    "  rename(h5_uuid = id) %>%\n",
    "  select(sample.sampleKitGuid, specimen.specimenGuid, h5_file, h5_uuid)"
   ]
  },
  {
   "cell_type": "code",
   "execution_count": 5,
   "id": "a3245145-e955-48e1-b6c3-f1215baa2285",
   "metadata": {},
   "outputs": [],
   "source": [
    "arrow_files <- arrow_files %>%\n",
    "  mutate(specimen.specimenGuid = sub(\".+P1_(.+).arrow\", \"\\\\1\", name)) %>%\n",
    "  filter(!grepl(\"IMM\", specimen.specimenGuid)) %>%\n",
    "  mutate(sample.sampleKitGuid = sub(\"PB([0-9]+)-.+\", \"KT\\\\1\", specimen.specimenGuid)) %>%\n",
    "  rename(arrow_file = name) %>%\n",
    "  rename(arrow_uuid = id) %>%\n",
    "  select(sample.sampleKitGuid, specimen.specimenGuid, arrow_file, arrow_uuid)"
   ]
  },
  {
   "cell_type": "code",
   "execution_count": 6,
   "id": "2082753e-19ef-44ad-9a2d-b813e8b75776",
   "metadata": {},
   "outputs": [
    {
     "name": "stderr",
     "output_type": "stream",
     "text": [
      "\u001b[1m\u001b[22mJoining with `by = join_by(sample.sampleKitGuid, specimen.specimenGuid)`\n"
     ]
    }
   ],
   "source": [
    "file_meta <- h5_files %>%\n",
    "  left_join(arrow_files)"
   ]
  },
  {
   "cell_type": "markdown",
   "id": "81836910-bd89-45b3-ab2a-b0ca0b7d2228",
   "metadata": {},
   "source": [
    "## Get sample descriptors from HISE"
   ]
  },
  {
   "cell_type": "code",
   "execution_count": 7,
   "id": "a44e1e91-91be-4209-b2d0-90a0c9df9fa8",
   "metadata": {},
   "outputs": [],
   "source": [
    "desc <- getFileDescriptors(\n",
    "    fileType = \"scRNA-seq-labeled\",\n",
    "    filter = list(\n",
    "        sample.sampleKitGuid = as.list(file_meta$sample.sampleKitGuid)\n",
    "    )\n",
    ")\n",
    "desc <- fileDescToDataframe(desc)"
   ]
  },
  {
   "cell_type": "code",
   "execution_count": 8,
   "id": "328324ea-20fc-4d94-a8b0-f1ac218b67f2",
   "metadata": {},
   "outputs": [],
   "source": [
    "desc <- desc %>%\n",
    "  select(sample.sampleKitGuid, subject.subjectGuid, cohort.cohortGuid)"
   ]
  },
  {
   "cell_type": "code",
   "execution_count": 9,
   "id": "b5e8897d-f127-42dd-8f3d-3d8c113d2bef",
   "metadata": {},
   "outputs": [
    {
     "name": "stderr",
     "output_type": "stream",
     "text": [
      "\u001b[1m\u001b[22mJoining with `by = join_by(sample.sampleKitGuid)`\n"
     ]
    }
   ],
   "source": [
    "file_meta <- file_meta %>%\n",
    "  left_join(desc)"
   ]
  },
  {
   "cell_type": "code",
   "execution_count": 10,
   "id": "24e55290-135a-4187-9161-256e2bd1000f",
   "metadata": {},
   "outputs": [],
   "source": [
    "file_meta <- unique(file_meta)"
   ]
  },
  {
   "cell_type": "code",
   "execution_count": 11,
   "id": "d1b711f5-4708-4922-9ac1-c897d1164758",
   "metadata": {},
   "outputs": [
    {
     "data": {
      "text/html": [
       "<table class=\"dataframe\">\n",
       "<caption>A data.frame: 8 × 8</caption>\n",
       "<thead>\n",
       "\t<tr><th></th><th scope=col>sample.sampleKitGuid</th><th scope=col>specimen.specimenGuid</th><th scope=col>h5_file</th><th scope=col>h5_uuid</th><th scope=col>arrow_file</th><th scope=col>arrow_uuid</th><th scope=col>subject.subjectGuid</th><th scope=col>cohort.cohortGuid</th></tr>\n",
       "\t<tr><th></th><th scope=col>&lt;chr&gt;</th><th scope=col>&lt;chr&gt;</th><th scope=col>&lt;chr&gt;</th><th scope=col>&lt;chr&gt;</th><th scope=col>&lt;chr&gt;</th><th scope=col>&lt;chr&gt;</th><th scope=col>&lt;chr&gt;</th><th scope=col>&lt;chr&gt;</th></tr>\n",
       "</thead>\n",
       "<tbody>\n",
       "\t<tr><th scope=row>1</th><td>KT00173</td><td>PB00173-02</td><td>AIFI-2021-07-30T16:42:27.518704481Z/B065-P1_PB00173-02.h5</td><td>7039b8ef-3a7c-454f-b49c-34ef30c99cf4</td><td>AIFI-2021-08-02T18:25:15.596486061Z/B065-P1_PB00173-02.arrow</td><td>23fb03d0-e059-4cfe-999a-6e0c55cddc03</td><td>UP1006</td><td>UP1</td></tr>\n",
       "\t<tr><th scope=row>3</th><td>KT00192</td><td>PB00192-02</td><td>AIFI-2021-07-30T16:42:35.831864645Z/B065-P1_PB00192-02.h5</td><td>af026062-42d4-488a-a98f-d44af095dd5e</td><td>AIFI-2021-08-02T17:32:31.316293195Z/B065-P1_PB00192-02.arrow</td><td>bc30186c-2a66-4155-b862-aff510d5db64</td><td>UP1007</td><td>UP1</td></tr>\n",
       "\t<tr><th scope=row>5</th><td>KT00197</td><td>PB00197-02</td><td>AIFI-2021-07-30T16:42:37.174285768Z/B065-P1_PB00197-02.h5</td><td>6786fe4f-c3c5-4472-b261-6372ca6156ee</td><td>AIFI-2021-08-02T17:31:07.836247339Z/B065-P1_PB00197-02.arrow</td><td>0edf63a2-f2f6-4117-9791-ddcf79131397</td><td>UP1010</td><td>UP1</td></tr>\n",
       "\t<tr><th scope=row>6</th><td>KT00396</td><td>PB00396-03</td><td>AIFI-2021-07-30T16:43:42.188225625Z/B065-P1_PB00396-03.h5</td><td>827b5e1e-4f81-4837-ad08-53d4ed949048</td><td>AIFI-2021-08-02T18:18:01.30995505Z/B065-P1_PB00396-03.arrow </td><td>b7d197bf-0c7b-4f97-b78d-d8e34a92b01b</td><td>BR2015</td><td>BR2</td></tr>\n",
       "\t<tr><th scope=row>7</th><td>KT00199</td><td>PB00199-02</td><td>AIFI-2021-07-30T16:43:47.370402584Z/B065-P1_PB00199-02.h5</td><td>77e30e6a-5b61-41c4-89cb-44d5ec5363b4</td><td>AIFI-2021-08-02T17:26:12.202501522Z/B065-P1_PB00199-02.arrow</td><td>cdb98f87-3e6d-421d-957f-e7e3141cb221</td><td>UP1001</td><td>UP1</td></tr>\n",
       "\t<tr><th scope=row>8</th><td>KT00395</td><td>PB00395-02</td><td>AIFI-2021-07-30T16:44:28.930119166Z/B065-P1_PB00395-02.h5</td><td>592005f1-79ec-41e2-8336-e3129ef211ab</td><td>AIFI-2021-08-02T19:30:36.861837569Z/B065-P1_PB00395-02.arrow</td><td>d127a0b0-0582-4289-b91b-9fc97083a20b</td><td>BR2005</td><td>BR2</td></tr>\n",
       "\t<tr><th scope=row>9</th><td>KT00559</td><td>PB00559-02</td><td>AIFI-2021-07-30T16:44:41.799313949Z/B065-P1_PB00559-02.h5</td><td>f8399812-35b8-47ed-a6f2-181e768c4fd3</td><td>AIFI-2021-08-02T19:03:36.434101708Z/B065-P1_PB00559-02.arrow</td><td>4b219032-fbeb-4d37-a7b0-4ffe0ac04894</td><td>BR2042</td><td>BR2</td></tr>\n",
       "\t<tr><th scope=row>10</th><td>KT00593</td><td>PB00593-04</td><td>AIFI-2021-07-30T16:44:45.65518697Z/B065-P1_PB00593-04.h5 </td><td>d0bff33a-a145-4373-8495-31b7f3ed47df</td><td>AIFI-2021-08-02T18:16:00.681553771Z/B065-P1_PB00593-04.arrow</td><td>ad1e4bb7-739f-4ec9-9c93-3fc0cb3f06bc</td><td>BR2002</td><td>BR2</td></tr>\n",
       "</tbody>\n",
       "</table>\n"
      ],
      "text/latex": [
       "A data.frame: 8 × 8\n",
       "\\begin{tabular}{r|llllllll}\n",
       "  & sample.sampleKitGuid & specimen.specimenGuid & h5\\_file & h5\\_uuid & arrow\\_file & arrow\\_uuid & subject.subjectGuid & cohort.cohortGuid\\\\\n",
       "  & <chr> & <chr> & <chr> & <chr> & <chr> & <chr> & <chr> & <chr>\\\\\n",
       "\\hline\n",
       "\t1 & KT00173 & PB00173-02 & AIFI-2021-07-30T16:42:27.518704481Z/B065-P1\\_PB00173-02.h5 & 7039b8ef-3a7c-454f-b49c-34ef30c99cf4 & AIFI-2021-08-02T18:25:15.596486061Z/B065-P1\\_PB00173-02.arrow & 23fb03d0-e059-4cfe-999a-6e0c55cddc03 & UP1006 & UP1\\\\\n",
       "\t3 & KT00192 & PB00192-02 & AIFI-2021-07-30T16:42:35.831864645Z/B065-P1\\_PB00192-02.h5 & af026062-42d4-488a-a98f-d44af095dd5e & AIFI-2021-08-02T17:32:31.316293195Z/B065-P1\\_PB00192-02.arrow & bc30186c-2a66-4155-b862-aff510d5db64 & UP1007 & UP1\\\\\n",
       "\t5 & KT00197 & PB00197-02 & AIFI-2021-07-30T16:42:37.174285768Z/B065-P1\\_PB00197-02.h5 & 6786fe4f-c3c5-4472-b261-6372ca6156ee & AIFI-2021-08-02T17:31:07.836247339Z/B065-P1\\_PB00197-02.arrow & 0edf63a2-f2f6-4117-9791-ddcf79131397 & UP1010 & UP1\\\\\n",
       "\t6 & KT00396 & PB00396-03 & AIFI-2021-07-30T16:43:42.188225625Z/B065-P1\\_PB00396-03.h5 & 827b5e1e-4f81-4837-ad08-53d4ed949048 & AIFI-2021-08-02T18:18:01.30995505Z/B065-P1\\_PB00396-03.arrow  & b7d197bf-0c7b-4f97-b78d-d8e34a92b01b & BR2015 & BR2\\\\\n",
       "\t7 & KT00199 & PB00199-02 & AIFI-2021-07-30T16:43:47.370402584Z/B065-P1\\_PB00199-02.h5 & 77e30e6a-5b61-41c4-89cb-44d5ec5363b4 & AIFI-2021-08-02T17:26:12.202501522Z/B065-P1\\_PB00199-02.arrow & cdb98f87-3e6d-421d-957f-e7e3141cb221 & UP1001 & UP1\\\\\n",
       "\t8 & KT00395 & PB00395-02 & AIFI-2021-07-30T16:44:28.930119166Z/B065-P1\\_PB00395-02.h5 & 592005f1-79ec-41e2-8336-e3129ef211ab & AIFI-2021-08-02T19:30:36.861837569Z/B065-P1\\_PB00395-02.arrow & d127a0b0-0582-4289-b91b-9fc97083a20b & BR2005 & BR2\\\\\n",
       "\t9 & KT00559 & PB00559-02 & AIFI-2021-07-30T16:44:41.799313949Z/B065-P1\\_PB00559-02.h5 & f8399812-35b8-47ed-a6f2-181e768c4fd3 & AIFI-2021-08-02T19:03:36.434101708Z/B065-P1\\_PB00559-02.arrow & 4b219032-fbeb-4d37-a7b0-4ffe0ac04894 & BR2042 & BR2\\\\\n",
       "\t10 & KT00593 & PB00593-04 & AIFI-2021-07-30T16:44:45.65518697Z/B065-P1\\_PB00593-04.h5  & d0bff33a-a145-4373-8495-31b7f3ed47df & AIFI-2021-08-02T18:16:00.681553771Z/B065-P1\\_PB00593-04.arrow & ad1e4bb7-739f-4ec9-9c93-3fc0cb3f06bc & BR2002 & BR2\\\\\n",
       "\\end{tabular}\n"
      ],
      "text/markdown": [
       "\n",
       "A data.frame: 8 × 8\n",
       "\n",
       "| <!--/--> | sample.sampleKitGuid &lt;chr&gt; | specimen.specimenGuid &lt;chr&gt; | h5_file &lt;chr&gt; | h5_uuid &lt;chr&gt; | arrow_file &lt;chr&gt; | arrow_uuid &lt;chr&gt; | subject.subjectGuid &lt;chr&gt; | cohort.cohortGuid &lt;chr&gt; |\n",
       "|---|---|---|---|---|---|---|---|---|\n",
       "| 1 | KT00173 | PB00173-02 | AIFI-2021-07-30T16:42:27.518704481Z/B065-P1_PB00173-02.h5 | 7039b8ef-3a7c-454f-b49c-34ef30c99cf4 | AIFI-2021-08-02T18:25:15.596486061Z/B065-P1_PB00173-02.arrow | 23fb03d0-e059-4cfe-999a-6e0c55cddc03 | UP1006 | UP1 |\n",
       "| 3 | KT00192 | PB00192-02 | AIFI-2021-07-30T16:42:35.831864645Z/B065-P1_PB00192-02.h5 | af026062-42d4-488a-a98f-d44af095dd5e | AIFI-2021-08-02T17:32:31.316293195Z/B065-P1_PB00192-02.arrow | bc30186c-2a66-4155-b862-aff510d5db64 | UP1007 | UP1 |\n",
       "| 5 | KT00197 | PB00197-02 | AIFI-2021-07-30T16:42:37.174285768Z/B065-P1_PB00197-02.h5 | 6786fe4f-c3c5-4472-b261-6372ca6156ee | AIFI-2021-08-02T17:31:07.836247339Z/B065-P1_PB00197-02.arrow | 0edf63a2-f2f6-4117-9791-ddcf79131397 | UP1010 | UP1 |\n",
       "| 6 | KT00396 | PB00396-03 | AIFI-2021-07-30T16:43:42.188225625Z/B065-P1_PB00396-03.h5 | 827b5e1e-4f81-4837-ad08-53d4ed949048 | AIFI-2021-08-02T18:18:01.30995505Z/B065-P1_PB00396-03.arrow  | b7d197bf-0c7b-4f97-b78d-d8e34a92b01b | BR2015 | BR2 |\n",
       "| 7 | KT00199 | PB00199-02 | AIFI-2021-07-30T16:43:47.370402584Z/B065-P1_PB00199-02.h5 | 77e30e6a-5b61-41c4-89cb-44d5ec5363b4 | AIFI-2021-08-02T17:26:12.202501522Z/B065-P1_PB00199-02.arrow | cdb98f87-3e6d-421d-957f-e7e3141cb221 | UP1001 | UP1 |\n",
       "| 8 | KT00395 | PB00395-02 | AIFI-2021-07-30T16:44:28.930119166Z/B065-P1_PB00395-02.h5 | 592005f1-79ec-41e2-8336-e3129ef211ab | AIFI-2021-08-02T19:30:36.861837569Z/B065-P1_PB00395-02.arrow | d127a0b0-0582-4289-b91b-9fc97083a20b | BR2005 | BR2 |\n",
       "| 9 | KT00559 | PB00559-02 | AIFI-2021-07-30T16:44:41.799313949Z/B065-P1_PB00559-02.h5 | f8399812-35b8-47ed-a6f2-181e768c4fd3 | AIFI-2021-08-02T19:03:36.434101708Z/B065-P1_PB00559-02.arrow | 4b219032-fbeb-4d37-a7b0-4ffe0ac04894 | BR2042 | BR2 |\n",
       "| 10 | KT00593 | PB00593-04 | AIFI-2021-07-30T16:44:45.65518697Z/B065-P1_PB00593-04.h5  | d0bff33a-a145-4373-8495-31b7f3ed47df | AIFI-2021-08-02T18:16:00.681553771Z/B065-P1_PB00593-04.arrow | ad1e4bb7-739f-4ec9-9c93-3fc0cb3f06bc | BR2002 | BR2 |\n",
       "\n"
      ],
      "text/plain": [
       "   sample.sampleKitGuid specimen.specimenGuid\n",
       "1  KT00173              PB00173-02           \n",
       "3  KT00192              PB00192-02           \n",
       "5  KT00197              PB00197-02           \n",
       "6  KT00396              PB00396-03           \n",
       "7  KT00199              PB00199-02           \n",
       "8  KT00395              PB00395-02           \n",
       "9  KT00559              PB00559-02           \n",
       "10 KT00593              PB00593-04           \n",
       "   h5_file                                                  \n",
       "1  AIFI-2021-07-30T16:42:27.518704481Z/B065-P1_PB00173-02.h5\n",
       "3  AIFI-2021-07-30T16:42:35.831864645Z/B065-P1_PB00192-02.h5\n",
       "5  AIFI-2021-07-30T16:42:37.174285768Z/B065-P1_PB00197-02.h5\n",
       "6  AIFI-2021-07-30T16:43:42.188225625Z/B065-P1_PB00396-03.h5\n",
       "7  AIFI-2021-07-30T16:43:47.370402584Z/B065-P1_PB00199-02.h5\n",
       "8  AIFI-2021-07-30T16:44:28.930119166Z/B065-P1_PB00395-02.h5\n",
       "9  AIFI-2021-07-30T16:44:41.799313949Z/B065-P1_PB00559-02.h5\n",
       "10 AIFI-2021-07-30T16:44:45.65518697Z/B065-P1_PB00593-04.h5 \n",
       "   h5_uuid                             \n",
       "1  7039b8ef-3a7c-454f-b49c-34ef30c99cf4\n",
       "3  af026062-42d4-488a-a98f-d44af095dd5e\n",
       "5  6786fe4f-c3c5-4472-b261-6372ca6156ee\n",
       "6  827b5e1e-4f81-4837-ad08-53d4ed949048\n",
       "7  77e30e6a-5b61-41c4-89cb-44d5ec5363b4\n",
       "8  592005f1-79ec-41e2-8336-e3129ef211ab\n",
       "9  f8399812-35b8-47ed-a6f2-181e768c4fd3\n",
       "10 d0bff33a-a145-4373-8495-31b7f3ed47df\n",
       "   arrow_file                                                  \n",
       "1  AIFI-2021-08-02T18:25:15.596486061Z/B065-P1_PB00173-02.arrow\n",
       "3  AIFI-2021-08-02T17:32:31.316293195Z/B065-P1_PB00192-02.arrow\n",
       "5  AIFI-2021-08-02T17:31:07.836247339Z/B065-P1_PB00197-02.arrow\n",
       "6  AIFI-2021-08-02T18:18:01.30995505Z/B065-P1_PB00396-03.arrow \n",
       "7  AIFI-2021-08-02T17:26:12.202501522Z/B065-P1_PB00199-02.arrow\n",
       "8  AIFI-2021-08-02T19:30:36.861837569Z/B065-P1_PB00395-02.arrow\n",
       "9  AIFI-2021-08-02T19:03:36.434101708Z/B065-P1_PB00559-02.arrow\n",
       "10 AIFI-2021-08-02T18:16:00.681553771Z/B065-P1_PB00593-04.arrow\n",
       "   arrow_uuid                           subject.subjectGuid cohort.cohortGuid\n",
       "1  23fb03d0-e059-4cfe-999a-6e0c55cddc03 UP1006              UP1              \n",
       "3  bc30186c-2a66-4155-b862-aff510d5db64 UP1007              UP1              \n",
       "5  0edf63a2-f2f6-4117-9791-ddcf79131397 UP1010              UP1              \n",
       "6  b7d197bf-0c7b-4f97-b78d-d8e34a92b01b BR2015              BR2              \n",
       "7  cdb98f87-3e6d-421d-957f-e7e3141cb221 UP1001              UP1              \n",
       "8  d127a0b0-0582-4289-b91b-9fc97083a20b BR2005              BR2              \n",
       "9  4b219032-fbeb-4d37-a7b0-4ffe0ac04894 BR2042              BR2              \n",
       "10 ad1e4bb7-739f-4ec9-9c93-3fc0cb3f06bc BR2002              BR2              "
      ]
     },
     "metadata": {},
     "output_type": "display_data"
    }
   ],
   "source": [
    "file_meta"
   ]
  },
  {
   "cell_type": "markdown",
   "id": "76ff34fa-67c1-41cc-b99f-740910157e54",
   "metadata": {},
   "source": [
    "## Cache these files so we can store their metadata"
   ]
  },
  {
   "cell_type": "raw",
   "id": "6d5a0f5d-2390-4529-b169-75367334394c",
   "metadata": {},
   "source": [
    "file_res <- map(\n",
    "    file_meta$h5_file,\n",
    "    function(file_name) {\n",
    "        downloadFileFromProjectStore(\n",
    "            storeName = project_store,\n",
    "            file_name\n",
    "        )\n",
    "    }\n",
    ")\n",
    "\n",
    "file_res <- map(\n",
    "    file_meta$arrow_file,\n",
    "    function(file_name) {\n",
    "        downloadFileFromProjectStore(\n",
    "            storeName = project_store,\n",
    "            file_name\n",
    "        )\n",
    "    }\n",
    ")"
   ]
  },
  {
   "cell_type": "code",
   "execution_count": 12,
   "id": "498f0d54-d275-44d2-9ae1-be4738de2cbf",
   "metadata": {},
   "outputs": [],
   "source": [
    "write.csv(\n",
    "    file_meta,\n",
    "    \"sample_meta.csv\",\n",
    "    row.names = FALSE,\n",
    "    quote = FALSE\n",
    ")"
   ]
  },
  {
   "cell_type": "code",
   "execution_count": 13,
   "id": "64d34157-3489-4394-ac0d-93e9efdd435c",
   "metadata": {},
   "outputs": [
    {
     "data": {
      "text/plain": [
       "R version 4.3.2 (2023-10-31)\n",
       "Platform: x86_64-conda-linux-gnu (64-bit)\n",
       "Running under: Ubuntu 20.04.6 LTS\n",
       "\n",
       "Matrix products: default\n",
       "BLAS/LAPACK: /opt/conda/lib/libopenblasp-r0.3.25.so;  LAPACK version 3.11.0\n",
       "\n",
       "locale:\n",
       " [1] LC_CTYPE=C.UTF-8       LC_NUMERIC=C           LC_TIME=C.UTF-8       \n",
       " [4] LC_COLLATE=C.UTF-8     LC_MONETARY=C.UTF-8    LC_MESSAGES=C.UTF-8   \n",
       " [7] LC_PAPER=C.UTF-8       LC_NAME=C              LC_ADDRESS=C          \n",
       "[10] LC_TELEPHONE=C         LC_MEASUREMENT=C.UTF-8 LC_IDENTIFICATION=C   \n",
       "\n",
       "time zone: Etc/UTC\n",
       "tzcode source: system (glibc)\n",
       "\n",
       "attached base packages:\n",
       "[1] stats     graphics  grDevices utils     datasets  methods   base     \n",
       "\n",
       "other attached packages:\n",
       "[1] purrr_1.0.2 dplyr_1.1.4 hise_2.16.0\n",
       "\n",
       "loaded via a namespace (and not attached):\n",
       " [1] crayon_1.5.2     vctrs_0.6.5      httr_1.4.7       cli_3.6.2       \n",
       " [5] rlang_1.1.3      stringi_1.8.3    generics_0.1.3   assertthat_0.2.1\n",
       " [9] jsonlite_1.8.8   glue_1.7.0       RCurl_1.98-1.14  plyr_1.8.9      \n",
       "[13] htmltools_0.5.8  IRdisplay_1.1    IRkernel_1.3.2   fansi_1.0.6     \n",
       "[17] evaluate_0.23    tibble_3.2.1     bitops_1.0-7     fastmap_1.1.1   \n",
       "[21] base64enc_0.1-3  lifecycle_1.0.4  stringr_1.5.1    compiler_4.3.2  \n",
       "[25] Rcpp_1.0.12      pkgconfig_2.0.3  pbdZMQ_0.3-10    digest_0.6.35   \n",
       "[29] R6_2.5.1         repr_1.1.7       tidyselect_1.2.0 utf8_1.2.4      \n",
       "[33] curl_5.1.0       pillar_1.9.0     magrittr_2.0.3   withr_3.0.0     \n",
       "[37] uuid_1.2-0       tools_4.3.2     "
      ]
     },
     "metadata": {},
     "output_type": "display_data"
    }
   ],
   "source": [
    "sessionInfo()"
   ]
  },
  {
   "cell_type": "code",
   "execution_count": null,
   "id": "87777b40-193f-4524-96d4-3a07424cbff5",
   "metadata": {},
   "outputs": [],
   "source": []
  }
 ],
 "metadata": {
  "environment": {
   "kernel": "ir4",
   "name": ".m121",
   "type": "gcloud",
   "uri": "us-docker.pkg.dev/deeplearning-platform-release/gcr.io/:m121"
  },
  "kernelspec": {
   "display_name": "R 4",
   "language": "R",
   "name": "ir4"
  },
  "language_info": {
   "codemirror_mode": "r",
   "file_extension": ".r",
   "mimetype": "text/x-r-source",
   "name": "R",
   "pygments_lexer": "r",
   "version": "4.3.2"
  }
 },
 "nbformat": 4,
 "nbformat_minor": 5
}
