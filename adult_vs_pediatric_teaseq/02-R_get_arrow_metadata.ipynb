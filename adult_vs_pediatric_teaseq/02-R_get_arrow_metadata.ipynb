{
 "cells": [
  {
   "cell_type": "markdown",
   "id": "06cb5601-bf1c-4c6a-b94a-96ba3ddc26b4",
   "metadata": {},
   "source": [
    "# Retrieve ATAC Metadata\n",
    "\n",
    "To begin our analysis, we'll retrieve the .arrow files that contain ATAC data and metadata after our TEA-seq QC and demultiplexing pipeline. We'll then extract the metadata for cells to use for cell filtering and QC plots."
   ]
  },
  {
   "cell_type": "markdown",
   "id": "2967d0cb-afdb-4c62-907d-09b7e72a9bd9",
   "metadata": {},
   "source": [
    "## Load packages\n",
    "\n",
    "hise: The Human Immune System Explorer R SDK package  \n",
    "ArchR: .arrow file handling  \n",
    "purrr: Functional programming tools  \n"
   ]
  },
  {
   "cell_type": "code",
   "execution_count": 1,
   "id": "74053ca6-2556-4a1e-a18a-7ae6a72b16a1",
   "metadata": {},
   "outputs": [
    {
     "name": "stderr",
     "output_type": "stream",
     "text": [
      "\n",
      "                                                   / |\n",
      "                                                 /    \\\n",
      "            .                                  /      |.\n",
      "            \\\\\\                              /        |.\n",
      "              \\\\\\                          /           `|.\n",
      "                \\\\\\                      /              |.\n",
      "                  \\                    /                |\\\n",
      "                  \\\\#####\\           /                  ||\n",
      "                ==###########>      /                   ||\n",
      "                 \\\\##==......\\    /                     ||\n",
      "            ______ =       =|__ /__                     ||      \\\\\\\n",
      "        ,--' ,----`-,__ ___/'  --,-`-===================##========>\n",
      "       \\               '        ##_______ _____ ,--,__,=##,__   ///\n",
      "        ,    __==    ___,-,__,--'#'  ==='      `-'    | ##,-/\n",
      "        -,____,---'       \\\\####\\\\________________,--\\\\_##,/\n",
      "           ___      .______        ______  __    __  .______      \n",
      "          /   \\     |   _  \\      /      ||  |  |  | |   _  \\     \n",
      "         /  ^  \\    |  |_)  |    |  ,----'|  |__|  | |  |_)  |    \n",
      "        /  /_\\  \\   |      /     |  |     |   __   | |      /     \n",
      "       /  _____  \\  |  |\\  \\\\___ |  `----.|  |  |  | |  |\\  \\\\___.\n",
      "      /__/     \\__\\ | _| `._____| \\______||__|  |__| | _| `._____|\n",
      "    \n",
      "\n"
     ]
    }
   ],
   "source": [
    "quiet_library <- function(...) { suppressPackageStartupMessages(library(...)) }\n",
    "quiet_library(hise)\n",
    "quiet_library(ArchR)\n",
    "quiet_library(purrr)"
   ]
  },
  {
   "cell_type": "markdown",
   "id": "c9b2868d-a8f0-4cbf-b536-10883f5f26d1",
   "metadata": {},
   "source": [
    "## Retrieve files\n",
    "\n",
    "Now, we'll use the HISE SDK package to retrieve the TEA-seq .arrow file outputs based on their file UUIDs. These will be placed in the `cache/` subdirectory by default."
   ]
  },
  {
   "cell_type": "raw",
   "id": "2f26d1bc-a8f8-4898-893f-cecca8b1b19f",
   "metadata": {},
   "source": [
    "input_file_uuids <- list(\n",
    "    \"052b769d-cbdf-41f6-8fe8-0d34564b442a\",\n",
    "    \"16e0c562-5d36-431f-bb27-b443aabc7077\",\n",
    "    \"30167a93-70a8-4c38-b615-2252dabe417e\",\n",
    "    \"57dde81e-bdaa-4138-add6-2551968672f4\",\n",
    "    \"6853fb68-fa85-43d5-9071-c5e42667a75e\",\n",
    "    \"6d8185bf-8a35-492d-a6ab-5783006b3b8e\",\n",
    "    \"8c2a93be-de53-4d6f-ae2e-ab40a356edc3\",\n",
    "    \"9ab975f8-7763-4892-96a7-a7438ecc9470\",\n",
    "    \"a56fd2ba-a055-4ff8-9ab1-69df113bc032\",\n",
    "    \"ad2f347d-e961-4a70-b294-4df83c12355d\",\n",
    "    \"c299a55a-3325-4eb3-ba8e-c8ceccafaa8c\",\n",
    "    \"ff8fe67e-cfe0-482a-bad1-aa189390a1c0\"\n",
    ")"
   ]
  },
  {
   "cell_type": "raw",
   "id": "d7d62414-f311-4aa8-872b-8b800976656f",
   "metadata": {
    "scrolled": true
   },
   "source": [
    "fres <- hise::cacheFiles(\n",
    "    input_file_uuids\n",
    ")"
   ]
  },
  {
   "cell_type": "code",
   "execution_count": 2,
   "id": "d8ab1277-e277-4e3f-addc-c926f94624b0",
   "metadata": {},
   "outputs": [],
   "source": [
    "sample_meta <- read.csv(\"sample_meta.csv\")\n",
    "project_store <- \"PedvsSenior\""
   ]
  },
  {
   "cell_type": "code",
   "execution_count": 3,
   "id": "feec29ac-14b0-42d3-9017-10f6448e4cca",
   "metadata": {},
   "outputs": [],
   "source": [
    "file_res <- map(\n",
    "    sample_meta$arrow_file,\n",
    "    function(file_name) {\n",
    "        downloadFileFromProjectStore(\n",
    "            storeName = project_store,\n",
    "            file_name\n",
    "        )\n",
    "    }\n",
    ")"
   ]
  },
  {
   "cell_type": "markdown",
   "id": "a650faec-5bfa-4770-b4ad-f0ff86742b69",
   "metadata": {},
   "source": [
    "## Assemble metadata\n",
    "\n",
    "Here, we list each of the files in `cache/` and assemble an ArchR Project to read cell metadata using the ArchR function `getCellColData()`."
   ]
  },
  {
   "cell_type": "raw",
   "id": "b7724aa1-4580-4497-88ad-3ad95ccc1f9f",
   "metadata": {},
   "source": [
    "arrow_files <- list.files(\n",
    "    \"cache/\",\n",
    "    pattern = \".arrow$\",\n",
    "    recursive = TRUE,\n",
    "    full.names = TRUE)"
   ]
  },
  {
   "cell_type": "code",
   "execution_count": 4,
   "id": "b3743f85-95d2-4bdb-abac-8cd18d91c081",
   "metadata": {},
   "outputs": [
    {
     "data": {
      "text/html": [
       "8"
      ],
      "text/latex": [
       "8"
      ],
      "text/markdown": [
       "8"
      ],
      "text/plain": [
       "[1] 8"
      ]
     },
     "metadata": {},
     "output_type": "display_data"
    }
   ],
   "source": [
    "nrow(sample_meta)"
   ]
  },
  {
   "cell_type": "code",
   "execution_count": 5,
   "id": "d488c779-18a5-4da5-a86c-78e06c59682f",
   "metadata": {},
   "outputs": [],
   "source": [
    "arrow_files <- sample_meta$arrow_file"
   ]
  },
  {
   "cell_type": "code",
   "execution_count": 6,
   "id": "fc6a39fb-f21b-4ddb-b8cd-f36ece773e7a",
   "metadata": {},
   "outputs": [
    {
     "name": "stderr",
     "output_type": "stream",
     "text": [
      "Setting default genome to Hg38.\n",
      "\n"
     ]
    }
   ],
   "source": [
    "addArchRGenome(\"hg38\")"
   ]
  },
  {
   "cell_type": "code",
   "execution_count": 7,
   "id": "6f32a918-7e0c-4e04-9ebf-0041b3506ff1",
   "metadata": {},
   "outputs": [
    {
     "name": "stderr",
     "output_type": "stream",
     "text": [
      "Using GeneAnnotation set by addArchRGenome(Hg38)!\n",
      "\n",
      "Using GeneAnnotation set by addArchRGenome(Hg38)!\n",
      "\n",
      "Validating Arrows...\n",
      "\n",
      "Getting SampleNames...\n",
      "\n",
      "1 \n",
      "2 \n",
      "3 \n",
      "4 \n",
      "5 \n",
      "6 \n",
      "7 \n",
      "8 \n",
      "\n",
      "\n",
      "Getting Cell Metadata...\n",
      "\n",
      "1 \n",
      "2 \n",
      "3 \n",
      "4 \n",
      "5 \n",
      "6 \n",
      "7 \n",
      "8 \n",
      "\n",
      "\n",
      "Merging Cell Metadata...\n",
      "\n",
      "Initializing ArchRProject...\n",
      "\n",
      "\n",
      "                                                   / |\n",
      "                                                 /    \\\n",
      "            .                                  /      |.\n",
      "            \\\\\\                              /        |.\n",
      "              \\\\\\                          /           `|.\n",
      "                \\\\\\                      /              |.\n",
      "                  \\                    /                |\\\n",
      "                  \\\\#####\\           /                  ||\n",
      "                ==###########>      /                   ||\n",
      "                 \\\\##==......\\    /                     ||\n",
      "            ______ =       =|__ /__                     ||      \\\\\\\n",
      "        ,--' ,----`-,__ ___/'  --,-`-===================##========>\n",
      "       \\               '        ##_______ _____ ,--,__,=##,__   ///\n",
      "        ,    __==    ___,-,__,--'#'  ==='      `-'    | ##,-/\n",
      "        -,____,---'       \\\\####\\\\________________,--\\\\_##,/\n",
      "           ___      .______        ______  __    __  .______      \n",
      "          /   \\     |   _  \\      /      ||  |  |  | |   _  \\     \n",
      "         /  ^  \\    |  |_)  |    |  ,----'|  |__|  | |  |_)  |    \n",
      "        /  /_\\  \\   |      /     |  |     |   __   | |      /     \n",
      "       /  _____  \\  |  |\\  \\\\___ |  `----.|  |  |  | |  |\\  \\\\___.\n",
      "      /__/     \\__\\ | _| `._____| \\______||__|  |__| | _| `._____|\n",
      "    \n",
      "\n"
     ]
    }
   ],
   "source": [
    "proj <- ArchRProject(\n",
    "    ArrowFiles = arrow_files,\n",
    "    copyArrows = FALSE\n",
    ")"
   ]
  },
  {
   "cell_type": "code",
   "execution_count": 8,
   "id": "ee73148e-fad3-436b-8a1d-f0a7954f12f8",
   "metadata": {},
   "outputs": [],
   "source": [
    "all_metadata <- getCellColData(proj)\n",
    "all_metadata <- as.data.frame(all_metadata)"
   ]
  },
  {
   "cell_type": "code",
   "execution_count": 9,
   "id": "ecaa9fd3-3409-4885-b230-26785c048301",
   "metadata": {},
   "outputs": [],
   "source": [
    "all_metadata$archr_name <- rownames(all_metadata)"
   ]
  },
  {
   "cell_type": "code",
   "execution_count": 10,
   "id": "e29518fa-4dd3-4e43-a9e1-5329b552b6aa",
   "metadata": {},
   "outputs": [
    {
     "data": {
      "text/html": [
       "<table class=\"dataframe\">\n",
       "<caption>A data.frame: 6 × 14</caption>\n",
       "<thead>\n",
       "\t<tr><th></th><th scope=col>Sample</th><th scope=col>TSSEnrichment</th><th scope=col>ReadsInTSS</th><th scope=col>ReadsInPromoter</th><th scope=col>ReadsInBlacklist</th><th scope=col>PromoterRatio</th><th scope=col>PassQC</th><th scope=col>NucleosomeRatio</th><th scope=col>nMultiFrags</th><th scope=col>nMonoFrags</th><th scope=col>nFrags</th><th scope=col>nDiFrags</th><th scope=col>BlacklistRatio</th><th scope=col>archr_name</th></tr>\n",
       "\t<tr><th></th><th scope=col>&lt;chr&gt;</th><th scope=col>&lt;dbl&gt;</th><th scope=col>&lt;dbl&gt;</th><th scope=col>&lt;dbl&gt;</th><th scope=col>&lt;dbl&gt;</th><th scope=col>&lt;dbl&gt;</th><th scope=col>&lt;dbl&gt;</th><th scope=col>&lt;dbl&gt;</th><th scope=col>&lt;dbl&gt;</th><th scope=col>&lt;dbl&gt;</th><th scope=col>&lt;dbl&gt;</th><th scope=col>&lt;dbl&gt;</th><th scope=col>&lt;dbl&gt;</th><th scope=col>&lt;chr&gt;</th></tr>\n",
       "</thead>\n",
       "<tbody>\n",
       "\t<tr><th scope=row>B065-P1_PB00173-02#b3be5d82e40911ebb24842010a19c839</th><td>B065-P1_PB00173-02</td><td> 7.921</td><td> 9032</td><td>11417</td><td>1379</td><td>0.1308659</td><td>1</td><td>1.2015242</td><td>10729</td><td>19814</td><td>43621</td><td>13078</td><td>0.015806607</td><td>B065-P1_PB00173-02#b3be5d82e40911ebb24842010a19c839</td></tr>\n",
       "\t<tr><th scope=row>B065-P1_PB00173-02#28ba8e86e40911eb903842010a19c839</th><td>B065-P1_PB00173-02</td><td>12.844</td><td>10501</td><td>11525</td><td> 453</td><td>0.1673589</td><td>1</td><td>2.0668923</td><td> 8178</td><td>11227</td><td>34432</td><td>15027</td><td>0.006578183</td><td>B065-P1_PB00173-02#28ba8e86e40911eb903842010a19c839</td></tr>\n",
       "\t<tr><th scope=row>B065-P1_PB00173-02#e4ad0042e40911eb8d8342010a19c839</th><td>B065-P1_PB00173-02</td><td>24.075</td><td>32826</td><td>30262</td><td> 527</td><td>0.4843780</td><td>1</td><td>0.9529853</td><td> 7024</td><td>15995</td><td>31238</td><td> 8219</td><td>0.008435239</td><td>B065-P1_PB00173-02#e4ad0042e40911eb8d8342010a19c839</td></tr>\n",
       "\t<tr><th scope=row>B065-P1_PB00173-02#9a1ee2d0e40811eba89d42010a19c839</th><td>B065-P1_PB00173-02</td><td>21.471</td><td>27075</td><td>25088</td><td> 469</td><td>0.4306509</td><td>1</td><td>1.0644978</td><td> 7082</td><td>14109</td><td>29128</td><td> 7937</td><td>0.008050673</td><td>B065-P1_PB00173-02#9a1ee2d0e40811eba89d42010a19c839</td></tr>\n",
       "\t<tr><th scope=row>B065-P1_PB00173-02#9cb18a10e40911ebab5242010a19c839</th><td>B065-P1_PB00173-02</td><td>25.097</td><td>29898</td><td>28581</td><td> 473</td><td>0.4923005</td><td>1</td><td>0.9477957</td><td> 6705</td><td>14903</td><td>29028</td><td> 7420</td><td>0.008147306</td><td>B065-P1_PB00173-02#9cb18a10e40911ebab5242010a19c839</td></tr>\n",
       "\t<tr><th scope=row>B065-P1_PB00173-02#880184a8e40911ebba0842010a19c839</th><td>B065-P1_PB00173-02</td><td>22.030</td><td>27947</td><td>26145</td><td> 476</td><td>0.4543164</td><td>1</td><td>1.0240574</td><td> 6863</td><td>14216</td><td>28774</td><td> 7695</td><td>0.008271356</td><td>B065-P1_PB00173-02#880184a8e40911ebba0842010a19c839</td></tr>\n",
       "</tbody>\n",
       "</table>\n"
      ],
      "text/latex": [
       "A data.frame: 6 × 14\n",
       "\\begin{tabular}{r|llllllllllllll}\n",
       "  & Sample & TSSEnrichment & ReadsInTSS & ReadsInPromoter & ReadsInBlacklist & PromoterRatio & PassQC & NucleosomeRatio & nMultiFrags & nMonoFrags & nFrags & nDiFrags & BlacklistRatio & archr\\_name\\\\\n",
       "  & <chr> & <dbl> & <dbl> & <dbl> & <dbl> & <dbl> & <dbl> & <dbl> & <dbl> & <dbl> & <dbl> & <dbl> & <dbl> & <chr>\\\\\n",
       "\\hline\n",
       "\tB065-P1\\_PB00173-02\\#b3be5d82e40911ebb24842010a19c839 & B065-P1\\_PB00173-02 &  7.921 &  9032 & 11417 & 1379 & 0.1308659 & 1 & 1.2015242 & 10729 & 19814 & 43621 & 13078 & 0.015806607 & B065-P1\\_PB00173-02\\#b3be5d82e40911ebb24842010a19c839\\\\\n",
       "\tB065-P1\\_PB00173-02\\#28ba8e86e40911eb903842010a19c839 & B065-P1\\_PB00173-02 & 12.844 & 10501 & 11525 &  453 & 0.1673589 & 1 & 2.0668923 &  8178 & 11227 & 34432 & 15027 & 0.006578183 & B065-P1\\_PB00173-02\\#28ba8e86e40911eb903842010a19c839\\\\\n",
       "\tB065-P1\\_PB00173-02\\#e4ad0042e40911eb8d8342010a19c839 & B065-P1\\_PB00173-02 & 24.075 & 32826 & 30262 &  527 & 0.4843780 & 1 & 0.9529853 &  7024 & 15995 & 31238 &  8219 & 0.008435239 & B065-P1\\_PB00173-02\\#e4ad0042e40911eb8d8342010a19c839\\\\\n",
       "\tB065-P1\\_PB00173-02\\#9a1ee2d0e40811eba89d42010a19c839 & B065-P1\\_PB00173-02 & 21.471 & 27075 & 25088 &  469 & 0.4306509 & 1 & 1.0644978 &  7082 & 14109 & 29128 &  7937 & 0.008050673 & B065-P1\\_PB00173-02\\#9a1ee2d0e40811eba89d42010a19c839\\\\\n",
       "\tB065-P1\\_PB00173-02\\#9cb18a10e40911ebab5242010a19c839 & B065-P1\\_PB00173-02 & 25.097 & 29898 & 28581 &  473 & 0.4923005 & 1 & 0.9477957 &  6705 & 14903 & 29028 &  7420 & 0.008147306 & B065-P1\\_PB00173-02\\#9cb18a10e40911ebab5242010a19c839\\\\\n",
       "\tB065-P1\\_PB00173-02\\#880184a8e40911ebba0842010a19c839 & B065-P1\\_PB00173-02 & 22.030 & 27947 & 26145 &  476 & 0.4543164 & 1 & 1.0240574 &  6863 & 14216 & 28774 &  7695 & 0.008271356 & B065-P1\\_PB00173-02\\#880184a8e40911ebba0842010a19c839\\\\\n",
       "\\end{tabular}\n"
      ],
      "text/markdown": [
       "\n",
       "A data.frame: 6 × 14\n",
       "\n",
       "| <!--/--> | Sample &lt;chr&gt; | TSSEnrichment &lt;dbl&gt; | ReadsInTSS &lt;dbl&gt; | ReadsInPromoter &lt;dbl&gt; | ReadsInBlacklist &lt;dbl&gt; | PromoterRatio &lt;dbl&gt; | PassQC &lt;dbl&gt; | NucleosomeRatio &lt;dbl&gt; | nMultiFrags &lt;dbl&gt; | nMonoFrags &lt;dbl&gt; | nFrags &lt;dbl&gt; | nDiFrags &lt;dbl&gt; | BlacklistRatio &lt;dbl&gt; | archr_name &lt;chr&gt; |\n",
       "|---|---|---|---|---|---|---|---|---|---|---|---|---|---|---|\n",
       "| B065-P1_PB00173-02#b3be5d82e40911ebb24842010a19c839 | B065-P1_PB00173-02 |  7.921 |  9032 | 11417 | 1379 | 0.1308659 | 1 | 1.2015242 | 10729 | 19814 | 43621 | 13078 | 0.015806607 | B065-P1_PB00173-02#b3be5d82e40911ebb24842010a19c839 |\n",
       "| B065-P1_PB00173-02#28ba8e86e40911eb903842010a19c839 | B065-P1_PB00173-02 | 12.844 | 10501 | 11525 |  453 | 0.1673589 | 1 | 2.0668923 |  8178 | 11227 | 34432 | 15027 | 0.006578183 | B065-P1_PB00173-02#28ba8e86e40911eb903842010a19c839 |\n",
       "| B065-P1_PB00173-02#e4ad0042e40911eb8d8342010a19c839 | B065-P1_PB00173-02 | 24.075 | 32826 | 30262 |  527 | 0.4843780 | 1 | 0.9529853 |  7024 | 15995 | 31238 |  8219 | 0.008435239 | B065-P1_PB00173-02#e4ad0042e40911eb8d8342010a19c839 |\n",
       "| B065-P1_PB00173-02#9a1ee2d0e40811eba89d42010a19c839 | B065-P1_PB00173-02 | 21.471 | 27075 | 25088 |  469 | 0.4306509 | 1 | 1.0644978 |  7082 | 14109 | 29128 |  7937 | 0.008050673 | B065-P1_PB00173-02#9a1ee2d0e40811eba89d42010a19c839 |\n",
       "| B065-P1_PB00173-02#9cb18a10e40911ebab5242010a19c839 | B065-P1_PB00173-02 | 25.097 | 29898 | 28581 |  473 | 0.4923005 | 1 | 0.9477957 |  6705 | 14903 | 29028 |  7420 | 0.008147306 | B065-P1_PB00173-02#9cb18a10e40911ebab5242010a19c839 |\n",
       "| B065-P1_PB00173-02#880184a8e40911ebba0842010a19c839 | B065-P1_PB00173-02 | 22.030 | 27947 | 26145 |  476 | 0.4543164 | 1 | 1.0240574 |  6863 | 14216 | 28774 |  7695 | 0.008271356 | B065-P1_PB00173-02#880184a8e40911ebba0842010a19c839 |\n",
       "\n"
      ],
      "text/plain": [
       "                                                    Sample            \n",
       "B065-P1_PB00173-02#b3be5d82e40911ebb24842010a19c839 B065-P1_PB00173-02\n",
       "B065-P1_PB00173-02#28ba8e86e40911eb903842010a19c839 B065-P1_PB00173-02\n",
       "B065-P1_PB00173-02#e4ad0042e40911eb8d8342010a19c839 B065-P1_PB00173-02\n",
       "B065-P1_PB00173-02#9a1ee2d0e40811eba89d42010a19c839 B065-P1_PB00173-02\n",
       "B065-P1_PB00173-02#9cb18a10e40911ebab5242010a19c839 B065-P1_PB00173-02\n",
       "B065-P1_PB00173-02#880184a8e40911ebba0842010a19c839 B065-P1_PB00173-02\n",
       "                                                    TSSEnrichment ReadsInTSS\n",
       "B065-P1_PB00173-02#b3be5d82e40911ebb24842010a19c839  7.921         9032     \n",
       "B065-P1_PB00173-02#28ba8e86e40911eb903842010a19c839 12.844        10501     \n",
       "B065-P1_PB00173-02#e4ad0042e40911eb8d8342010a19c839 24.075        32826     \n",
       "B065-P1_PB00173-02#9a1ee2d0e40811eba89d42010a19c839 21.471        27075     \n",
       "B065-P1_PB00173-02#9cb18a10e40911ebab5242010a19c839 25.097        29898     \n",
       "B065-P1_PB00173-02#880184a8e40911ebba0842010a19c839 22.030        27947     \n",
       "                                                    ReadsInPromoter\n",
       "B065-P1_PB00173-02#b3be5d82e40911ebb24842010a19c839 11417          \n",
       "B065-P1_PB00173-02#28ba8e86e40911eb903842010a19c839 11525          \n",
       "B065-P1_PB00173-02#e4ad0042e40911eb8d8342010a19c839 30262          \n",
       "B065-P1_PB00173-02#9a1ee2d0e40811eba89d42010a19c839 25088          \n",
       "B065-P1_PB00173-02#9cb18a10e40911ebab5242010a19c839 28581          \n",
       "B065-P1_PB00173-02#880184a8e40911ebba0842010a19c839 26145          \n",
       "                                                    ReadsInBlacklist\n",
       "B065-P1_PB00173-02#b3be5d82e40911ebb24842010a19c839 1379            \n",
       "B065-P1_PB00173-02#28ba8e86e40911eb903842010a19c839  453            \n",
       "B065-P1_PB00173-02#e4ad0042e40911eb8d8342010a19c839  527            \n",
       "B065-P1_PB00173-02#9a1ee2d0e40811eba89d42010a19c839  469            \n",
       "B065-P1_PB00173-02#9cb18a10e40911ebab5242010a19c839  473            \n",
       "B065-P1_PB00173-02#880184a8e40911ebba0842010a19c839  476            \n",
       "                                                    PromoterRatio PassQC\n",
       "B065-P1_PB00173-02#b3be5d82e40911ebb24842010a19c839 0.1308659     1     \n",
       "B065-P1_PB00173-02#28ba8e86e40911eb903842010a19c839 0.1673589     1     \n",
       "B065-P1_PB00173-02#e4ad0042e40911eb8d8342010a19c839 0.4843780     1     \n",
       "B065-P1_PB00173-02#9a1ee2d0e40811eba89d42010a19c839 0.4306509     1     \n",
       "B065-P1_PB00173-02#9cb18a10e40911ebab5242010a19c839 0.4923005     1     \n",
       "B065-P1_PB00173-02#880184a8e40911ebba0842010a19c839 0.4543164     1     \n",
       "                                                    NucleosomeRatio nMultiFrags\n",
       "B065-P1_PB00173-02#b3be5d82e40911ebb24842010a19c839 1.2015242       10729      \n",
       "B065-P1_PB00173-02#28ba8e86e40911eb903842010a19c839 2.0668923        8178      \n",
       "B065-P1_PB00173-02#e4ad0042e40911eb8d8342010a19c839 0.9529853        7024      \n",
       "B065-P1_PB00173-02#9a1ee2d0e40811eba89d42010a19c839 1.0644978        7082      \n",
       "B065-P1_PB00173-02#9cb18a10e40911ebab5242010a19c839 0.9477957        6705      \n",
       "B065-P1_PB00173-02#880184a8e40911ebba0842010a19c839 1.0240574        6863      \n",
       "                                                    nMonoFrags nFrags nDiFrags\n",
       "B065-P1_PB00173-02#b3be5d82e40911ebb24842010a19c839 19814      43621  13078   \n",
       "B065-P1_PB00173-02#28ba8e86e40911eb903842010a19c839 11227      34432  15027   \n",
       "B065-P1_PB00173-02#e4ad0042e40911eb8d8342010a19c839 15995      31238   8219   \n",
       "B065-P1_PB00173-02#9a1ee2d0e40811eba89d42010a19c839 14109      29128   7937   \n",
       "B065-P1_PB00173-02#9cb18a10e40911ebab5242010a19c839 14903      29028   7420   \n",
       "B065-P1_PB00173-02#880184a8e40911ebba0842010a19c839 14216      28774   7695   \n",
       "                                                    BlacklistRatio\n",
       "B065-P1_PB00173-02#b3be5d82e40911ebb24842010a19c839 0.015806607   \n",
       "B065-P1_PB00173-02#28ba8e86e40911eb903842010a19c839 0.006578183   \n",
       "B065-P1_PB00173-02#e4ad0042e40911eb8d8342010a19c839 0.008435239   \n",
       "B065-P1_PB00173-02#9a1ee2d0e40811eba89d42010a19c839 0.008050673   \n",
       "B065-P1_PB00173-02#9cb18a10e40911ebab5242010a19c839 0.008147306   \n",
       "B065-P1_PB00173-02#880184a8e40911ebba0842010a19c839 0.008271356   \n",
       "                                                    archr_name                                         \n",
       "B065-P1_PB00173-02#b3be5d82e40911ebb24842010a19c839 B065-P1_PB00173-02#b3be5d82e40911ebb24842010a19c839\n",
       "B065-P1_PB00173-02#28ba8e86e40911eb903842010a19c839 B065-P1_PB00173-02#28ba8e86e40911eb903842010a19c839\n",
       "B065-P1_PB00173-02#e4ad0042e40911eb8d8342010a19c839 B065-P1_PB00173-02#e4ad0042e40911eb8d8342010a19c839\n",
       "B065-P1_PB00173-02#9a1ee2d0e40811eba89d42010a19c839 B065-P1_PB00173-02#9a1ee2d0e40811eba89d42010a19c839\n",
       "B065-P1_PB00173-02#9cb18a10e40911ebab5242010a19c839 B065-P1_PB00173-02#9cb18a10e40911ebab5242010a19c839\n",
       "B065-P1_PB00173-02#880184a8e40911ebba0842010a19c839 B065-P1_PB00173-02#880184a8e40911ebba0842010a19c839"
      ]
     },
     "metadata": {},
     "output_type": "display_data"
    }
   ],
   "source": [
    "head(all_metadata)"
   ]
  },
  {
   "cell_type": "markdown",
   "id": "f9efbcbb-38cb-4aa4-bbd2-c18a98955bc2",
   "metadata": {},
   "source": [
    "## Write output file\n",
    "\n",
    "Write the metadata as a .csv for later use. We remove `row.names` and set `quote = FALSE` to simplify the outputs and increase compatibility with other tools."
   ]
  },
  {
   "cell_type": "code",
   "execution_count": 11,
   "id": "ac05a12a-e410-4f34-8436-19b0a27c3d50",
   "metadata": {},
   "outputs": [
    {
     "name": "stderr",
     "output_type": "stream",
     "text": [
      "Warning message in dir.create(\"output\"):\n",
      "“'output' already exists”\n"
     ]
    }
   ],
   "source": [
    "dir.create(\"output\")"
   ]
  },
  {
   "cell_type": "code",
   "execution_count": 12,
   "id": "b3234c3e-3429-43db-8878-be282260a7ef",
   "metadata": {},
   "outputs": [],
   "source": [
    "write.csv(\n",
    "    all_metadata,\n",
    "    \"output/atac_cell_metadata.csv\",\n",
    "    row.names = FALSE,\n",
    "    quote = FALSE\n",
    ")"
   ]
  },
  {
   "cell_type": "markdown",
   "id": "2e7a7f73-792c-4f01-82b1-e6f8d7d1f737",
   "metadata": {},
   "source": [
    "## Store results in HISE\n",
    "\n",
    "Finally, we store the output file in our Collaboration Space for later retrieval and use. We need to provide the UUID for our Collaboration Space (aka `studySpaceId`), as well as a title for this step in our analysis process.\n",
    "\n",
    "The hise function `uploadFiles()` also requires the FileIDs from the original fileset for reference, which we assembled above when files were retrieved (`input_file_uuids`)"
   ]
  },
  {
   "cell_type": "code",
   "execution_count": 13,
   "id": "6d2aaf10-3220-4578-8b7e-eafa8bd63b28",
   "metadata": {},
   "outputs": [],
   "source": [
    "study_space_uuid <- \"4743c203-6af9-469c-b71d-0f66e3518820\"\n",
    "title <- \"TEA-seq unfiltered A cell metadata\""
   ]
  },
  {
   "cell_type": "code",
   "execution_count": 14,
   "id": "f2b86fdf-fe61-41ba-a84b-c57ed317b5d7",
   "metadata": {},
   "outputs": [
    {
     "data": {
      "text/html": [
       "'semipeaceful_ninebandedarmadillo'"
      ],
      "text/latex": [
       "'semipeaceful\\_ninebandedarmadillo'"
      ],
      "text/markdown": [
       "'semipeaceful_ninebandedarmadillo'"
      ],
      "text/plain": [
       "[1] \"semipeaceful_ninebandedarmadillo\""
      ]
     },
     "metadata": {},
     "output_type": "display_data"
    }
   ],
   "source": [
    "search_id <- ids::adjective_animal()\n",
    "search_id"
   ]
  },
  {
   "cell_type": "code",
   "execution_count": 15,
   "id": "91b95072-8c52-4432-a446-8722f0c74e69",
   "metadata": {},
   "outputs": [],
   "source": [
    "in_list <- as.list(sample_meta$arrow_uuid)"
   ]
  },
  {
   "cell_type": "code",
   "execution_count": 16,
   "id": "bcf68104-6c5c-4890-a3d9-1123300a4aab",
   "metadata": {},
   "outputs": [
    {
     "data": {
      "text/html": [
       "<ol>\n",
       "\t<li>'23fb03d0-e059-4cfe-999a-6e0c55cddc03'</li>\n",
       "\t<li>'bc30186c-2a66-4155-b862-aff510d5db64'</li>\n",
       "\t<li>'0edf63a2-f2f6-4117-9791-ddcf79131397'</li>\n",
       "\t<li>'b7d197bf-0c7b-4f97-b78d-d8e34a92b01b'</li>\n",
       "\t<li>'cdb98f87-3e6d-421d-957f-e7e3141cb221'</li>\n",
       "\t<li>'d127a0b0-0582-4289-b91b-9fc97083a20b'</li>\n",
       "\t<li>'4b219032-fbeb-4d37-a7b0-4ffe0ac04894'</li>\n",
       "\t<li>'ad1e4bb7-739f-4ec9-9c93-3fc0cb3f06bc'</li>\n",
       "</ol>\n"
      ],
      "text/latex": [
       "\\begin{enumerate}\n",
       "\\item '23fb03d0-e059-4cfe-999a-6e0c55cddc03'\n",
       "\\item 'bc30186c-2a66-4155-b862-aff510d5db64'\n",
       "\\item '0edf63a2-f2f6-4117-9791-ddcf79131397'\n",
       "\\item 'b7d197bf-0c7b-4f97-b78d-d8e34a92b01b'\n",
       "\\item 'cdb98f87-3e6d-421d-957f-e7e3141cb221'\n",
       "\\item 'd127a0b0-0582-4289-b91b-9fc97083a20b'\n",
       "\\item '4b219032-fbeb-4d37-a7b0-4ffe0ac04894'\n",
       "\\item 'ad1e4bb7-739f-4ec9-9c93-3fc0cb3f06bc'\n",
       "\\end{enumerate}\n"
      ],
      "text/markdown": [
       "1. '23fb03d0-e059-4cfe-999a-6e0c55cddc03'\n",
       "2. 'bc30186c-2a66-4155-b862-aff510d5db64'\n",
       "3. '0edf63a2-f2f6-4117-9791-ddcf79131397'\n",
       "4. 'b7d197bf-0c7b-4f97-b78d-d8e34a92b01b'\n",
       "5. 'cdb98f87-3e6d-421d-957f-e7e3141cb221'\n",
       "6. 'd127a0b0-0582-4289-b91b-9fc97083a20b'\n",
       "7. '4b219032-fbeb-4d37-a7b0-4ffe0ac04894'\n",
       "8. 'ad1e4bb7-739f-4ec9-9c93-3fc0cb3f06bc'\n",
       "\n",
       "\n"
      ],
      "text/plain": [
       "[[1]]\n",
       "[1] \"23fb03d0-e059-4cfe-999a-6e0c55cddc03\"\n",
       "\n",
       "[[2]]\n",
       "[1] \"bc30186c-2a66-4155-b862-aff510d5db64\"\n",
       "\n",
       "[[3]]\n",
       "[1] \"0edf63a2-f2f6-4117-9791-ddcf79131397\"\n",
       "\n",
       "[[4]]\n",
       "[1] \"b7d197bf-0c7b-4f97-b78d-d8e34a92b01b\"\n",
       "\n",
       "[[5]]\n",
       "[1] \"cdb98f87-3e6d-421d-957f-e7e3141cb221\"\n",
       "\n",
       "[[6]]\n",
       "[1] \"d127a0b0-0582-4289-b91b-9fc97083a20b\"\n",
       "\n",
       "[[7]]\n",
       "[1] \"4b219032-fbeb-4d37-a7b0-4ffe0ac04894\"\n",
       "\n",
       "[[8]]\n",
       "[1] \"ad1e4bb7-739f-4ec9-9c93-3fc0cb3f06bc\"\n"
      ]
     },
     "metadata": {},
     "output_type": "display_data"
    }
   ],
   "source": [
    "in_list"
   ]
  },
  {
   "cell_type": "code",
   "execution_count": 17,
   "id": "442e1f4f-64cf-4a61-8bdd-bd941370d546",
   "metadata": {},
   "outputs": [],
   "source": [
    "out_list <- list(\"output/atac_cell_metadata.csv\")"
   ]
  },
  {
   "cell_type": "code",
   "execution_count": 18,
   "id": "237d5313-0d5c-45a3-9df6-e722c074aec7",
   "metadata": {},
   "outputs": [
    {
     "data": {
      "text/html": [
       "<ol>\n",
       "\t<li>'output/atac_cell_metadata.csv'</li>\n",
       "</ol>\n"
      ],
      "text/latex": [
       "\\begin{enumerate}\n",
       "\\item 'output/atac\\_cell\\_metadata.csv'\n",
       "\\end{enumerate}\n"
      ],
      "text/markdown": [
       "1. 'output/atac_cell_metadata.csv'\n",
       "\n",
       "\n"
      ],
      "text/plain": [
       "[[1]]\n",
       "[1] \"output/atac_cell_metadata.csv\"\n"
      ]
     },
     "metadata": {},
     "output_type": "display_data"
    }
   ],
   "source": [
    "out_list"
   ]
  },
  {
   "cell_type": "raw",
   "id": "59d38a78-d35a-4734-8ecc-c649eacaa0fb",
   "metadata": {},
   "source": [
    "uploadFiles(\n",
    "    files = out_list,\n",
    "    studySpaceId = study_space_uuid,\n",
    "    title = title,\n",
    "    inputFileIds = in_list,\n",
    "    destination = search_id\n",
    ")"
   ]
  },
  {
   "cell_type": "code",
   "execution_count": 19,
   "id": "c42c119c-09d3-467a-845d-50c93a897466",
   "metadata": {},
   "outputs": [
    {
     "data": {
      "text/plain": [
       "R version 4.3.2 (2023-10-31)\n",
       "Platform: x86_64-conda-linux-gnu (64-bit)\n",
       "Running under: Ubuntu 20.04.6 LTS\n",
       "\n",
       "Matrix products: default\n",
       "BLAS/LAPACK: /opt/conda/lib/libopenblasp-r0.3.25.so;  LAPACK version 3.11.0\n",
       "\n",
       "locale:\n",
       " [1] LC_CTYPE=C.UTF-8       LC_NUMERIC=C           LC_TIME=C.UTF-8       \n",
       " [4] LC_COLLATE=C.UTF-8     LC_MONETARY=C.UTF-8    LC_MESSAGES=C.UTF-8   \n",
       " [7] LC_PAPER=C.UTF-8       LC_NAME=C              LC_ADDRESS=C          \n",
       "[10] LC_TELEPHONE=C         LC_MEASUREMENT=C.UTF-8 LC_IDENTIFICATION=C   \n",
       "\n",
       "time zone: Etc/UTC\n",
       "tzcode source: system (glibc)\n",
       "\n",
       "attached base packages:\n",
       "[1] stats4    grid      stats     graphics  grDevices utils     datasets \n",
       "[8] methods   base     \n",
       "\n",
       "other attached packages:\n",
       " [1] BSgenome.Hsapiens.UCSC.hg38_1.4.5 BSgenome_1.70.1                  \n",
       " [3] rtracklayer_1.62.0                BiocIO_1.12.0                    \n",
       " [5] Biostrings_2.70.1                 XVector_0.42.0                   \n",
       " [7] purrr_1.0.2                       rhdf5_2.46.1                     \n",
       " [9] SummarizedExperiment_1.32.0       Biobase_2.62.0                   \n",
       "[11] MatrixGenerics_1.14.0             Rcpp_1.0.12                      \n",
       "[13] Matrix_1.6-4                      GenomicRanges_1.54.1             \n",
       "[15] GenomeInfoDb_1.38.5               IRanges_2.36.0                   \n",
       "[17] S4Vectors_0.40.2                  BiocGenerics_0.48.1              \n",
       "[19] matrixStats_1.2.0                 data.table_1.15.4                \n",
       "[21] stringr_1.5.1                     plyr_1.8.9                       \n",
       "[23] magrittr_2.0.3                    ggplot2_3.5.0                    \n",
       "[25] gtable_0.3.4                      gtools_3.9.5                     \n",
       "[27] gridExtra_2.3                     ArchR_1.0.2                      \n",
       "[29] hise_2.16.0                      \n",
       "\n",
       "loaded via a namespace (and not attached):\n",
       " [1] rjson_0.2.21             lattice_0.22-5           rhdf5filters_1.14.1     \n",
       " [4] vctrs_0.6.5              tools_4.3.2              bitops_1.0-7            \n",
       " [7] generics_0.1.3           parallel_4.3.2           curl_5.1.0              \n",
       "[10] tibble_3.2.1             fansi_1.0.6              pkgconfig_2.0.3         \n",
       "[13] assertthat_0.2.1         uuid_1.2-0               lifecycle_1.0.4         \n",
       "[16] GenomeInfoDbData_1.2.11  compiler_4.3.2           ids_1.0.1               \n",
       "[19] Rsamtools_2.18.0         munsell_0.5.1            repr_1.1.7              \n",
       "[22] codetools_0.2-19         htmltools_0.5.8          yaml_2.3.8              \n",
       "[25] RCurl_1.98-1.14          pillar_1.9.0             crayon_1.5.2            \n",
       "[28] BiocParallel_1.36.0      DelayedArray_0.28.0      abind_1.4-5             \n",
       "[31] tidyselect_1.2.0         digest_0.6.35            stringi_1.8.3           \n",
       "[34] restfulr_0.0.15          dplyr_1.1.4              fastmap_1.1.1           \n",
       "[37] colorspace_2.1-0         cli_3.6.2                SparseArray_1.2.3       \n",
       "[40] S4Arrays_1.2.0           base64enc_0.1-3          XML_3.99-0.16           \n",
       "[43] utf8_1.2.4               IRdisplay_1.1            withr_3.0.0             \n",
       "[46] scales_1.3.0             IRkernel_1.3.2           httr_1.4.7              \n",
       "[49] pbdZMQ_0.3-10            evaluate_0.23            rlang_1.1.3             \n",
       "[52] glue_1.7.0               jsonlite_1.8.8           R6_2.5.1                \n",
       "[55] Rhdf5lib_1.24.1          GenomicAlignments_1.38.0 zlibbioc_1.48.0         "
      ]
     },
     "metadata": {},
     "output_type": "display_data"
    }
   ],
   "source": [
    "sessionInfo()"
   ]
  },
  {
   "cell_type": "code",
   "execution_count": null,
   "id": "9c1f7e99-5960-4d18-bcdf-387c5253ccd9",
   "metadata": {},
   "outputs": [],
   "source": []
  }
 ],
 "metadata": {
  "environment": {
   "kernel": "ir4",
   "name": ".m121",
   "type": "gcloud",
   "uri": "us-docker.pkg.dev/deeplearning-platform-release/gcr.io/:m121"
  },
  "kernelspec": {
   "display_name": "R 4",
   "language": "R",
   "name": "ir4"
  },
  "language_info": {
   "codemirror_mode": "r",
   "file_extension": ".r",
   "mimetype": "text/x-r-source",
   "name": "R",
   "pygments_lexer": "r",
   "version": "4.3.2"
  }
 },
 "nbformat": 4,
 "nbformat_minor": 5
}
